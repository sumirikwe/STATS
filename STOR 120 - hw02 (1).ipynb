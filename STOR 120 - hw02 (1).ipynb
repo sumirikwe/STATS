{
 "cells": [
  {
   "cell_type": "markdown",
   "metadata": {},
   "source": [
    "# STOR 120 - Homework 2: Arrays and Tables"
   ]
  },
  {
   "cell_type": "markdown",
   "metadata": {},
   "source": [
    "**Recommended Reading**: \n",
    "* [Data Types](https://www.inferentialthinking.com/chapters/04/Data_Types.html) \n",
    "* [Sequences](https://www.inferentialthinking.com/chapters/05/Sequences.html)\n",
    "* [Tables](https://www.inferentialthinking.com/chapters/06/Tables.html)"
   ]
  },
  {
   "cell_type": "markdown",
   "metadata": {},
   "source": [
    "For all problems that you must write explanations and sentences for, you **must** provide your answer in the designated space. Moreover, throughout this homework and all future ones, please be sure to not re-assign variables throughout the notebook! For example, if you use `max_temperature` in your answer to one question, do not reassign it later on. \n",
    "\n",
    "**Deadline:**\n",
    "\n",
    "This assignment is due Wednesday, August 31st at 5:00 PM. Late work will penalized as stated in the syllabus.\n",
    "\n",
    "Directly sharing answers is not okay, but discussing problems with the course staff or with other students is encouraged.\n",
    "\n",
    "You should start early so that you have time to get help if you're stuck. "
   ]
  },
  {
   "cell_type": "code",
   "execution_count": 2,
   "metadata": {},
   "outputs": [],
   "source": [
    "# Don't change this cell; just run it.\n",
    "\n",
    "import numpy as np\n",
    "from datascience import *"
   ]
  },
  {
   "cell_type": "markdown",
   "metadata": {},
   "source": [
    "## 1. Creating Arrays\n"
   ]
  },
  {
   "cell_type": "markdown",
   "metadata": {},
   "source": [
    "**Question 1.1.** Make an array called `weird_numbers` containing the following numbers (in the given order):\n",
    "\n",
    "1. 6\n",
    "2. the square root of 86\n",
    "3. -21\n",
    "4. 3 to the power of 5.4\n",
    "\n",
    "*Note:* Python lists are different/behave differently than numpy arrays. In STOR 120, we use numpy arrays, so please make an **array**, not a python list if you know how to do so.\n",
    "\n",
    "<!--\n",
    "BEGIN QUESTION\n",
    "name: q1_1\n",
    "-->"
   ]
  },
  {
   "cell_type": "code",
   "execution_count": 10,
   "metadata": {},
   "outputs": [
    {
     "data": {
      "text/plain": [
       "array([   6.        ,    9.2736185 ,  -21.        ,  377.09847446])"
      ]
     },
     "execution_count": 10,
     "metadata": {},
     "output_type": "execute_result"
    }
   ],
   "source": [
    "weird_numbers = make_array(6, math.sqrt(86), -21, 3**5.4)\n",
    "weird_numbers"
   ]
  },
  {
   "cell_type": "markdown",
   "metadata": {},
   "source": [
    "**Question 1.2.** Make an array called `book_title_words` containing the following three strings: `Eats`, `Shoots`, and `and Leaves`.\n",
    "\n",
    "<!--\n",
    "BEGIN QUESTION\n",
    "name: q1_2\n",
    "-->"
   ]
  },
  {
   "cell_type": "code",
   "execution_count": 12,
   "metadata": {},
   "outputs": [
    {
     "data": {
      "text/plain": [
       "array(['Eats', 'Shoots', 'and Leaves'],\n",
       "      dtype='<U10')"
      ]
     },
     "execution_count": 12,
     "metadata": {},
     "output_type": "execute_result"
    }
   ],
   "source": [
    "book_title_words = make_array(\"Eats\", \"Shoots\", \"and Leaves\")\n",
    "book_title_words"
   ]
  },
  {
   "cell_type": "markdown",
   "metadata": {},
   "source": [
    "Strings have a method called `join`.  `join` takes one argument, an array of strings.  It returns a single string.  Specifically, the value of `a_string.join(an_array)` is a single string that's the [concatenation](https://en.wikipedia.org/wiki/Concatenation) (\"putting together\") of all the strings in `an_array`, **except** `a_string` is inserted in between each string.\n",
    "\n",
    "**Question 1.3.** Use the array `book_title_words` and the method `join` to make two strings:\n",
    "\n",
    "1. `Eats, Shoots, and Leaves` (call this one `with_commas`)\n",
    "2. `Eats Shoots and Leaves` (call this one `without_commas`)\n",
    "\n",
    "*Hint:* If you're not sure what `join` does, first try just calling, for example, `\"foo\".join(book_title_words)` .\n",
    "\n",
    "<!--\n",
    "BEGIN QUESTION\n",
    "name: q1_3\n",
    "-->"
   ]
  },
  {
   "cell_type": "code",
   "execution_count": 16,
   "metadata": {},
   "outputs": [
    {
     "name": "stdout",
     "output_type": "stream",
     "text": [
      "with_commas: Eats,Shoots,and Leaves\n",
      "without_commas: Eats Shoots and Leaves\n"
     ]
    }
   ],
   "source": [
    "with_commas = \",\".join(book_title_words)\n",
    "without_commas = \" \".join(book_title_words)\n",
    "\n",
    "# These lines are provided just to print out your answers.\n",
    "print('with_commas:', with_commas)\n",
    "print('without_commas:', without_commas)"
   ]
  },
  {
   "cell_type": "markdown",
   "metadata": {},
   "source": [
    "## 2. Indexing Arrays\n"
   ]
  },
  {
   "cell_type": "markdown",
   "metadata": {},
   "source": [
    "These exercises give you practice accessing individual elements of arrays.  In Python (and in many programming languages), elements are accessed by *index*, so the first element is the element at index 0.\n",
    "\n",
    "*Note:* Please don't use bracket notation when indexing if you know how to (i.e. `arr[0]`), as this can yield different data type outputs than what we will be expecting."
   ]
  },
  {
   "cell_type": "markdown",
   "metadata": {},
   "source": [
    "**Question 2.1.** The cell below creates an array of some numbers.  Set `sixth_element` to the sixth element of `some_numbers`.\n",
    "\n",
    "<!--\n",
    "BEGIN QUESTION\n",
    "name: q2_1\n",
    "-->"
   ]
  },
  {
   "cell_type": "code",
   "execution_count": 22,
   "metadata": {},
   "outputs": [
    {
     "data": {
      "text/plain": [
       "-19"
      ]
     },
     "execution_count": 22,
     "metadata": {},
     "output_type": "execute_result"
    }
   ],
   "source": [
    "some_numbers = make_array(-1, -3, -6, -10, -15, -19, -24, -30)\n",
    "\n",
    "sixth_element = some_numbers.item(5)\n",
    "sixth_element"
   ]
  },
  {
   "cell_type": "markdown",
   "metadata": {},
   "source": [
    "**Question 2.2.** The next cell creates a table that displays some information about the elements of `some_numbers` and their order.  Run the cell to see the partially-completed table, then fill in the missing information (the cells that say \"Ellipsis\") by assigning `blank_a`, `blank_b`, `blank_c`, and `blank_d` to the correct elements in the table.\n",
    "\n",
    "<!--\n",
    "BEGIN QUESTION\n",
    "name: q2_2\n",
    "-->"
   ]
  },
  {
   "cell_type": "code",
   "execution_count": 26,
   "metadata": {
    "for_assignment_type": "student"
   },
   "outputs": [
    {
     "data": {
      "text/html": [
       "<table border=\"1\" class=\"dataframe\">\n",
       "    <thead>\n",
       "        <tr>\n",
       "            <th>English name for position</th> <th>Index</th> <th>Element</th>\n",
       "        </tr>\n",
       "    </thead>\n",
       "    <tbody>\n",
       "        <tr>\n",
       "            <td>first                    </td> <td>0    </td> <td>-1     </td>\n",
       "        </tr>\n",
       "        <tr>\n",
       "            <td>second                   </td> <td>1    </td> <td>-3     </td>\n",
       "        </tr>\n",
       "        <tr>\n",
       "            <td>third                    </td> <td>2    </td> <td>-6     </td>\n",
       "        </tr>\n",
       "        <tr>\n",
       "            <td>fourth                   </td> <td>3    </td> <td>-10    </td>\n",
       "        </tr>\n",
       "        <tr>\n",
       "            <td>fifth                    </td> <td>4    </td> <td>-15    </td>\n",
       "        </tr>\n",
       "        <tr>\n",
       "            <td>sixth                    </td> <td>5    </td> <td>-19    </td>\n",
       "        </tr>\n",
       "        <tr>\n",
       "            <td>seventh                  </td> <td>6    </td> <td>-24    </td>\n",
       "        </tr>\n",
       "        <tr>\n",
       "            <td>eighth                   </td> <td>7    </td> <td>-30    </td>\n",
       "        </tr>\n",
       "    </tbody>\n",
       "</table>"
      ],
      "text/plain": [
       "English name for position | Index | Element\n",
       "first                     | 0     | -1\n",
       "second                    | 1     | -3\n",
       "third                     | 2     | -6\n",
       "fourth                    | 3     | -10\n",
       "fifth                     | 4     | -15\n",
       "sixth                     | 5     | -19\n",
       "seventh                   | 6     | -24\n",
       "eighth                    | 7     | -30"
      ]
     },
     "execution_count": 26,
     "metadata": {},
     "output_type": "execute_result"
    }
   ],
   "source": [
    "blank_a = \"fourth\"\n",
    "blank_b = \"sixth\"\n",
    "blank_c = 0\n",
    "blank_d = 5\n",
    "elements_of_some_numbers = Table().with_columns(\n",
    "    \"English name for position\", make_array(\"first\", \"second\", \"third\", blank_a, \"fifth\", blank_b, \"seventh\", \"eighth\"),\n",
    "    \"Index\",                     make_array(blank_c, 1, 2, 3, 4, blank_d, 6, 7),\n",
    "    \"Element\",                   some_numbers)\n",
    "elements_of_some_numbers"
   ]
  },
  {
   "cell_type": "markdown",
   "metadata": {},
   "source": [
    "**Question 2.3.** You will sometimes want to find the *last* element of an array.  Suppose an array has 1023 elements.  What is the index of its last element?\n",
    "\n",
    "<!--\n",
    "BEGIN QUESTION\n",
    "name: q2_3\n",
    "-->"
   ]
  },
  {
   "cell_type": "code",
   "execution_count": 28,
   "metadata": {},
   "outputs": [],
   "source": [
    "index_of_last_element = 1022"
   ]
  },
  {
   "cell_type": "markdown",
   "metadata": {},
   "source": [
    "More often, you don't know the number of elements in an array, its *length*.  (For example, it might be a large dataset you found on the Internet.)  The function `len` takes a single argument, an array, and returns the `len`gth of that array (an integer).\n",
    "\n",
    "**Question 2.4.** The cell below loads an array called `primary_total_votes`. This array has the votes for each candidate or ballot choice in every contest held in North Carolina in the May 8, 2018 elections.. Calling `.column(...)` on a table returns an array of the column specified, in this case the `sum_total_votes` column of the `primary_results` table. The last element in the array is the number of votes for Randy Ollis in the election for the Yancey County Board of Commissioners. Assign this number of votes to `Ollis_votes`.\n",
    "<!--\n",
    "BEGIN QUESTION\n",
    "name: q2_4\n",
    "-->"
   ]
  },
  {
   "cell_type": "code",
   "execution_count": 42,
   "metadata": {},
   "outputs": [
    {
     "data": {
      "text/plain": [
       "834"
      ]
     },
     "execution_count": 42,
     "metadata": {},
     "output_type": "execute_result"
    }
   ],
   "source": [
    "primary_total_votes = Table.read_table(\"primary_results.csv\").column('sum_total_votes')\n",
    "\n",
    "\n",
    "Ollis_votes = primary_total_votes.item(len(primary_total_votes) - 1)\n",
    "Ollis_votes"
   ]
  },
  {
   "cell_type": "markdown",
   "metadata": {},
   "source": [
    "**Question 2.5.** The 813th, 814th, and 815th rows of the `primary_results` table show the contest, names, and votes for the three people who were running for the position of Orange County Board of Commissioners At-Large in 2018. Assign `sum_of_OC_votes` to the sum of votes for these three people using the `primary_total_votes` array.\n",
    "\n",
    "<!--\n",
    "BEGIN QUESTION\n",
    "name: q2_5\n",
    "-->"
   ]
  },
  {
   "cell_type": "code",
   "execution_count": 44,
   "metadata": {},
   "outputs": [
    {
     "data": {
      "text/plain": [
       "18192"
      ]
     },
     "execution_count": 44,
     "metadata": {},
     "output_type": "execute_result"
    }
   ],
   "source": [
    "sum_of_OC_votes = primary_total_votes.item(812) + primary_total_votes.item(813) + primary_total_votes.item(814)\n",
    "sum_of_OC_votes"
   ]
  },
  {
   "cell_type": "markdown",
   "metadata": {},
   "source": [
    "## 3. Basic Array Arithmetic\n"
   ]
  },
  {
   "cell_type": "markdown",
   "metadata": {},
   "source": [
    "**Question 3.1.** Multiply the numbers 12, 1212, 122122, and -120 by 585. Assign each variable below such that `first_product` is assigned to the result of $12 * 585$, `second_product` is assigned to the result of $1212 * 585$, and so on. \n",
    "\n",
    "For this question, **don't** use arrays.\n",
    "\n",
    "<!--\n",
    "BEGIN QUESTION\n",
    "name: q3_1\n",
    "-->"
   ]
  },
  {
   "cell_type": "code",
   "execution_count": 54,
   "metadata": {},
   "outputs": [
    {
     "name": "stdout",
     "output_type": "stream",
     "text": [
      "7020 709020 71441370 -70200\n"
     ]
    }
   ],
   "source": [
    "first_product = 12*585\n",
    "second_product = 1212*585\n",
    "third_product = 122122*585\n",
    "fourth_product = -120*585\n",
    "print(first_product, second_product, third_product, fourth_product)"
   ]
  },
  {
   "cell_type": "markdown",
   "metadata": {},
   "source": [
    "**Question 3.2.** Now, do the same calculation, but using an array called `numbers` and only a single multiplication (`*`) operator.  Store the 4 results in an array named `products`.\n",
    "\n",
    "<!--\n",
    "BEGIN QUESTION\n",
    "name: q3_2\n",
    "-->"
   ]
  },
  {
   "cell_type": "code",
   "execution_count": 58,
   "metadata": {},
   "outputs": [
    {
     "data": {
      "text/plain": [
       "array([    7020,   709020, 71441370,   -70200])"
      ]
     },
     "execution_count": 58,
     "metadata": {},
     "output_type": "execute_result"
    }
   ],
   "source": [
    "numbers = make_array(12, 1212, 122122, -120)\n",
    "products = numbers*585\n",
    "products"
   ]
  },
  {
   "cell_type": "markdown",
   "metadata": {},
   "source": [
    "**Question 3.3.** Oops, we made a typo!  Instead of 585, we wanted to multiply each number by 919.  Compute the correct products in the cell below using array arithmetic.  Notice that your job is really easy if you previously defined an array containing the 4 numbers.\n",
    "\n",
    "<!--\n",
    "BEGIN QUESTION\n",
    "name: q3_3\n",
    "-->"
   ]
  },
  {
   "cell_type": "code",
   "execution_count": 60,
   "metadata": {},
   "outputs": [
    {
     "data": {
      "text/plain": [
       "array([    11028,   1113828, 112230118,   -110280])"
      ]
     },
     "execution_count": 60,
     "metadata": {},
     "output_type": "execute_result"
    }
   ],
   "source": [
    "correct_products = numbers * 919\n",
    "correct_products"
   ]
  },
  {
   "cell_type": "markdown",
   "metadata": {},
   "source": [
    "**Question 3.4.** We've loaded an array of temperatures in the next cell. This dataset contains air quality data collected using a PurpleAir Dual Laser Air Quality Sensor located at the Chapel Hill Public Library, as well as temperature in Fahrenheit. Convert the temperatures to Celsius by first subtracting 32 from them, then multiplying the results by $\\frac{5}{9}$. Make sure to **ROUND** the final result after converting to Celsius to the nearest integer using the `np.round` function.\n",
    "\n",
    "<!--\n",
    "BEGIN QUESTION\n",
    "name: q3_4\n",
    "-->"
   ]
  },
  {
   "cell_type": "code",
   "execution_count": 68,
   "metadata": {},
   "outputs": [
    {
     "data": {
      "text/plain": [
       "array([ 31.,  31.,  30., ...,  21.,  21.,  23.])"
      ]
     },
     "execution_count": 68,
     "metadata": {},
     "output_type": "execute_result"
    }
   ],
   "source": [
    "temperatures = Table.read_table(\"Local_Air_Quality.csv\").column(\"Temp_F\")\n",
    "\n",
    "celsius_temperatures = np.round((temperatures - 32) * (5/9))\n",
    "celsius_temperatures"
   ]
  },
  {
   "cell_type": "markdown",
   "metadata": {},
   "source": [
    "## 4. North Carolina Population\n"
   ]
  },
  {
   "cell_type": "markdown",
   "metadata": {},
   "source": [
    "The cell below loads a table of estimates of the North Carolina population from 1900 to 2021. The estimates come from the [FRED Economic Data](https://fred.stlouisfed.org/series/NCPOP)."
   ]
  },
  {
   "cell_type": "code",
   "execution_count": 70,
   "metadata": {},
   "outputs": [
    {
     "data": {
      "text/html": [
       "<table border=\"1\" class=\"dataframe\">\n",
       "    <thead>\n",
       "        <tr>\n",
       "            <th>Year</th> <th>NCPOP</th>\n",
       "        </tr>\n",
       "    </thead>\n",
       "    <tbody>\n",
       "        <tr>\n",
       "            <td>1900</td> <td>1897000</td>\n",
       "        </tr>\n",
       "        <tr>\n",
       "            <td>1901</td> <td>1926000</td>\n",
       "        </tr>\n",
       "        <tr>\n",
       "            <td>1902</td> <td>1956000</td>\n",
       "        </tr>\n",
       "        <tr>\n",
       "            <td>1903</td> <td>1986000</td>\n",
       "        </tr>\n",
       "    </tbody>\n",
       "</table>\n",
       "<p>... (118 rows omitted)</p>"
      ],
      "text/plain": [
       "<IPython.core.display.HTML object>"
      ]
     },
     "metadata": {},
     "output_type": "display_data"
    }
   ],
   "source": [
    "NCpop = Table.read_table(\"NCpop.csv\")\n",
    "NCpop.show(4)"
   ]
  },
  {
   "cell_type": "markdown",
   "metadata": {},
   "source": [
    "The name `population` is assigned to an array of population estimates."
   ]
  },
  {
   "cell_type": "code",
   "execution_count": 72,
   "metadata": {},
   "outputs": [
    {
     "data": {
      "text/plain": [
       "array([ 1897000,  1926000,  1956000,  1986000,  2017000,  2051000,\n",
       "        2077000,  2105000,  2142000,  2174000,  2221000,  2276000,\n",
       "        2313000,  2362000,  2421000,  2473000,  2513000,  2546000,\n",
       "        2522000,  2535000,  2588000,  2651000,  2700000,  2761000,\n",
       "        2830000,  2895000,  2959000,  3027000,  3082000,  3133000,\n",
       "        3167000,  3184000,  3227000,  3268000,  3304000,  3323000,\n",
       "        3346000,  3385000,  3440000,  3514000,  3574000,  3589000,\n",
       "        3569000,  3654000,  3560000,  3533000,  3706000,  3769000,\n",
       "        3837000,  3911000,  4068000,  4120000,  4109000,  4120000,\n",
       "        4131000,  4242000,  4309000,  4368000,  4376000,  4458000,\n",
       "        4573000,  4663000,  4707000,  4742000,  4802000,  4863000,\n",
       "        4896000,  4952000,  5004000,  5031000,  5084411,  5203531,\n",
       "        5301150,  5389852,  5470911,  5547188,  5607964,  5685607,\n",
       "        5759492,  5823491,  5898980,  5956653,  6019101,  6077056,\n",
       "        6164006,  6253954,  6321578,  6403700,  6480594,  6565459,\n",
       "        6656987,  6748135,  6831850,  6947412,  7060959,  7185403,\n",
       "        7307658,  7428672,  7545828,  7650789,  8081614,  8210122,\n",
       "        8326201,  8422501,  8553152,  8705407,  8917270,  9118037,\n",
       "        9309449,  9449566,  9574586,  9658913,  9751810,  9846717,\n",
       "        9937295, 10037218, 10161802, 10275758, 10391358, 10501384,\n",
       "       10457177, 10551162])"
      ]
     },
     "execution_count": 72,
     "metadata": {},
     "output_type": "execute_result"
    }
   ],
   "source": [
    "population = NCpop.column(1)\n",
    "population"
   ]
  },
  {
   "cell_type": "markdown",
   "metadata": {},
   "source": [
    "In this question, you will apply some built-in Numpy functions to this array. Numpy is a module that is often used in Data Science!"
   ]
  },
  {
   "cell_type": "markdown",
   "metadata": {},
   "source": [
    "The difference function `np.diff` subtracts each element in an array from the element after it within the array. As a result, the length of the array `np.diff` returns will always be one less than the length of the input array."
   ]
  },
  {
   "cell_type": "markdown",
   "metadata": {},
   "source": [
    "The cumulative sum function `np.cumsum` outputs an array of partial sums. For example, the third element in the output array corresponds to the sum of the first, second, and third elements."
   ]
  },
  {
   "cell_type": "markdown",
   "metadata": {},
   "source": [
    "**Question 4.1.** Very often in data science, we are interested understanding how values change with time. Use `np.diff` (and other functions) to calculate the largest absolute change (positive or negative) in population between any two consecutive years.\n",
    "\n",
    "<!--\n",
    "BEGIN QUESTION\n",
    "name: q4_1\n",
    "-->"
   ]
  },
  {
   "cell_type": "code",
   "execution_count": 84,
   "metadata": {},
   "outputs": [
    {
     "data": {
      "text/plain": [
       "430825"
      ]
     },
     "execution_count": 84,
     "metadata": {},
     "output_type": "execute_result"
    }
   ],
   "source": [
    "largest_change_NC_pop = np.max(np.abs(np.diff(population)))\n",
    "largest_change_NC_pop"
   ]
  },
  {
   "cell_type": "markdown",
   "metadata": {},
   "source": [
    "**Question 4.2.** What do the values in the resulting array represent (choose one)?"
   ]
  },
  {
   "cell_type": "code",
   "execution_count": 86,
   "metadata": {},
   "outputs": [
    {
     "data": {
      "text/plain": [
       "array([  29000,   59000,   89000,  120000,  154000,  180000,  208000,\n",
       "        245000,  277000,  324000,  379000,  416000,  465000,  524000,\n",
       "        576000,  616000,  649000,  625000,  638000,  691000,  754000,\n",
       "        803000,  864000,  933000,  998000, 1062000, 1130000, 1185000,\n",
       "       1236000, 1270000, 1287000, 1330000, 1371000, 1407000, 1426000,\n",
       "       1449000, 1488000, 1543000, 1617000, 1677000, 1692000, 1672000,\n",
       "       1757000, 1663000, 1636000, 1809000, 1872000, 1940000, 2014000,\n",
       "       2171000, 2223000, 2212000, 2223000, 2234000, 2345000, 2412000,\n",
       "       2471000, 2479000, 2561000, 2676000, 2766000, 2810000, 2845000,\n",
       "       2905000, 2966000, 2999000, 3055000, 3107000, 3134000, 3187411,\n",
       "       3306531, 3404150, 3492852, 3573911, 3650188, 3710964, 3788607,\n",
       "       3862492, 3926491, 4001980, 4059653, 4122101, 4180056, 4267006,\n",
       "       4356954, 4424578, 4506700, 4583594, 4668459, 4759987, 4851135,\n",
       "       4934850, 5050412, 5163959, 5288403, 5410658, 5531672, 5648828,\n",
       "       5753789, 6184614, 6313122, 6429201, 6525501, 6656152, 6808407,\n",
       "       7020270, 7221037, 7412449, 7552566, 7677586, 7761913, 7854810,\n",
       "       7949717, 8040295, 8140218, 8264802, 8378758, 8494358, 8604384,\n",
       "       8560177, 8654162])"
      ]
     },
     "execution_count": 86,
     "metadata": {},
     "output_type": "execute_result"
    }
   ],
   "source": [
    "np.cumsum(np.diff(population))"
   ]
  },
  {
   "cell_type": "markdown",
   "metadata": {},
   "source": [
    "1) The total population change between consecutive years, starting at 1901.\n",
    "\n",
    "2) The total population change between 1900 and each later year, starting at 1901.\n",
    "\n",
    "3) The total population change between 1900 and each later year, starting inclusively at 1900.\n",
    "\n",
    "<!--\n",
    "BEGIN QUESTION\n",
    "name: q4_3\n",
    "-->"
   ]
  },
  {
   "cell_type": "code",
   "execution_count": 88,
   "metadata": {},
   "outputs": [],
   "source": [
    "# Assign cumulative_sum_answer to 1, 2, or 3\n",
    "cumulative_sum_answer = 2"
   ]
  },
  {
   "cell_type": "markdown",
   "metadata": {},
   "source": [
    "**Question 4.3.** Assign the name `smallest` to the smallest absolute (positive or negative) change in population between any two consecutive years. Assign the name `average` to the average of the changes in population between any two consecutive years. Consider that the change in population between years could be positive or negative and do not use the absolute changes when determining this average.\n",
    "\n",
    "<!--\n",
    "BEGIN QUESTION\n",
    "name: q4_3\n",
    "-->"
   ]
  },
  {
   "cell_type": "code",
   "execution_count": 156,
   "metadata": {},
   "outputs": [
    {
     "data": {
      "text/plain": [
       "(8000, 71522)"
      ]
     },
     "execution_count": 156,
     "metadata": {},
     "output_type": "execute_result"
    }
   ],
   "source": [
    "smallest = np.min(np.abs(np.diff(population)))\n",
    "average = np.abs(np.mean(np.diff(population)))\n",
    "\n",
    "\n",
    "smallest, round(average)"
   ]
  },
  {
   "cell_type": "markdown",
   "metadata": {},
   "source": [
    "**Question 4.4.** Suppose that you had expected that the North Carolina population would have increased linearly by the average change each year (calculated in the previous problem). Set `difference_from_expected` to an array with 121 elements, where the elements are the differences (in order by years) between the actual population change during each pair of consectutive years (which could be positive or negative) and the expected change (`average`). \n",
    "\n",
    "For example, since the North Carolina populations in 1900 and 1901 are 1897000 and 1926000, the first element of the `difference_from_expected` would be  $(1926000 - 1897000) - average$\n",
    "\n",
    "<!--\n",
    "BEGIN QUESTION\n",
    "name: q4_4\n",
    "-->"
   ]
  },
  {
   "cell_type": "code",
   "execution_count": 158,
   "metadata": {},
   "outputs": [
    {
     "data": {
      "text/plain": [
       "array([ -42522.,  -41522.,  -41522.,  -40522.,  -37522.,  -45522.,\n",
       "        -43522.,  -34522.,  -39522.,  -24522.,  -16522.,  -34522.,\n",
       "        -22522.,  -12522.,  -19522.,  -31522.,  -38522.,  -95522.,\n",
       "        -58522.,  -18522.,   -8522.,  -22522.,  -10522.,   -2522.,\n",
       "         -6522.,   -7522.,   -3522.,  -16522.,  -20522.,  -37522.,\n",
       "        -54522.,  -28522.,  -30522.,  -35522.,  -52522.,  -48522.,\n",
       "        -32522.,  -16522.,    2478.,  -11522.,  -56522.,  -91522.,\n",
       "         13478., -165522.,  -98522.,  101478.,   -8522.,   -3522.,\n",
       "          2478.,   85478.,  -19522.,  -82522.,  -60522.,  -60522.,\n",
       "         39478.,   -4522.,  -12522.,  -63522.,   10478.,   43478.,\n",
       "         18478.,  -27522.,  -36522.,  -11522.,  -10522.,  -38522.,\n",
       "        -15522.,  -19522.,  -44522.,  -18111.,   47598.,   26097.,\n",
       "         17180.,    9537.,    4755.,  -10746.,    6121.,    2363.,\n",
       "         -7523.,    3967.,  -13849.,   -9074.,  -13567.,   15428.,\n",
       "         18426.,   -3898.,   10600.,    5372.,   13343.,   20006.,\n",
       "         19626.,   12193.,   44040.,   42025.,   52922.,   50733.,\n",
       "         49492.,   45634.,   33439.,  359303.,   56986.,   44557.,\n",
       "         24778.,   59129.,   80733.,  140341.,  129245.,  119890.,\n",
       "         68595.,   53498.,   12805.,   21375.,   23385.,   19056.,\n",
       "         28401.,   53062.,   42434.,   44078.,   38504., -115729.,   22463.])"
      ]
     },
     "execution_count": 158,
     "metadata": {},
     "output_type": "execute_result"
    }
   ],
   "source": [
    "difference_from_expected = np.diff(population) - average\n",
    "difference_from_expected"
   ]
  },
  {
   "cell_type": "markdown",
   "metadata": {},
   "source": [
    "**Question 4.5.** Using the `difference_from_expected` array from the previous problem, At the begining of what year is the expected population change (assuming a linear increase in population by the average change) the most different (in magnitude - positive or negative) than the actual North Carolina population change over the prior year? \n",
    "\n",
    "<!--\n",
    "BEGIN QUESTION\n",
    "name: q5_4\n",
    "-->"
   ]
  },
  {
   "cell_type": "code",
   "execution_count": 160,
   "metadata": {},
   "outputs": [
    {
     "data": {
      "text/plain": [
       "359303.0"
      ]
     },
     "execution_count": 160,
     "metadata": {},
     "output_type": "execute_result"
    }
   ],
   "source": [
    "most_different = max(abs(difference_from_expected))\n",
    "diff_year = 1901\n",
    "most_different"
   ]
  },
  {
   "cell_type": "markdown",
   "metadata": {},
   "source": [
    "## 5. Tables\n"
   ]
  },
  {
   "cell_type": "markdown",
   "metadata": {},
   "source": [
    "**Question 5.1.** Suppose that a Girl Scout is selling cookies and has 14 boxes of thin mints, 8 boxes of Samoas, 17 boxes of tagalongs, and 3 boxes of S'mores. Create a table that contains this information. It should have two columns: `cookie name` and `count`.  Assign the new table to the variable `gs_cookies`.\n",
    "\n",
    "<!--\n",
    "BEGIN QUESTION\n",
    "name: q5_1\n",
    "-->"
   ]
  },
  {
   "cell_type": "code",
   "execution_count": 124,
   "metadata": {},
   "outputs": [
    {
     "data": {
      "text/html": [
       "<table border=\"1\" class=\"dataframe\">\n",
       "    <thead>\n",
       "        <tr>\n",
       "            <th>cookie name</th> <th>count</th>\n",
       "        </tr>\n",
       "    </thead>\n",
       "    <tbody>\n",
       "        <tr>\n",
       "            <td>Thin Mints </td> <td>14   </td>\n",
       "        </tr>\n",
       "        <tr>\n",
       "            <td>Samoas     </td> <td>8    </td>\n",
       "        </tr>\n",
       "        <tr>\n",
       "            <td>Tagalongs  </td> <td>17   </td>\n",
       "        </tr>\n",
       "        <tr>\n",
       "            <td>S'mores    </td> <td>3    </td>\n",
       "        </tr>\n",
       "    </tbody>\n",
       "</table>"
      ],
      "text/plain": [
       "cookie name | count\n",
       "Thin Mints  | 14\n",
       "Samoas      | 8\n",
       "Tagalongs   | 17\n",
       "S'mores     | 3"
      ]
     },
     "execution_count": 124,
     "metadata": {},
     "output_type": "execute_result"
    }
   ],
   "source": [
    "# Our solution uses 1 statement split over 3 lines.\n",
    "gs_cookies = Table().with_columns(\"cookie name\", make_array(\"Thin Mints\", \"Samoas\", \"Tagalongs\", \"S'mores\")).with_columns(\"count\", make_array(14,8,17,3))\n",
    "\n",
    "gs_cookies"
   ]
  },
  {
   "cell_type": "markdown",
   "metadata": {},
   "source": [
    "**Question 5.2.** The file `gs_inventory.csv` contains information about the cookie inventory of a  Girl Scout troop.  Each row represents the contents of one container of boxes of cookies. Load it as a table named `gs_inventory` using the `Table.read_table()` function. `Table.read_table(...)` takes one argument (data file name in string format) and returns a table.\n",
    "\n",
    "<!--\n",
    "BEGIN QUESTION\n",
    "name: q5_2\n",
    "-->"
   ]
  },
  {
   "cell_type": "code",
   "execution_count": 126,
   "metadata": {},
   "outputs": [
    {
     "data": {
      "text/html": [
       "<table border=\"1\" class=\"dataframe\">\n",
       "    <thead>\n",
       "        <tr>\n",
       "            <th>box ID</th> <th>cookie name</th> <th>count</th>\n",
       "        </tr>\n",
       "    </thead>\n",
       "    <tbody>\n",
       "        <tr>\n",
       "            <td>53686 </td> <td>samoas       </td> <td>45   </td>\n",
       "        </tr>\n",
       "        <tr>\n",
       "            <td>57181 </td> <td>tagalongs    </td> <td>123  </td>\n",
       "        </tr>\n",
       "        <tr>\n",
       "            <td>25274 </td> <td>s'mores      </td> <td>20   </td>\n",
       "        </tr>\n",
       "        <tr>\n",
       "            <td>48800 </td> <td>do-si-dos    </td> <td>35   </td>\n",
       "        </tr>\n",
       "        <tr>\n",
       "            <td>26187 </td> <td>trefoils     </td> <td>255  </td>\n",
       "        </tr>\n",
       "        <tr>\n",
       "            <td>57930 </td> <td>thin mints   </td> <td>517  </td>\n",
       "        </tr>\n",
       "        <tr>\n",
       "            <td>52357 </td> <td>lemon-ups    </td> <td>102  </td>\n",
       "        </tr>\n",
       "        <tr>\n",
       "            <td>43566 </td> <td>toffee-tastic</td> <td>40   </td>\n",
       "        </tr>\n",
       "        <tr>\n",
       "            <td>26778 </td> <td>samoas       </td> <td>226  </td>\n",
       "        </tr>\n",
       "    </tbody>\n",
       "</table>"
      ],
      "text/plain": [
       "box ID | cookie name   | count\n",
       "53686  | samoas        | 45\n",
       "57181  | tagalongs     | 123\n",
       "25274  | s'mores       | 20\n",
       "48800  | do-si-dos     | 35\n",
       "26187  | trefoils      | 255\n",
       "57930  | thin mints    | 517\n",
       "52357  | lemon-ups     | 102\n",
       "43566  | toffee-tastic | 40\n",
       "26778  | samoas        | 226"
      ]
     },
     "execution_count": 126,
     "metadata": {},
     "output_type": "execute_result"
    }
   ],
   "source": [
    "gs_inventory = Table.read_table(\"gs_inventory.csv\")\n",
    "gs_inventory"
   ]
  },
  {
   "cell_type": "markdown",
   "metadata": {},
   "source": [
    "**Question 5.3.** Does each container contain a different type of cookie? Set `all_different` to `True` if each container contains a different type of cookie or to `False` if multiple containers contain the same cookie.\n",
    "\n",
    "*Hint:* You don't have to write code to calculate the True/False value for `all_different`. Just look at the `gs_inventory` table and assign `all_different` to either `True` or `False` according to what you can see from the table in answering the question.\n",
    "\n",
    "<!--\n",
    "BEGIN QUESTION\n",
    "name: q5_3\n",
    "-->"
   ]
  },
  {
   "cell_type": "code",
   "execution_count": 128,
   "metadata": {},
   "outputs": [
    {
     "data": {
      "text/plain": [
       "False"
      ]
     },
     "execution_count": 128,
     "metadata": {},
     "output_type": "execute_result"
    }
   ],
   "source": [
    "all_different = False\n",
    "all_different"
   ]
  },
  {
   "cell_type": "markdown",
   "metadata": {},
   "source": [
    "**Question 5.4.** The file `gs_sales.csv` contains the number of boxes of cookies sold from each container over the previous weekend.  It has an extra column called \"price per box (\\$)\" that's the price *per box of cookies* for the cookies in that container.  The rows are in the same order as the `gs_inventory` table.  Load these data into a table called `gs_sales`.\n",
    "\n",
    "<!--\n",
    "BEGIN QUESTION\n",
    "name: q5_4\n",
    "-->"
   ]
  },
  {
   "cell_type": "code",
   "execution_count": 130,
   "metadata": {},
   "outputs": [
    {
     "data": {
      "text/html": [
       "<table border=\"1\" class=\"dataframe\">\n",
       "    <thead>\n",
       "        <tr>\n",
       "            <th>box ID</th> <th>cookie name</th> <th>count sold</th> <th>price per box ($)</th>\n",
       "        </tr>\n",
       "    </thead>\n",
       "    <tbody>\n",
       "        <tr>\n",
       "            <td>53686 </td> <td>samoas       </td> <td>22        </td> <td>5                </td>\n",
       "        </tr>\n",
       "        <tr>\n",
       "            <td>57181 </td> <td>tagalongs    </td> <td>47        </td> <td>5                </td>\n",
       "        </tr>\n",
       "        <tr>\n",
       "            <td>25274 </td> <td>s'mores      </td> <td>12        </td> <td>6                </td>\n",
       "        </tr>\n",
       "        <tr>\n",
       "            <td>48800 </td> <td>do-si-dos    </td> <td>11        </td> <td>5                </td>\n",
       "        </tr>\n",
       "        <tr>\n",
       "            <td>26187 </td> <td>trefoils     </td> <td>106       </td> <td>5                </td>\n",
       "        </tr>\n",
       "        <tr>\n",
       "            <td>57930 </td> <td>thin mints   </td> <td>312       </td> <td>5                </td>\n",
       "        </tr>\n",
       "        <tr>\n",
       "            <td>52357 </td> <td>lemon-ups    </td> <td>25        </td> <td>5                </td>\n",
       "        </tr>\n",
       "        <tr>\n",
       "            <td>43566 </td> <td>toffee-tastic</td> <td>9         </td> <td>6                </td>\n",
       "        </tr>\n",
       "        <tr>\n",
       "            <td>26778 </td> <td>samoas       </td> <td>99        </td> <td>5                </td>\n",
       "        </tr>\n",
       "    </tbody>\n",
       "</table>"
      ],
      "text/plain": [
       "box ID | cookie name   | count sold | price per box ($)\n",
       "53686  | samoas        | 22         | 5\n",
       "57181  | tagalongs     | 47         | 5\n",
       "25274  | s'mores       | 12         | 6\n",
       "48800  | do-si-dos     | 11         | 5\n",
       "26187  | trefoils      | 106        | 5\n",
       "57930  | thin mints    | 312        | 5\n",
       "52357  | lemon-ups     | 25         | 5\n",
       "43566  | toffee-tastic | 9          | 6\n",
       "26778  | samoas        | 99         | 5"
      ]
     },
     "execution_count": 130,
     "metadata": {},
     "output_type": "execute_result"
    }
   ],
   "source": [
    "gs_sales = Table().read_table(\"gs_sales.csv\")\n",
    "gs_sales"
   ]
  },
  {
   "cell_type": "markdown",
   "metadata": {},
   "source": [
    "**Question 5.5.** How many boxes of cookies did the troop sell in total over that weekend?\n",
    "\n",
    "<!--\n",
    "BEGIN QUESTION\n",
    "name: q5_5\n",
    "-->"
   ]
  },
  {
   "cell_type": "code",
   "execution_count": 134,
   "metadata": {},
   "outputs": [
    {
     "data": {
      "text/plain": [
       "643"
      ]
     },
     "execution_count": 134,
     "metadata": {},
     "output_type": "execute_result"
    }
   ],
   "source": [
    "total_cookies_sold = sum(gs_sales.column(\"count sold\"))\n",
    "total_cookies_sold"
   ]
  },
  {
   "cell_type": "markdown",
   "metadata": {},
   "source": [
    "**Question 5.6.** What was the troops's total revenue (the total price of all boxes of cookies sold) over that weekend?\n",
    "\n",
    "<!--\n",
    "BEGIN QUESTION\n",
    "name: q5_6\n",
    "-->"
   ]
  },
  {
   "cell_type": "code",
   "execution_count": 136,
   "metadata": {},
   "outputs": [
    {
     "data": {
      "text/plain": [
       "3215"
      ]
     },
     "execution_count": 136,
     "metadata": {},
     "output_type": "execute_result"
    }
   ],
   "source": [
    "total_revenue = total_cookies_sold * 5\n",
    "total_revenue"
   ]
  },
  {
   "cell_type": "markdown",
   "metadata": {},
   "source": [
    "**Question 5.7.** Make a new table called `gs_remaining_inventory`.  It should have the same rows and columns as `gs_inventory`, except that the amount of boxes of cookies sold from each container should be subtracted from that container's count, so that the \"count\" is the amount of boxes of cookies remaining after that weekend.\n",
    "\n",
    "<!--\n",
    "BEGIN QUESTION\n",
    "name: q5_7\n",
    "-->"
   ]
  },
  {
   "cell_type": "code",
   "execution_count": 152,
   "metadata": {},
   "outputs": [
    {
     "data": {
      "text/html": [
       "<table border=\"1\" class=\"dataframe\">\n",
       "    <thead>\n",
       "        <tr>\n",
       "            <th>box ID</th> <th>cookie name</th> <th>count</th>\n",
       "        </tr>\n",
       "    </thead>\n",
       "    <tbody>\n",
       "        <tr>\n",
       "            <td>53686 </td> <td>samoas       </td> <td>23   </td>\n",
       "        </tr>\n",
       "        <tr>\n",
       "            <td>57181 </td> <td>tagalongs    </td> <td>76   </td>\n",
       "        </tr>\n",
       "        <tr>\n",
       "            <td>25274 </td> <td>s'mores      </td> <td>8    </td>\n",
       "        </tr>\n",
       "        <tr>\n",
       "            <td>48800 </td> <td>do-si-dos    </td> <td>24   </td>\n",
       "        </tr>\n",
       "        <tr>\n",
       "            <td>26187 </td> <td>trefoils     </td> <td>149  </td>\n",
       "        </tr>\n",
       "        <tr>\n",
       "            <td>57930 </td> <td>thin mints   </td> <td>205  </td>\n",
       "        </tr>\n",
       "        <tr>\n",
       "            <td>52357 </td> <td>lemon-ups    </td> <td>77   </td>\n",
       "        </tr>\n",
       "        <tr>\n",
       "            <td>43566 </td> <td>toffee-tastic</td> <td>31   </td>\n",
       "        </tr>\n",
       "        <tr>\n",
       "            <td>26778 </td> <td>samoas       </td> <td>127  </td>\n",
       "        </tr>\n",
       "    </tbody>\n",
       "</table>"
      ],
      "text/plain": [
       "box ID | cookie name   | count\n",
       "53686  | samoas        | 23\n",
       "57181  | tagalongs     | 76\n",
       "25274  | s'mores       | 8\n",
       "48800  | do-si-dos     | 24\n",
       "26187  | trefoils      | 149\n",
       "57930  | thin mints    | 205\n",
       "52357  | lemon-ups     | 77\n",
       "43566  | toffee-tastic | 31\n",
       "26778  | samoas        | 127"
      ]
     },
     "execution_count": 152,
     "metadata": {},
     "output_type": "execute_result"
    }
   ],
   "source": [
    "new_inventory = gs_inventory.column(\"count\") - gs_sales.column(\"count sold\")\n",
    "gs_remaining_inventory = gs_inventory.with_column(\"count\", new_inventory)\n",
    "\n",
    "gs_remaining_inventory"
   ]
  }
 ],
 "metadata": {
  "kernelspec": {
   "display_name": "Python 3 (ipykernel)",
   "language": "python",
   "name": "python3"
  },
  "language_info": {
   "codemirror_mode": {
    "name": "ipython",
    "version": 3
   },
   "file_extension": ".py",
   "mimetype": "text/x-python",
   "name": "python",
   "nbconvert_exporter": "python",
   "pygments_lexer": "ipython3",
   "version": "3.12.4"
  }
 },
 "nbformat": 4,
 "nbformat_minor": 4
}
