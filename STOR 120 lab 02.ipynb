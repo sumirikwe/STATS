{
 "cells": [
  {
   "cell_type": "markdown",
   "metadata": {},
   "source": [
    "# STOR 120 - Lab 2: Table Operations\n",
    "\n",
    "Welcome to Lab 2!  In this lab you will: \n",
    "* import a module and practice table operations\n",
    "* create tables and practice analyzing them with your knowledge of table operations.\n",
    "* see how to represent and manipulate another fundamental type of data: text.\n",
    "\n",
    "Recommended Reading:\n",
    " * [Introduction to tables](https://www.inferentialthinking.com/chapters/03/4/Introduction_to_Tables)\n",
    "\n",
    "First run the cell below."
   ]
  },
  {
   "cell_type": "code",
   "execution_count": 137,
   "metadata": {},
   "outputs": [],
   "source": [
    "# Just run this cell\n",
    "\n",
    "import numpy as np\n",
    "from datascience import *"
   ]
  },
  {
   "cell_type": "markdown",
   "metadata": {},
   "source": [
    "# 1. Importing code\n",
    "\n",
    "![imports](https://external-preview.redd.it/ZVPjiFo_Ubl4JeiU63SaTjdIoq5zveSnNZimKpgn2I8.png?auto=webp&s=bf32c94b630befa121075c1ae99b2599af6dedc5) \n",
    "\n",
    "[source](https://www.reddit.com/r/ProgrammerHumor/comments/cgtk7s/theres_no_need_to_reinvent_the_wheel_oc/)\n",
    "\n",
    "Most programming involves work that is very similar to work that has been done before.  Since writing code is time-consuming, it's good to rely on others' published code when you can.  Rather than copy-pasting, Python allows us to **import modules**. A module is a file with Python code that has defined variables and functions. By importing a module, we are able to use its code in our own notebook.\n",
    "\n",
    "Python includes many useful modules that are just an `import` away.  We'll look at the `math` module as a first example. The `math` module is extremely useful in computing mathematical expressions in Python. \n",
    "\n",
    "Suppose we want to very accurately compute the area of a circle with a radius of 5 meters.  For that, we need the constant $\\pi$, which is roughly 3.14.  Conveniently, the `math` module has `pi` defined for us:"
   ]
  },
  {
   "cell_type": "code",
   "execution_count": 139,
   "metadata": {},
   "outputs": [
    {
     "data": {
      "text/plain": [
       "78.53981633974483"
      ]
     },
     "execution_count": 139,
     "metadata": {},
     "output_type": "execute_result"
    }
   ],
   "source": [
    "# Just run this cell\n",
    "\n",
    "import math\n",
    "radius = 5\n",
    "area_of_circle = radius**2 * math.pi\n",
    "area_of_circle"
   ]
  },
  {
   "cell_type": "markdown",
   "metadata": {},
   "source": [
    "In the code above, the line `import math` imports the math module. This statement creates a module and then assigns the name `math` to that module. We are now able to access any variables or functions defined within `math` by typing the name of the module followed by a dot, then followed by the name of the variable or function we want.\n",
    "\n",
    "    <module name>.<name>"
   ]
  },
  {
   "cell_type": "markdown",
   "metadata": {},
   "source": [
    "**Question 1.1.** The module `math` also provides the name `e` for the base of the natural logarithm, which is roughly 2.71. Compute $\\sqrt{e^{2\\pi}+30\\pi}$, giving it the name `near_twentyfive`.\n",
    "\n",
    "*Remember: You can access `pi` from the `math` module as well!*\n",
    "\n",
    "<!--\n",
    "BEGIN QUESTION\n",
    "name: q11\n",
    "-->"
   ]
  },
  {
   "cell_type": "code",
   "execution_count": 279,
   "metadata": {},
   "outputs": [
    {
     "data": {
      "text/plain": [
       "23.14069263277926"
      ]
     },
     "execution_count": 279,
     "metadata": {},
     "output_type": "execute_result"
    }
   ],
   "source": [
    "import math\n",
    "near_twentyfive = math.sqrt(math.e**(2*math.pi))\n",
    "near_twentyfive"
   ]
  },
  {
   "cell_type": "markdown",
   "metadata": {},
   "source": [
    "## 1.1. Accessing functions\n",
    "\n",
    "In the question above, you accessed variables within the `math` module. \n",
    "\n",
    "**Modules** also define **functions**.  For example, `math` provides the name `log` for the natural log function. Having imported `math` already, we can write `math.log(3)` to compute the natural log of 3. "
   ]
  },
  {
   "cell_type": "markdown",
   "metadata": {},
   "source": [
    "For your reference, below are some more examples of functions from the `math` module.\n",
    "\n",
    "Notice how different functions take in different numbers of arguments. Often, the [documentation](https://docs.python.org/3/library/math.html) of the module will provide information on how many arguments are required for each function.\n",
    "\n",
    "*Hint: If you press `shift+tab` while next to the function call, the documentation for that function will appear*"
   ]
  },
  {
   "cell_type": "code",
   "execution_count": 145,
   "metadata": {},
   "outputs": [
    {
     "data": {
      "text/plain": [
       "3.0"
      ]
     },
     "execution_count": 145,
     "metadata": {},
     "output_type": "execute_result"
    }
   ],
   "source": [
    "# Calculating logarithms (the logarithm of 8 in base 2).\n",
    "# The result is 3 because 2 to the power of 3 is 8.\n",
    "math.log(8, 2)"
   ]
  },
  {
   "cell_type": "code",
   "execution_count": 146,
   "metadata": {},
   "outputs": [
    {
     "data": {
      "text/plain": [
       "2.23606797749979"
      ]
     },
     "execution_count": 146,
     "metadata": {},
     "output_type": "execute_result"
    }
   ],
   "source": [
    "# Calculating square roots.\n",
    "math.sqrt(5)"
   ]
  },
  {
   "cell_type": "markdown",
   "metadata": {},
   "source": [
    "There are various ways to import and access code from outside sources. The method we used above — `import <module_name>` — imports the entire module and requires that we use `<module_name>.<name>` to access its code. \n",
    "\n",
    "We can also import a specific constant or function instead of the entire module. Notice that you don't have to use the module name beforehand to reference that particular value. However, you do have to be careful about reassigning the names of the constants or functions to other values!"
   ]
  },
  {
   "cell_type": "code",
   "execution_count": 148,
   "metadata": {},
   "outputs": [
    {
     "name": "stdout",
     "output_type": "stream",
     "text": [
      "-1.0\n"
     ]
    },
    {
     "data": {
      "text/plain": [
       "1.1447298858494002"
      ]
     },
     "execution_count": 148,
     "metadata": {},
     "output_type": "execute_result"
    }
   ],
   "source": [
    "# Importing just cos and pi from math.\n",
    "# We don't have to use `math.` in front of cos or pi\n",
    "import math\n",
    "from math import cos, pi\n",
    "print(cos(pi))\n",
    "\n",
    "# We do have to use it in front of other functions from math, though\n",
    "math.log(pi)"
   ]
  },
  {
   "cell_type": "markdown",
   "metadata": {},
   "source": [
    "Or we can import every function and value from the entire module."
   ]
  },
  {
   "cell_type": "code",
   "execution_count": 150,
   "metadata": {},
   "outputs": [
    {
     "data": {
      "text/plain": [
       "1.1447298858494002"
      ]
     },
     "execution_count": 150,
     "metadata": {},
     "output_type": "execute_result"
    }
   ],
   "source": [
    "# Lastly, we can import everything from math using the *\n",
    "# Once again, we don't have to use 'math.' beforehand \n",
    "from math import *\n",
    "log(pi)"
   ]
  },
  {
   "cell_type": "markdown",
   "metadata": {},
   "source": [
    "Don't worry too much about which type of import to use. It's often a coding style choice left up to each programmer. In this course, you'll always import the necessary modules when you run the setup cell (like the first code cell in this lab).\n",
    "\n",
    "Let's move on to practicing some of the table operations you've learned in lecture!"
   ]
  },
  {
   "cell_type": "markdown",
   "metadata": {},
   "source": [
    "# 2. Table operations\n",
    "\n",
    "The table `farmers_markets.csv` contains data on farmers' markets in the United States  (data collected by the USDA).  Each row represents one such market.\n",
    "\n",
    "Run the next cell to load the `farmers_markets` table."
   ]
  },
  {
   "cell_type": "code",
   "execution_count": 153,
   "metadata": {},
   "outputs": [],
   "source": [
    "# Just run this cell\n",
    "# The farmers market csv file must be saved in the same directory as this lab!\n",
    "\n",
    "farmers_markets = Table.read_table('farmers_markets.csv')"
   ]
  },
  {
   "cell_type": "markdown",
   "metadata": {},
   "source": [
    "Let's examine our table to see what data it contains.\n",
    "\n",
    "**Question 2.1** Use the method `show` to display the first 5 rows of `farmers_markets`. \n",
    "\n",
    "*Note:* The terms \"method\" and \"function\" are technically not the same thing, but for the purposes of this course, we will use them interchangeably.\n",
    "\n",
    "**Hint:** `tbl.show(3)` will show the first 3 rows of `tbl`. Additionally, make sure not to call `.show()` without an argument, as this will crash your kernel!\n"
   ]
  },
  {
   "cell_type": "code",
   "execution_count": 155,
   "metadata": {},
   "outputs": [
    {
     "data": {
      "text/html": [
       "<table border=\"1\" class=\"dataframe\">\n",
       "    <thead>\n",
       "        <tr>\n",
       "            <th>FMID</th> <th>MarketName</th> <th>street</th> <th>city</th> <th>County</th> <th>State</th> <th>zip</th> <th>x</th> <th>y</th> <th>Website</th> <th>Facebook</th> <th>Twitter</th> <th>Youtube</th> <th>OtherMedia</th> <th>Organic</th> <th>Tofu</th> <th>Bakedgoods</th> <th>Cheese</th> <th>Crafts</th> <th>Flowers</th> <th>Eggs</th> <th>Seafood</th> <th>Herbs</th> <th>Vegetables</th> <th>Honey</th> <th>Jams</th> <th>Maple</th> <th>Meat</th> <th>Nursery</th> <th>Nuts</th> <th>Plants</th> <th>Poultry</th> <th>Prepared</th> <th>Soap</th> <th>Trees</th> <th>Wine</th> <th>Coffee</th> <th>Beans</th> <th>Fruits</th> <th>Grains</th> <th>Juices</th> <th>Mushrooms</th> <th>PetFood</th> <th>WildHarvested</th> <th>updateTime</th> <th>Location</th> <th>Credit</th> <th>WIC</th> <th>WICcash</th> <th>SFMNP</th> <th>SNAP</th> <th>Season1Date</th> <th>Season1Time</th> <th>Season2Date</th> <th>Season2Time</th> <th>Season3Date</th> <th>Season3Time</th> <th>Season4Date</th> <th>Season4Time</th>\n",
       "        </tr>\n",
       "    </thead>\n",
       "    <tbody>\n",
       "        <tr>\n",
       "            <td>1012063</td> <td> Caledonia Farmers Market Association - Danville</td> <td>nan                   </td> <td>Danville </td> <td>Caledonia</td> <td>Vermont       </td> <td>05828</td> <td>-72.1403</td> <td>44.411 </td> <td>https://sites.google.com/site/caledoniafarmersmarket/</td> <td>https://www.facebook.com/Danville.VT.Farmers.Market/</td> <td>nan    </td> <td>nan    </td> <td>nan                                                         </td> <td>Y      </td> <td>N   </td> <td>Y         </td> <td>Y     </td> <td>Y     </td> <td>Y      </td> <td>Y   </td> <td>N      </td> <td>Y    </td> <td>Y         </td> <td>Y    </td> <td>Y   </td> <td>Y    </td> <td>Y   </td> <td>N      </td> <td>N   </td> <td>Y     </td> <td>Y      </td> <td>Y       </td> <td>Y   </td> <td>Y    </td> <td>N   </td> <td>Y     </td> <td>Y    </td> <td>Y     </td> <td>N     </td> <td>Y     </td> <td>N        </td> <td>Y      </td> <td>N            </td> <td>6/28/2016 12:10:09 PM</td> <td>nan     </td> <td>Y     </td> <td>Y   </td> <td>N      </td> <td>Y    </td> <td>N   </td> <td>06/08/2016 to 10/12/2016</td> <td>Wed: 9:00 AM-1:00 PM;                     </td> <td>nan        </td> <td>nan        </td> <td>nan        </td> <td>nan        </td> <td>nan        </td> <td>nan        </td>\n",
       "        </tr>\n",
       "        <tr>\n",
       "            <td>1011871</td> <td> Stearns Homestead Farmers' Market              </td> <td>6975 Ridge Road       </td> <td>Parma    </td> <td>Cuyahoga </td> <td>Ohio          </td> <td>44130</td> <td>-81.7286</td> <td>41.3751</td> <td>http://Stearnshomestead.com                          </td> <td>nan                                                 </td> <td>nan    </td> <td>nan    </td> <td>nan                                                         </td> <td>-      </td> <td>N   </td> <td>Y         </td> <td>N     </td> <td>N     </td> <td>Y      </td> <td>Y   </td> <td>N      </td> <td>Y    </td> <td>Y         </td> <td>Y    </td> <td>Y   </td> <td>Y    </td> <td>Y   </td> <td>N      </td> <td>N   </td> <td>Y     </td> <td>N      </td> <td>N       </td> <td>N   </td> <td>N    </td> <td>N   </td> <td>N     </td> <td>N    </td> <td>Y     </td> <td>N     </td> <td>N     </td> <td>N        </td> <td>Y      </td> <td>N            </td> <td>4/9/2016 8:05:17 PM  </td> <td>nan     </td> <td>Y     </td> <td>Y   </td> <td>N      </td> <td>Y    </td> <td>Y   </td> <td>06/25/2016 to 10/01/2016</td> <td>Sat: 9:00 AM-1:00 PM;                     </td> <td>nan        </td> <td>nan        </td> <td>nan        </td> <td>nan        </td> <td>nan        </td> <td>nan        </td>\n",
       "        </tr>\n",
       "        <tr>\n",
       "            <td>1011878</td> <td>100 Mile Market                                 </td> <td>507 Harrison St       </td> <td>Kalamazoo</td> <td>Kalamazoo</td> <td>Michigan      </td> <td>49007</td> <td>-85.5749</td> <td>42.296 </td> <td>http://www.pfcmarkets.com                            </td> <td>https://www.facebook.com/100MileMarket/?fref=ts     </td> <td>nan    </td> <td>nan    </td> <td>https://www.instagram.com/100milemarket/                    </td> <td>N      </td> <td>N   </td> <td>Y         </td> <td>Y     </td> <td>N     </td> <td>Y      </td> <td>Y   </td> <td>N      </td> <td>Y    </td> <td>Y         </td> <td>Y    </td> <td>Y   </td> <td>Y    </td> <td>Y   </td> <td>N      </td> <td>N   </td> <td>N     </td> <td>Y      </td> <td>Y       </td> <td>Y   </td> <td>N    </td> <td>Y   </td> <td>N     </td> <td>N    </td> <td>Y     </td> <td>Y     </td> <td>N     </td> <td>N        </td> <td>N      </td> <td>N            </td> <td>4/16/2016 12:37:56 PM</td> <td>nan     </td> <td>Y     </td> <td>Y   </td> <td>N      </td> <td>Y    </td> <td>Y   </td> <td>05/04/2016 to 10/12/2016</td> <td>Wed: 3:00 PM-7:00 PM;                     </td> <td>nan        </td> <td>nan        </td> <td>nan        </td> <td>nan        </td> <td>nan        </td> <td>nan        </td>\n",
       "        </tr>\n",
       "        <tr>\n",
       "            <td>1009364</td> <td>106 S. Main Street Farmers Market               </td> <td>106 S. Main Street    </td> <td>Six Mile </td> <td>nan      </td> <td>South Carolina</td> <td>29682</td> <td>-82.8187</td> <td>34.8042</td> <td>http://thetownofsixmile.wordpress.com/               </td> <td>nan                                                 </td> <td>nan    </td> <td>nan    </td> <td>nan                                                         </td> <td>-      </td> <td>N   </td> <td>N         </td> <td>N     </td> <td>N     </td> <td>N      </td> <td>N   </td> <td>N      </td> <td>N    </td> <td>N         </td> <td>N    </td> <td>N   </td> <td>N    </td> <td>N   </td> <td>N      </td> <td>N   </td> <td>N     </td> <td>N      </td> <td>N       </td> <td>N   </td> <td>N    </td> <td>N   </td> <td>N     </td> <td>N    </td> <td>N     </td> <td>N     </td> <td>N     </td> <td>N        </td> <td>N      </td> <td>N            </td> <td>2013                 </td> <td>nan     </td> <td>Y     </td> <td>N   </td> <td>N      </td> <td>N    </td> <td>N   </td> <td>nan                     </td> <td>nan                                       </td> <td>nan        </td> <td>nan        </td> <td>nan        </td> <td>nan        </td> <td>nan        </td> <td>nan        </td>\n",
       "        </tr>\n",
       "        <tr>\n",
       "            <td>1010691</td> <td>10th Steet Community Farmers Market             </td> <td>10th Street and Poplar</td> <td>Lamar    </td> <td>Barton   </td> <td>Missouri      </td> <td>64759</td> <td>-94.2746</td> <td>37.4956</td> <td>nan                                                  </td> <td>nan                                                 </td> <td>nan    </td> <td>nan    </td> <td>http://agrimissouri.com/mo-grown/grodetail.php?type=mo-g ...</td> <td>-      </td> <td>N   </td> <td>Y         </td> <td>N     </td> <td>Y     </td> <td>N      </td> <td>Y   </td> <td>N      </td> <td>Y    </td> <td>Y         </td> <td>Y    </td> <td>Y   </td> <td>N    </td> <td>Y   </td> <td>N      </td> <td>N   </td> <td>Y     </td> <td>Y      </td> <td>Y       </td> <td>Y   </td> <td>N    </td> <td>N   </td> <td>N     </td> <td>N    </td> <td>Y     </td> <td>N     </td> <td>N     </td> <td>N        </td> <td>N      </td> <td>N            </td> <td>10/28/2014 9:49:46 AM</td> <td>nan     </td> <td>Y     </td> <td>N   </td> <td>N      </td> <td>N    </td> <td>N   </td> <td>04/02/2014 to 11/30/2014</td> <td>Wed: 3:00 PM-6:00 PM;Sat: 8:00 AM-1:00 PM;</td> <td>nan        </td> <td>nan        </td> <td>nan        </td> <td>nan        </td> <td>nan        </td> <td>nan        </td>\n",
       "        </tr>\n",
       "    </tbody>\n",
       "</table>\n",
       "<p>... (8541 rows omitted)</p>"
      ],
      "text/plain": [
       "<IPython.core.display.HTML object>"
      ]
     },
     "metadata": {},
     "output_type": "display_data"
    }
   ],
   "source": [
    "farmers_markets.show(5)"
   ]
  },
  {
   "cell_type": "markdown",
   "metadata": {},
   "source": [
    "Notice that some of the values in this table are missing, as denoted by \"nan.\" This means either that the value is not available (e.g. if we don’t know the market’s street address) or not applicable (e.g. if the market doesn’t have a street address). You'll also notice that the table has a large number of columns in it!\n",
    "\n",
    "### `num_columns`\n",
    "\n",
    "The table property `num_columns` returns the number of columns in a table. (A \"property\" is just a method that doesn't need to be called by adding parentheses.)\n",
    "\n",
    "Example call: `<tbl>.num_columns`\n",
    "\n",
    "**Question 2.2.** Use `num_columns` to find the number of columns in our farmers' markets dataset.\n",
    "\n",
    "Assign the number of columns to `num_farmers_markets_columns`.\n",
    "\n",
    "<!--\n",
    "BEGIN QUESTION\n",
    "name: q22\n",
    "-->"
   ]
  },
  {
   "cell_type": "code",
   "execution_count": 157,
   "metadata": {},
   "outputs": [
    {
     "name": "stdout",
     "output_type": "stream",
     "text": [
      "The table has 59 columns in it!\n"
     ]
    }
   ],
   "source": [
    "num_farmers_markets_columns = farmers_markets.num_columns\n",
    "print(\"The table has\", num_farmers_markets_columns, \"columns in it!\")"
   ]
  },
  {
   "cell_type": "markdown",
   "metadata": {},
   "source": [
    "### `select`\n",
    "\n",
    "Most of the columns are about particular products -- whether the market sells tofu, pet food, etc.  If we're not interested in that information, it just makes the table difficult to read.  This comes up more than you might think, because people who collect and publish data may not know ahead of time what people will want to do with it.\n",
    "\n",
    "In such situations, we can use the table method `select` to choose only the columns that we want in a particular table. It takes any number of arguments. Each should be the name of a column in the table. It returns a new table with only those columns in it. The columns are in the order *in which they were listed as arguments*.\n",
    "\n",
    "For example, the value of `farmers_markets.select(\"MarketName\", \"State\")` is a table with only the name and the state of each farmers' market in `farmers_markets`.\n",
    "\n",
    "\n",
    "\n",
    "**Question 2.3.** Use `select` to create a table with only the markets' names, cities, counties, states, zip codes (`zip`), latitude (`x`), and longitude (`y`).  Call that new table `farmers_markets_locations`.\n",
    "\n",
    "*Hint:* Make sure to be exact when using column names with `select`; double-check capitalization!\n",
    "\n",
    "<!--\n",
    "BEGIN QUESTION\n",
    "name: q23\n",
    "-->"
   ]
  },
  {
   "cell_type": "code",
   "execution_count": 159,
   "metadata": {},
   "outputs": [
    {
     "data": {
      "text/html": [
       "<table border=\"1\" class=\"dataframe\">\n",
       "    <thead>\n",
       "        <tr>\n",
       "            <th>MarketName</th> <th>city</th> <th>County</th> <th>State</th> <th>zip</th> <th>x</th> <th>y</th>\n",
       "        </tr>\n",
       "    </thead>\n",
       "    <tbody>\n",
       "        <tr>\n",
       "            <td> Caledonia Farmers Market Association - Danville</td> <td>Danville  </td> <td>Caledonia           </td> <td>Vermont             </td> <td>05828</td> <td>-72.1403</td> <td>44.411 </td>\n",
       "        </tr>\n",
       "        <tr>\n",
       "            <td> Stearns Homestead Farmers' Market              </td> <td>Parma     </td> <td>Cuyahoga            </td> <td>Ohio                </td> <td>44130</td> <td>-81.7286</td> <td>41.3751</td>\n",
       "        </tr>\n",
       "        <tr>\n",
       "            <td>100 Mile Market                                 </td> <td>Kalamazoo </td> <td>Kalamazoo           </td> <td>Michigan            </td> <td>49007</td> <td>-85.5749</td> <td>42.296 </td>\n",
       "        </tr>\n",
       "        <tr>\n",
       "            <td>106 S. Main Street Farmers Market               </td> <td>Six Mile  </td> <td>nan                 </td> <td>South Carolina      </td> <td>29682</td> <td>-82.8187</td> <td>34.8042</td>\n",
       "        </tr>\n",
       "        <tr>\n",
       "            <td>10th Steet Community Farmers Market             </td> <td>Lamar     </td> <td>Barton              </td> <td>Missouri            </td> <td>64759</td> <td>-94.2746</td> <td>37.4956</td>\n",
       "        </tr>\n",
       "        <tr>\n",
       "            <td>112st Madison Avenue                            </td> <td>New York  </td> <td>New York            </td> <td>New York            </td> <td>10029</td> <td>-73.9493</td> <td>40.7939</td>\n",
       "        </tr>\n",
       "        <tr>\n",
       "            <td>12 South Farmers Market                         </td> <td>Nashville </td> <td>Davidson            </td> <td>Tennessee           </td> <td>37204</td> <td>-86.7907</td> <td>36.1184</td>\n",
       "        </tr>\n",
       "        <tr>\n",
       "            <td>125th Street Fresh Connect Farmers' Market      </td> <td>New York  </td> <td>New York            </td> <td>New York            </td> <td>10027</td> <td>-73.9482</td> <td>40.809 </td>\n",
       "        </tr>\n",
       "        <tr>\n",
       "            <td>12th & Brandywine Urban Farm Market             </td> <td>Wilmington</td> <td>New Castle          </td> <td>Delaware            </td> <td>19801</td> <td>-75.5345</td> <td>39.7421</td>\n",
       "        </tr>\n",
       "        <tr>\n",
       "            <td>14&U Farmers' Market                            </td> <td>Washington</td> <td>District of Columbia</td> <td>District of Columbia</td> <td>20009</td> <td>-77.0321</td> <td>38.917 </td>\n",
       "        </tr>\n",
       "    </tbody>\n",
       "</table>\n",
       "<p>... (8536 rows omitted)</p>"
      ],
      "text/plain": [
       "MarketName                                       | city       | County               | State                | zip   | x        | y\n",
       " Caledonia Farmers Market Association - Danville | Danville   | Caledonia            | Vermont              | 05828 | -72.1403 | 44.411\n",
       " Stearns Homestead Farmers' Market               | Parma      | Cuyahoga             | Ohio                 | 44130 | -81.7286 | 41.3751\n",
       "100 Mile Market                                  | Kalamazoo  | Kalamazoo            | Michigan             | 49007 | -85.5749 | 42.296\n",
       "106 S. Main Street Farmers Market                | Six Mile   | nan                  | South Carolina       | 29682 | -82.8187 | 34.8042\n",
       "10th Steet Community Farmers Market              | Lamar      | Barton               | Missouri             | 64759 | -94.2746 | 37.4956\n",
       "112st Madison Avenue                             | New York   | New York             | New York             | 10029 | -73.9493 | 40.7939\n",
       "12 South Farmers Market                          | Nashville  | Davidson             | Tennessee            | 37204 | -86.7907 | 36.1184\n",
       "125th Street Fresh Connect Farmers' Market       | New York   | New York             | New York             | 10027 | -73.9482 | 40.809\n",
       "12th & Brandywine Urban Farm Market              | Wilmington | New Castle           | Delaware             | 19801 | -75.5345 | 39.7421\n",
       "14&U Farmers' Market                             | Washington | District of Columbia | District of Columbia | 20009 | -77.0321 | 38.917\n",
       "... (8536 rows omitted)"
      ]
     },
     "execution_count": 159,
     "metadata": {},
     "output_type": "execute_result"
    }
   ],
   "source": [
    "farmers_markets_locations = farmers_markets.select(\"MarketName\", \"city\",\"County\",\"State\", \"zip\", \"x\", \"y\")\n",
    "farmers_markets_locations"
   ]
  },
  {
   "cell_type": "markdown",
   "metadata": {},
   "source": [
    "### `drop`\n",
    "\n",
    "`drop` serves the same purpose as `select`, but it takes away the columns that you provide rather than the ones that you don't provide. Like `select`, `drop` returns a new table.\n",
    "\n",
    "**Question 2.4.** Suppose you just didn't want the `FMID` and `updateTime` columns in `farmers_markets`.  Create a table that's a copy of `farmers_markets` but doesn't include those columns.  Call that table `farmers_markets_without_fmid`.\n",
    "\n",
    "<!--\n",
    "BEGIN QUESTION\n",
    "name: q24\n",
    "-->"
   ]
  },
  {
   "cell_type": "code",
   "execution_count": 161,
   "metadata": {},
   "outputs": [
    {
     "data": {
      "text/html": [
       "<table border=\"1\" class=\"dataframe\">\n",
       "    <thead>\n",
       "        <tr>\n",
       "            <th>MarketName</th> <th>street</th> <th>city</th> <th>County</th> <th>State</th> <th>zip</th> <th>x</th> <th>y</th> <th>Website</th> <th>Facebook</th> <th>Twitter</th> <th>Youtube</th> <th>OtherMedia</th> <th>Organic</th> <th>Tofu</th> <th>Bakedgoods</th> <th>Cheese</th> <th>Crafts</th> <th>Flowers</th> <th>Eggs</th> <th>Seafood</th> <th>Herbs</th> <th>Vegetables</th> <th>Honey</th> <th>Jams</th> <th>Maple</th> <th>Meat</th> <th>Nursery</th> <th>Nuts</th> <th>Plants</th> <th>Poultry</th> <th>Prepared</th> <th>Soap</th> <th>Trees</th> <th>Wine</th> <th>Coffee</th> <th>Beans</th> <th>Fruits</th> <th>Grains</th> <th>Juices</th> <th>Mushrooms</th> <th>PetFood</th> <th>WildHarvested</th> <th>Location</th> <th>Credit</th> <th>WIC</th> <th>WICcash</th> <th>SFMNP</th> <th>SNAP</th> <th>Season1Date</th> <th>Season1Time</th> <th>Season2Date</th> <th>Season2Time</th> <th>Season3Date</th> <th>Season3Time</th> <th>Season4Date</th> <th>Season4Time</th>\n",
       "        </tr>\n",
       "    </thead>\n",
       "    <tbody>\n",
       "        <tr>\n",
       "            <td> Caledonia Farmers Market Association - Danville</td> <td>nan                                                     </td> <td>Danville  </td> <td>Caledonia           </td> <td>Vermont             </td> <td>05828</td> <td>-72.1403</td> <td>44.411 </td> <td>https://sites.google.com/site/caledoniafarmersmarket/</td> <td>https://www.facebook.com/Danville.VT.Farmers.Market/        </td> <td>nan                                </td> <td>nan    </td> <td>nan                                                         </td> <td>Y      </td> <td>N   </td> <td>Y         </td> <td>Y     </td> <td>Y     </td> <td>Y      </td> <td>Y   </td> <td>N      </td> <td>Y    </td> <td>Y         </td> <td>Y    </td> <td>Y   </td> <td>Y    </td> <td>Y   </td> <td>N      </td> <td>N   </td> <td>Y     </td> <td>Y      </td> <td>Y       </td> <td>Y   </td> <td>Y    </td> <td>N   </td> <td>Y     </td> <td>Y    </td> <td>Y     </td> <td>N     </td> <td>Y     </td> <td>N        </td> <td>Y      </td> <td>N            </td> <td>nan                                                       </td> <td>Y     </td> <td>Y   </td> <td>N      </td> <td>Y    </td> <td>N   </td> <td>06/08/2016 to 10/12/2016</td> <td>Wed: 9:00 AM-1:00 PM;                       </td> <td>nan        </td> <td>nan        </td> <td>nan        </td> <td>nan        </td> <td>nan        </td> <td>nan        </td>\n",
       "        </tr>\n",
       "        <tr>\n",
       "            <td> Stearns Homestead Farmers' Market              </td> <td>6975 Ridge Road                                         </td> <td>Parma     </td> <td>Cuyahoga            </td> <td>Ohio                </td> <td>44130</td> <td>-81.7286</td> <td>41.3751</td> <td>http://Stearnshomestead.com                          </td> <td>nan                                                         </td> <td>nan                                </td> <td>nan    </td> <td>nan                                                         </td> <td>-      </td> <td>N   </td> <td>Y         </td> <td>N     </td> <td>N     </td> <td>Y      </td> <td>Y   </td> <td>N      </td> <td>Y    </td> <td>Y         </td> <td>Y    </td> <td>Y   </td> <td>Y    </td> <td>Y   </td> <td>N      </td> <td>N   </td> <td>Y     </td> <td>N      </td> <td>N       </td> <td>N   </td> <td>N    </td> <td>N   </td> <td>N     </td> <td>N    </td> <td>Y     </td> <td>N     </td> <td>N     </td> <td>N        </td> <td>Y      </td> <td>N            </td> <td>nan                                                       </td> <td>Y     </td> <td>Y   </td> <td>N      </td> <td>Y    </td> <td>Y   </td> <td>06/25/2016 to 10/01/2016</td> <td>Sat: 9:00 AM-1:00 PM;                       </td> <td>nan        </td> <td>nan        </td> <td>nan        </td> <td>nan        </td> <td>nan        </td> <td>nan        </td>\n",
       "        </tr>\n",
       "        <tr>\n",
       "            <td>100 Mile Market                                 </td> <td>507 Harrison St                                         </td> <td>Kalamazoo </td> <td>Kalamazoo           </td> <td>Michigan            </td> <td>49007</td> <td>-85.5749</td> <td>42.296 </td> <td>http://www.pfcmarkets.com                            </td> <td>https://www.facebook.com/100MileMarket/?fref=ts             </td> <td>nan                                </td> <td>nan    </td> <td>https://www.instagram.com/100milemarket/                    </td> <td>N      </td> <td>N   </td> <td>Y         </td> <td>Y     </td> <td>N     </td> <td>Y      </td> <td>Y   </td> <td>N      </td> <td>Y    </td> <td>Y         </td> <td>Y    </td> <td>Y   </td> <td>Y    </td> <td>Y   </td> <td>N      </td> <td>N   </td> <td>N     </td> <td>Y      </td> <td>Y       </td> <td>Y   </td> <td>N    </td> <td>Y   </td> <td>N     </td> <td>N    </td> <td>Y     </td> <td>Y     </td> <td>N     </td> <td>N        </td> <td>N      </td> <td>N            </td> <td>nan                                                       </td> <td>Y     </td> <td>Y   </td> <td>N      </td> <td>Y    </td> <td>Y   </td> <td>05/04/2016 to 10/12/2016</td> <td>Wed: 3:00 PM-7:00 PM;                       </td> <td>nan        </td> <td>nan        </td> <td>nan        </td> <td>nan        </td> <td>nan        </td> <td>nan        </td>\n",
       "        </tr>\n",
       "        <tr>\n",
       "            <td>106 S. Main Street Farmers Market               </td> <td>106 S. Main Street                                      </td> <td>Six Mile  </td> <td>nan                 </td> <td>South Carolina      </td> <td>29682</td> <td>-82.8187</td> <td>34.8042</td> <td>http://thetownofsixmile.wordpress.com/               </td> <td>nan                                                         </td> <td>nan                                </td> <td>nan    </td> <td>nan                                                         </td> <td>-      </td> <td>N   </td> <td>N         </td> <td>N     </td> <td>N     </td> <td>N      </td> <td>N   </td> <td>N      </td> <td>N    </td> <td>N         </td> <td>N    </td> <td>N   </td> <td>N    </td> <td>N   </td> <td>N      </td> <td>N   </td> <td>N     </td> <td>N      </td> <td>N       </td> <td>N   </td> <td>N    </td> <td>N   </td> <td>N     </td> <td>N    </td> <td>N     </td> <td>N     </td> <td>N     </td> <td>N        </td> <td>N      </td> <td>N            </td> <td>nan                                                       </td> <td>Y     </td> <td>N   </td> <td>N      </td> <td>N    </td> <td>N   </td> <td>nan                     </td> <td>nan                                         </td> <td>nan        </td> <td>nan        </td> <td>nan        </td> <td>nan        </td> <td>nan        </td> <td>nan        </td>\n",
       "        </tr>\n",
       "        <tr>\n",
       "            <td>10th Steet Community Farmers Market             </td> <td>10th Street and Poplar                                  </td> <td>Lamar     </td> <td>Barton              </td> <td>Missouri            </td> <td>64759</td> <td>-94.2746</td> <td>37.4956</td> <td>nan                                                  </td> <td>nan                                                         </td> <td>nan                                </td> <td>nan    </td> <td>http://agrimissouri.com/mo-grown/grodetail.php?type=mo-g ...</td> <td>-      </td> <td>N   </td> <td>Y         </td> <td>N     </td> <td>Y     </td> <td>N      </td> <td>Y   </td> <td>N      </td> <td>Y    </td> <td>Y         </td> <td>Y    </td> <td>Y   </td> <td>N    </td> <td>Y   </td> <td>N      </td> <td>N   </td> <td>Y     </td> <td>Y      </td> <td>Y       </td> <td>Y   </td> <td>N    </td> <td>N   </td> <td>N     </td> <td>N    </td> <td>Y     </td> <td>N     </td> <td>N     </td> <td>N        </td> <td>N      </td> <td>N            </td> <td>nan                                                       </td> <td>Y     </td> <td>N   </td> <td>N      </td> <td>N    </td> <td>N   </td> <td>04/02/2014 to 11/30/2014</td> <td>Wed: 3:00 PM-6:00 PM;Sat: 8:00 AM-1:00 PM;  </td> <td>nan        </td> <td>nan        </td> <td>nan        </td> <td>nan        </td> <td>nan        </td> <td>nan        </td>\n",
       "        </tr>\n",
       "        <tr>\n",
       "            <td>112st Madison Avenue                            </td> <td>112th Madison Avenue                                    </td> <td>New York  </td> <td>New York            </td> <td>New York            </td> <td>10029</td> <td>-73.9493</td> <td>40.7939</td> <td>nan                                                  </td> <td>nan                                                         </td> <td>nan                                </td> <td>nan    </td> <td>nan                                                         </td> <td>-      </td> <td>N   </td> <td>Y         </td> <td>N     </td> <td>Y     </td> <td>Y      </td> <td>N   </td> <td>N      </td> <td>Y    </td> <td>Y         </td> <td>Y    </td> <td>Y   </td> <td>N    </td> <td>N   </td> <td>N      </td> <td>Y   </td> <td>N     </td> <td>N      </td> <td>Y       </td> <td>Y   </td> <td>N    </td> <td>N   </td> <td>N     </td> <td>N    </td> <td>N     </td> <td>N     </td> <td>N     </td> <td>N        </td> <td>N      </td> <td>N            </td> <td>Private business parking lot                              </td> <td>N     </td> <td>N   </td> <td>Y      </td> <td>Y    </td> <td>N   </td> <td>July to November        </td> <td>Tue:8:00 am - 5:00 pm;Sat:8:00 am - 8:00 pm;</td> <td>nan        </td> <td>nan        </td> <td>nan        </td> <td>nan        </td> <td>nan        </td> <td>nan        </td>\n",
       "        </tr>\n",
       "        <tr>\n",
       "            <td>12 South Farmers Market                         </td> <td>3000 Granny White Pike                                  </td> <td>Nashville </td> <td>Davidson            </td> <td>Tennessee           </td> <td>37204</td> <td>-86.7907</td> <td>36.1184</td> <td>http://www.12southfarmersmarket.com                  </td> <td>12_South_Farmers_Market                                     </td> <td>@12southfrmsmkt                    </td> <td>nan    </td> <td>@12southfrmsmkt                                             </td> <td>Y      </td> <td>N   </td> <td>Y         </td> <td>Y     </td> <td>N     </td> <td>Y      </td> <td>Y   </td> <td>N      </td> <td>Y    </td> <td>Y         </td> <td>Y    </td> <td>Y   </td> <td>Y    </td> <td>Y   </td> <td>N      </td> <td>N   </td> <td>N     </td> <td>Y      </td> <td>Y       </td> <td>Y   </td> <td>N    </td> <td>N   </td> <td>Y     </td> <td>N    </td> <td>Y     </td> <td>N     </td> <td>Y     </td> <td>Y        </td> <td>Y      </td> <td>N            </td> <td>nan                                                       </td> <td>Y     </td> <td>N   </td> <td>N      </td> <td>N    </td> <td>Y   </td> <td>05/05/2015 to 10/27/2015</td> <td>Tue: 3:30 PM-6:30 PM;                       </td> <td>nan        </td> <td>nan        </td> <td>nan        </td> <td>nan        </td> <td>nan        </td> <td>nan        </td>\n",
       "        </tr>\n",
       "        <tr>\n",
       "            <td>125th Street Fresh Connect Farmers' Market      </td> <td>163 West 125th Street and Adam Clayton Powell, Jr. Blvd.</td> <td>New York  </td> <td>New York            </td> <td>New York            </td> <td>10027</td> <td>-73.9482</td> <td>40.809 </td> <td>http://www.125thStreetFarmersMarket.com              </td> <td>https://www.facebook.com/125thStreetFarmersMarket           </td> <td>https://twitter.com/FarmMarket125th</td> <td>nan    </td> <td>Instagram--> 125thStreetFarmersMarket                       </td> <td>Y      </td> <td>N   </td> <td>Y         </td> <td>Y     </td> <td>Y     </td> <td>Y      </td> <td>Y   </td> <td>N      </td> <td>Y    </td> <td>Y         </td> <td>Y    </td> <td>Y   </td> <td>Y    </td> <td>Y   </td> <td>N      </td> <td>Y   </td> <td>N     </td> <td>Y      </td> <td>Y       </td> <td>Y   </td> <td>N    </td> <td>Y   </td> <td>Y     </td> <td>N    </td> <td>Y     </td> <td>N     </td> <td>Y     </td> <td>N        </td> <td>N      </td> <td>N            </td> <td>Federal/State government building grounds                 </td> <td>Y     </td> <td>Y   </td> <td>N      </td> <td>Y    </td> <td>Y   </td> <td>06/10/2014 to 11/25/2014</td> <td>Tue: 10:00 AM-7:00 PM;                      </td> <td>nan        </td> <td>nan        </td> <td>nan        </td> <td>nan        </td> <td>nan        </td> <td>nan        </td>\n",
       "        </tr>\n",
       "        <tr>\n",
       "            <td>12th & Brandywine Urban Farm Market             </td> <td>12th & Brandywine Streets                               </td> <td>Wilmington</td> <td>New Castle          </td> <td>Delaware            </td> <td>19801</td> <td>-75.5345</td> <td>39.7421</td> <td>nan                                                  </td> <td>https://www.facebook.com/pages/12th-Brandywine-Urban-Far ...</td> <td>nan                                </td> <td>nan    </td> <td>https://www.facebook.com/delawareurbanfarmcoalition         </td> <td>N      </td> <td>N   </td> <td>N         </td> <td>N     </td> <td>N     </td> <td>N      </td> <td>N   </td> <td>N      </td> <td>Y    </td> <td>Y         </td> <td>N    </td> <td>N   </td> <td>N    </td> <td>N   </td> <td>N      </td> <td>N   </td> <td>N     </td> <td>N      </td> <td>N       </td> <td>N   </td> <td>N    </td> <td>N   </td> <td>N     </td> <td>N    </td> <td>Y     </td> <td>N     </td> <td>N     </td> <td>N        </td> <td>N      </td> <td>N            </td> <td>On a farm from: a barn, a greenhouse, a tent, a stand, etc</td> <td>N     </td> <td>N   </td> <td>N      </td> <td>N    </td> <td>Y   </td> <td>05/16/2014 to 10/17/2014</td> <td>Fri: 8:00 AM-11:00 AM;                      </td> <td>nan        </td> <td>nan        </td> <td>nan        </td> <td>nan        </td> <td>nan        </td> <td>nan        </td>\n",
       "        </tr>\n",
       "        <tr>\n",
       "            <td>14&U Farmers' Market                            </td> <td>1400 U Street NW                                        </td> <td>Washington</td> <td>District of Columbia</td> <td>District of Columbia</td> <td>20009</td> <td>-77.0321</td> <td>38.917 </td> <td>nan                                                  </td> <td>https://www.facebook.com/14UFarmersMarket                   </td> <td>https://twitter.com/14UFarmersMkt  </td> <td>nan    </td> <td>nan                                                         </td> <td>Y      </td> <td>N   </td> <td>Y         </td> <td>Y     </td> <td>N     </td> <td>Y      </td> <td>Y   </td> <td>N      </td> <td>Y    </td> <td>Y         </td> <td>Y    </td> <td>Y   </td> <td>N    </td> <td>Y   </td> <td>N      </td> <td>Y   </td> <td>Y     </td> <td>Y      </td> <td>N       </td> <td>N   </td> <td>N    </td> <td>N   </td> <td>N     </td> <td>Y    </td> <td>Y     </td> <td>Y     </td> <td>Y     </td> <td>N        </td> <td>N      </td> <td>N            </td> <td>Other                                                     </td> <td>Y     </td> <td>Y   </td> <td>Y      </td> <td>Y    </td> <td>Y   </td> <td>05/03/2014 to 11/22/2014</td> <td>Sat: 9:00 AM-1:00 PM;                       </td> <td>nan        </td> <td>nan        </td> <td>nan        </td> <td>nan        </td> <td>nan        </td> <td>nan        </td>\n",
       "        </tr>\n",
       "    </tbody>\n",
       "</table>\n",
       "<p>... (8536 rows omitted)</p>"
      ],
      "text/plain": [
       "MarketName                                       | street                                                   | city       | County               | State                | zip   | x        | y       | Website                                               | Facebook                                                     | Twitter                             | Youtube | OtherMedia                                                   | Organic | Tofu | Bakedgoods | Cheese | Crafts | Flowers | Eggs | Seafood | Herbs | Vegetables | Honey | Jams | Maple | Meat | Nursery | Nuts | Plants | Poultry | Prepared | Soap | Trees | Wine | Coffee | Beans | Fruits | Grains | Juices | Mushrooms | PetFood | WildHarvested | Location                                                   | Credit | WIC  | WICcash | SFMNP | SNAP | Season1Date              | Season1Time                                  | Season2Date | Season2Time | Season3Date | Season3Time | Season4Date | Season4Time\n",
       " Caledonia Farmers Market Association - Danville | nan                                                      | Danville   | Caledonia            | Vermont              | 05828 | -72.1403 | 44.411  | https://sites.google.com/site/caledoniafarmersmarket/ | https://www.facebook.com/Danville.VT.Farmers.Market/         | nan                                 | nan     | nan                                                          | Y       | N    | Y          | Y      | Y      | Y       | Y    | N       | Y     | Y          | Y     | Y    | Y     | Y    | N       | N    | Y      | Y       | Y        | Y    | Y     | N    | Y      | Y     | Y      | N      | Y      | N         | Y       | N             | nan                                                        | Y      | Y    | N       | Y     | N    | 06/08/2016 to 10/12/2016 | Wed: 9:00 AM-1:00 PM;                        | nan         | nan         | nan         | nan         | nan         | nan\n",
       " Stearns Homestead Farmers' Market               | 6975 Ridge Road                                          | Parma      | Cuyahoga             | Ohio                 | 44130 | -81.7286 | 41.3751 | http://Stearnshomestead.com                           | nan                                                          | nan                                 | nan     | nan                                                          | -       | N    | Y          | N      | N      | Y       | Y    | N       | Y     | Y          | Y     | Y    | Y     | Y    | N       | N    | Y      | N       | N        | N    | N     | N    | N      | N     | Y      | N      | N      | N         | Y       | N             | nan                                                        | Y      | Y    | N       | Y     | Y    | 06/25/2016 to 10/01/2016 | Sat: 9:00 AM-1:00 PM;                        | nan         | nan         | nan         | nan         | nan         | nan\n",
       "100 Mile Market                                  | 507 Harrison St                                          | Kalamazoo  | Kalamazoo            | Michigan             | 49007 | -85.5749 | 42.296  | http://www.pfcmarkets.com                             | https://www.facebook.com/100MileMarket/?fref=ts              | nan                                 | nan     | https://www.instagram.com/100milemarket/                     | N       | N    | Y          | Y      | N      | Y       | Y    | N       | Y     | Y          | Y     | Y    | Y     | Y    | N       | N    | N      | Y       | Y        | Y    | N     | Y    | N      | N     | Y      | Y      | N      | N         | N       | N             | nan                                                        | Y      | Y    | N       | Y     | Y    | 05/04/2016 to 10/12/2016 | Wed: 3:00 PM-7:00 PM;                        | nan         | nan         | nan         | nan         | nan         | nan\n",
       "106 S. Main Street Farmers Market                | 106 S. Main Street                                       | Six Mile   | nan                  | South Carolina       | 29682 | -82.8187 | 34.8042 | http://thetownofsixmile.wordpress.com/                | nan                                                          | nan                                 | nan     | nan                                                          | -       | N    | N          | N      | N      | N       | N    | N       | N     | N          | N     | N    | N     | N    | N       | N    | N      | N       | N        | N    | N     | N    | N      | N     | N      | N      | N      | N         | N       | N             | nan                                                        | Y      | N    | N       | N     | N    | nan                      | nan                                          | nan         | nan         | nan         | nan         | nan         | nan\n",
       "10th Steet Community Farmers Market              | 10th Street and Poplar                                   | Lamar      | Barton               | Missouri             | 64759 | -94.2746 | 37.4956 | nan                                                   | nan                                                          | nan                                 | nan     | http://agrimissouri.com/mo-grown/grodetail.php?type=mo-g ... | -       | N    | Y          | N      | Y      | N       | Y    | N       | Y     | Y          | Y     | Y    | N     | Y    | N       | N    | Y      | Y       | Y        | Y    | N     | N    | N      | N     | Y      | N      | N      | N         | N       | N             | nan                                                        | Y      | N    | N       | N     | N    | 04/02/2014 to 11/30/2014 | Wed: 3:00 PM-6:00 PM;Sat: 8:00 AM-1:00 PM;   | nan         | nan         | nan         | nan         | nan         | nan\n",
       "112st Madison Avenue                             | 112th Madison Avenue                                     | New York   | New York             | New York             | 10029 | -73.9493 | 40.7939 | nan                                                   | nan                                                          | nan                                 | nan     | nan                                                          | -       | N    | Y          | N      | Y      | Y       | N    | N       | Y     | Y          | Y     | Y    | N     | N    | N       | Y    | N      | N       | Y        | Y    | N     | N    | N      | N     | N      | N      | N      | N         | N       | N             | Private business parking lot                               | N      | N    | Y       | Y     | N    | July to November         | Tue:8:00 am - 5:00 pm;Sat:8:00 am - 8:00 pm; | nan         | nan         | nan         | nan         | nan         | nan\n",
       "12 South Farmers Market                          | 3000 Granny White Pike                                   | Nashville  | Davidson             | Tennessee            | 37204 | -86.7907 | 36.1184 | http://www.12southfarmersmarket.com                   | 12_South_Farmers_Market                                      | @12southfrmsmkt                     | nan     | @12southfrmsmkt                                              | Y       | N    | Y          | Y      | N      | Y       | Y    | N       | Y     | Y          | Y     | Y    | Y     | Y    | N       | N    | N      | Y       | Y        | Y    | N     | N    | Y      | N     | Y      | N      | Y      | Y         | Y       | N             | nan                                                        | Y      | N    | N       | N     | Y    | 05/05/2015 to 10/27/2015 | Tue: 3:30 PM-6:30 PM;                        | nan         | nan         | nan         | nan         | nan         | nan\n",
       "125th Street Fresh Connect Farmers' Market       | 163 West 125th Street and Adam Clayton Powell, Jr. Blvd. | New York   | New York             | New York             | 10027 | -73.9482 | 40.809  | http://www.125thStreetFarmersMarket.com               | https://www.facebook.com/125thStreetFarmersMarket            | https://twitter.com/FarmMarket125th | nan     | Instagram--> 125thStreetFarmersMarket                        | Y       | N    | Y          | Y      | Y      | Y       | Y    | N       | Y     | Y          | Y     | Y    | Y     | Y    | N       | Y    | N      | Y       | Y        | Y    | N     | Y    | Y      | N     | Y      | N      | Y      | N         | N       | N             | Federal/State government building grounds                  | Y      | Y    | N       | Y     | Y    | 06/10/2014 to 11/25/2014 | Tue: 10:00 AM-7:00 PM;                       | nan         | nan         | nan         | nan         | nan         | nan\n",
       "12th & Brandywine Urban Farm Market              | 12th & Brandywine Streets                                | Wilmington | New Castle           | Delaware             | 19801 | -75.5345 | 39.7421 | nan                                                   | https://www.facebook.com/pages/12th-Brandywine-Urban-Far ... | nan                                 | nan     | https://www.facebook.com/delawareurbanfarmcoalition          | N       | N    | N          | N      | N      | N       | N    | N       | Y     | Y          | N     | N    | N     | N    | N       | N    | N      | N       | N        | N    | N     | N    | N      | N     | Y      | N      | N      | N         | N       | N             | On a farm from: a barn, a greenhouse, a tent, a stand, etc | N      | N    | N       | N     | Y    | 05/16/2014 to 10/17/2014 | Fri: 8:00 AM-11:00 AM;                       | nan         | nan         | nan         | nan         | nan         | nan\n",
       "14&U Farmers' Market                             | 1400 U Street NW                                         | Washington | District of Columbia | District of Columbia | 20009 | -77.0321 | 38.917  | nan                                                   | https://www.facebook.com/14UFarmersMarket                    | https://twitter.com/14UFarmersMkt   | nan     | nan                                                          | Y       | N    | Y          | Y      | N      | Y       | Y    | N       | Y     | Y          | Y     | Y    | N     | Y    | N       | Y    | Y      | Y       | N        | N    | N     | N    | N      | Y     | Y      | Y      | Y      | N         | N       | N             | Other                                                      | Y      | Y    | Y       | Y     | Y    | 05/03/2014 to 11/22/2014 | Sat: 9:00 AM-1:00 PM;                        | nan         | nan         | nan         | nan         | nan         | nan\n",
       "... (8536 rows omitted)"
      ]
     },
     "execution_count": 161,
     "metadata": {},
     "output_type": "execute_result"
    }
   ],
   "source": [
    "farmers_markets_without_fmid = farmers_markets.drop(\"FMID\", \"updateTime\")\n",
    "farmers_markets_without_fmid"
   ]
  },
  {
   "cell_type": "markdown",
   "metadata": {},
   "source": [
    "Now, suppose we want to answer some questions about farmers' markets in the US. For example, which market(s) are the farthest north (given by the largest values in the `y` column)? \n",
    "\n",
    "To answer this, we'll sort `farmers_markets_locations` by latitude."
   ]
  },
  {
   "cell_type": "code",
   "execution_count": 163,
   "metadata": {},
   "outputs": [
    {
     "data": {
      "text/html": [
       "<table border=\"1\" class=\"dataframe\">\n",
       "    <thead>\n",
       "        <tr>\n",
       "            <th>MarketName</th> <th>city</th> <th>County</th> <th>State</th> <th>zip</th> <th>x</th> <th>y</th>\n",
       "        </tr>\n",
       "    </thead>\n",
       "    <tbody>\n",
       "        <tr>\n",
       "            <td>Anne Heyliger Vegetable Market             </td> <td>Saint Croix        </td> <td>Frederiksted </td> <td>Virgin Islands</td> <td>nan  </td> <td>-64.8799</td> <td>17.7099</td>\n",
       "        </tr>\n",
       "        <tr>\n",
       "            <td>La Reine Farmers Market                    </td> <td>Saint Croix        </td> <td>Christiansted</td> <td>Virgin Islands</td> <td>nan  </td> <td>-64.7789</td> <td>17.7322</td>\n",
       "        </tr>\n",
       "        <tr>\n",
       "            <td>Christian \"Shan\" Hendricks Vegetable Market</td> <td>Saint Croix        </td> <td>Christiansted</td> <td>Virgin Islands</td> <td>nan  </td> <td>-64.7043</td> <td>17.7449</td>\n",
       "        </tr>\n",
       "        <tr>\n",
       "            <td>El Maercado Familiar                       </td> <td>Arroyo zona urbana </td> <td>Arroyo       </td> <td>Puerto Rico   </td> <td>00714</td> <td>-66.0617</td> <td>17.9686</td>\n",
       "        </tr>\n",
       "        <tr>\n",
       "            <td>El Mercado Familiar                        </td> <td>Santa Isabel       </td> <td>Santa Isabel </td> <td>Puerto Rico   </td> <td>00757</td> <td>-66.4184</td> <td>17.9723</td>\n",
       "        </tr>\n",
       "        <tr>\n",
       "            <td>El Mercado Familiar                        </td> <td>Salinas zona urbana</td> <td>Salinas      </td> <td>Puerto Rico   </td> <td>00751</td> <td>-66.2954</td> <td>17.9782</td>\n",
       "        </tr>\n",
       "        <tr>\n",
       "            <td>El Mercado Familiar                        </td> <td>Guayama            </td> <td>Guayama      </td> <td>Puerto Rico   </td> <td>nan  </td> <td>-66.0938</td> <td>17.9792</td>\n",
       "        </tr>\n",
       "        <tr>\n",
       "            <td>El Mercado Familiar                        </td> <td>Guanica            </td> <td>Guanica      </td> <td>Puerto Rico   </td> <td>00653</td> <td>-66.9205</td> <td>17.9854</td>\n",
       "        </tr>\n",
       "        <tr>\n",
       "            <td>El Mercado Familiar                        </td> <td>Patillas           </td> <td>Patillas     </td> <td>Puerto Rico   </td> <td>00723</td> <td>-66.0135</td> <td>18.0069</td>\n",
       "        </tr>\n",
       "        <tr>\n",
       "            <td>El Mercado Familiar                        </td> <td>Peñuelas           </td> <td>Penuelas     </td> <td>Puerto Rico   </td> <td>00624</td> <td>-66.3572</td> <td>18.0089</td>\n",
       "        </tr>\n",
       "    </tbody>\n",
       "</table>\n",
       "<p>... (8536 rows omitted)</p>"
      ],
      "text/plain": [
       "MarketName                                  | city                | County        | State          | zip   | x        | y\n",
       "Anne Heyliger Vegetable Market              | Saint Croix         | Frederiksted  | Virgin Islands | nan   | -64.8799 | 17.7099\n",
       "La Reine Farmers Market                     | Saint Croix         | Christiansted | Virgin Islands | nan   | -64.7789 | 17.7322\n",
       "Christian \"Shan\" Hendricks Vegetable Market | Saint Croix         | Christiansted | Virgin Islands | nan   | -64.7043 | 17.7449\n",
       "El Maercado Familiar                        | Arroyo zona urbana  | Arroyo        | Puerto Rico    | 00714 | -66.0617 | 17.9686\n",
       "El Mercado Familiar                         | Santa Isabel        | Santa Isabel  | Puerto Rico    | 00757 | -66.4184 | 17.9723\n",
       "El Mercado Familiar                         | Salinas zona urbana | Salinas       | Puerto Rico    | 00751 | -66.2954 | 17.9782\n",
       "El Mercado Familiar                         | Guayama             | Guayama       | Puerto Rico    | nan   | -66.0938 | 17.9792\n",
       "El Mercado Familiar                         | Guanica             | Guanica       | Puerto Rico    | 00653 | -66.9205 | 17.9854\n",
       "El Mercado Familiar                         | Patillas            | Patillas      | Puerto Rico    | 00723 | -66.0135 | 18.0069\n",
       "El Mercado Familiar                         | Peñuelas            | Penuelas      | Puerto Rico    | 00624 | -66.3572 | 18.0089\n",
       "... (8536 rows omitted)"
      ]
     },
     "execution_count": 163,
     "metadata": {},
     "output_type": "execute_result"
    }
   ],
   "source": [
    "farmers_markets_locations.sort('y')"
   ]
  },
  {
   "cell_type": "markdown",
   "metadata": {},
   "source": [
    "Oops, that didn't answer our question because we sorted from smallest to largest latitude. To look at the largest latitudes, we'll have to sort in reverse order."
   ]
  },
  {
   "cell_type": "code",
   "execution_count": 165,
   "metadata": {},
   "outputs": [
    {
     "data": {
      "text/html": [
       "<table border=\"1\" class=\"dataframe\">\n",
       "    <thead>\n",
       "        <tr>\n",
       "            <th>MarketName</th> <th>city</th> <th>County</th> <th>State</th> <th>zip</th> <th>x</th> <th>y</th>\n",
       "        </tr>\n",
       "    </thead>\n",
       "    <tbody>\n",
       "        <tr>\n",
       "            <td>Tanana Valley Farmers Market  </td> <td>Fairbanks     </td> <td>Fairbanks North Star</td> <td>Alaska</td> <td>99709</td> <td>-147.781</td> <td>64.8628</td>\n",
       "        </tr>\n",
       "        <tr>\n",
       "            <td>Ester Community Market        </td> <td>Ester         </td> <td>Fairbanks North Star</td> <td>Alaska</td> <td>99725</td> <td>-148.01 </td> <td>64.8459</td>\n",
       "        </tr>\n",
       "        <tr>\n",
       "            <td>Fairbanks Downtown Market     </td> <td>Fairbanks     </td> <td>Fairbanks North Star</td> <td>Alaska</td> <td>99701</td> <td>-147.72 </td> <td>64.8444</td>\n",
       "        </tr>\n",
       "        <tr>\n",
       "            <td>Nenana Open Air Market        </td> <td>Nenana        </td> <td>nan                 </td> <td>Alaska</td> <td>99704</td> <td>-149.096</td> <td>64.5566</td>\n",
       "        </tr>\n",
       "        <tr>\n",
       "            <td>Highway's End Farmers' Market </td> <td>Delta Junction</td> <td>Fairbanks North Star</td> <td>Alaska</td> <td>99737</td> <td>-145.733</td> <td>64.0385</td>\n",
       "        </tr>\n",
       "        <tr>\n",
       "            <td>MountainTraders               </td> <td>Talkeetna     </td> <td>Matanuska-Susitna   </td> <td>Alaska</td> <td>99676</td> <td>-150.118</td> <td>62.3231</td>\n",
       "        </tr>\n",
       "        <tr>\n",
       "            <td>Talkeetna Farmers Market      </td> <td>Talkeetna     </td> <td>Matanuska-Susitna   </td> <td>Alaska</td> <td>99676</td> <td>-150.118</td> <td>62.3228</td>\n",
       "        </tr>\n",
       "        <tr>\n",
       "            <td>Denali Farmers Market         </td> <td>Anchorage     </td> <td>nan                 </td> <td>Alaska</td> <td>nan  </td> <td>-150.234</td> <td>62.3163</td>\n",
       "        </tr>\n",
       "        <tr>\n",
       "            <td>Kenny Lake Harvest II         </td> <td>Valdez        </td> <td>nan                 </td> <td>Alaska</td> <td>99686</td> <td>-145.476</td> <td>62.1079</td>\n",
       "        </tr>\n",
       "        <tr>\n",
       "            <td>Copper Valley Community Market</td> <td>Copper Valley </td> <td>nan                 </td> <td>Alaska</td> <td>99737</td> <td>-145.444</td> <td>62.0879</td>\n",
       "        </tr>\n",
       "    </tbody>\n",
       "</table>\n",
       "<p>... (8536 rows omitted)</p>"
      ],
      "text/plain": [
       "MarketName                     | city           | County               | State  | zip   | x        | y\n",
       "Tanana Valley Farmers Market   | Fairbanks      | Fairbanks North Star | Alaska | 99709 | -147.781 | 64.8628\n",
       "Ester Community Market         | Ester          | Fairbanks North Star | Alaska | 99725 | -148.01  | 64.8459\n",
       "Fairbanks Downtown Market      | Fairbanks      | Fairbanks North Star | Alaska | 99701 | -147.72  | 64.8444\n",
       "Nenana Open Air Market         | Nenana         | nan                  | Alaska | 99704 | -149.096 | 64.5566\n",
       "Highway's End Farmers' Market  | Delta Junction | Fairbanks North Star | Alaska | 99737 | -145.733 | 64.0385\n",
       "MountainTraders                | Talkeetna      | Matanuska-Susitna    | Alaska | 99676 | -150.118 | 62.3231\n",
       "Talkeetna Farmers Market       | Talkeetna      | Matanuska-Susitna    | Alaska | 99676 | -150.118 | 62.3228\n",
       "Denali Farmers Market          | Anchorage      | nan                  | Alaska | nan   | -150.234 | 62.3163\n",
       "Kenny Lake Harvest II          | Valdez         | nan                  | Alaska | 99686 | -145.476 | 62.1079\n",
       "Copper Valley Community Market | Copper Valley  | nan                  | Alaska | 99737 | -145.444 | 62.0879\n",
       "... (8536 rows omitted)"
      ]
     },
     "execution_count": 165,
     "metadata": {},
     "output_type": "execute_result"
    }
   ],
   "source": [
    "farmers_markets_locations.sort('y', descending=True)"
   ]
  },
  {
   "cell_type": "markdown",
   "metadata": {},
   "source": [
    "(The `descending=True` bit is called an *optional argument*. It has a default value of `False`, so when you explicitly tell the function `descending=True`, then the function will sort in descending order.)\n",
    "\n",
    "### `sort`\n",
    "\n",
    "Some details about sort:\n",
    "\n",
    "1. The first argument to `sort` is the name of a column to sort by.\n",
    "2. If the column has text in it, `sort` will sort alphabetically; if the column has numbers, it will sort numerically.\n",
    "3. The value of `farmers_markets_locations.sort(\"y\")` is a *copy* of `farmers_markets_locations`; the `farmers_markets_locations` table doesn't get modified. For example, if we called `farmers_markets_locations.sort(\"y\")`, then running `farmers_markets_locations` by itself would still return the unsorted table.\n",
    "4. Rows always stick together when a table is sorted.  It wouldn't make sense to sort just one column and leave the other columns alone.  For example, in this case, if we sorted just the `y` column, the farmers' markets would all end up with the wrong latitudes.\n",
    "\n",
    "**Question 2.5.** Create a version of `farmers_markets_locations` that's sorted by **longitude (`x`)**, with the largest longitudes first.  Call it `farmers_markets_locations_by_longitude`.\n",
    "\n",
    "<!--\n",
    "BEGIN QUESTION\n",
    "name: q25\n",
    "-->"
   ]
  },
  {
   "cell_type": "code",
   "execution_count": 167,
   "metadata": {
    "scrolled": true
   },
   "outputs": [
    {
     "data": {
      "text/html": [
       "<table border=\"1\" class=\"dataframe\">\n",
       "    <thead>\n",
       "        <tr>\n",
       "            <th>MarketName</th> <th>city</th> <th>County</th> <th>State</th> <th>zip</th> <th>x</th> <th>y</th>\n",
       "        </tr>\n",
       "    </thead>\n",
       "    <tbody>\n",
       "        <tr>\n",
       "            <td>Christian \"Shan\" Hendricks Vegetable Market</td> <td>Saint Croix       </td> <td>Christiansted</td> <td>Virgin Islands</td> <td>nan  </td> <td>-64.7043</td> <td>17.7449</td>\n",
       "        </tr>\n",
       "        <tr>\n",
       "            <td>La Reine Farmers Market                    </td> <td>Saint Croix       </td> <td>Christiansted</td> <td>Virgin Islands</td> <td>nan  </td> <td>-64.7789</td> <td>17.7322</td>\n",
       "        </tr>\n",
       "        <tr>\n",
       "            <td>Anne Heyliger Vegetable Market             </td> <td>Saint Croix       </td> <td>Frederiksted </td> <td>Virgin Islands</td> <td>nan  </td> <td>-64.8799</td> <td>17.7099</td>\n",
       "        </tr>\n",
       "        <tr>\n",
       "            <td>Rothschild Francis Vegetable Market        </td> <td>St. Thomas        </td> <td>St. Thomas   </td> <td>Virgin Islands</td> <td>nan  </td> <td>-64.9326</td> <td>18.3428</td>\n",
       "        </tr>\n",
       "        <tr>\n",
       "            <td>Feria Agrícola de Luquillo                 </td> <td>Luquillo          </td> <td>Luquillo     </td> <td>Puerto Rico   </td> <td>00773</td> <td>-65.7207</td> <td>18.3782</td>\n",
       "        </tr>\n",
       "        <tr>\n",
       "            <td>El Mercado Familiar                        </td> <td>San Lorenzo       </td> <td>San Lorenzo  </td> <td>Puerto Rico   </td> <td>00754</td> <td>-65.9674</td> <td>18.1871</td>\n",
       "        </tr>\n",
       "        <tr>\n",
       "            <td>El Mercado Familiar                        </td> <td>Gurabo            </td> <td>Gurabo       </td> <td>Puerto Rico   </td> <td>00778</td> <td>-65.9786</td> <td>18.2526</td>\n",
       "        </tr>\n",
       "        <tr>\n",
       "            <td>El Mercado Familiar                        </td> <td>Patillas          </td> <td>Patillas     </td> <td>Puerto Rico   </td> <td>00723</td> <td>-66.0135</td> <td>18.0069</td>\n",
       "        </tr>\n",
       "        <tr>\n",
       "            <td>El Mercado Familiar                        </td> <td>Caguas zona urbana</td> <td>Caguas       </td> <td>Puerto Rico   </td> <td>00725</td> <td>-66.039 </td> <td>18.2324</td>\n",
       "        </tr>\n",
       "        <tr>\n",
       "            <td>El Maercado Familiar                       </td> <td>Arroyo zona urbana</td> <td>Arroyo       </td> <td>Puerto Rico   </td> <td>00714</td> <td>-66.0617</td> <td>17.9686</td>\n",
       "        </tr>\n",
       "    </tbody>\n",
       "</table>\n",
       "<p>... (8536 rows omitted)</p>"
      ],
      "text/plain": [
       "MarketName                                  | city               | County        | State          | zip   | x        | y\n",
       "Christian \"Shan\" Hendricks Vegetable Market | Saint Croix        | Christiansted | Virgin Islands | nan   | -64.7043 | 17.7449\n",
       "La Reine Farmers Market                     | Saint Croix        | Christiansted | Virgin Islands | nan   | -64.7789 | 17.7322\n",
       "Anne Heyliger Vegetable Market              | Saint Croix        | Frederiksted  | Virgin Islands | nan   | -64.8799 | 17.7099\n",
       "Rothschild Francis Vegetable Market         | St. Thomas         | St. Thomas    | Virgin Islands | nan   | -64.9326 | 18.3428\n",
       "Feria Agrícola de Luquillo                  | Luquillo           | Luquillo      | Puerto Rico    | 00773 | -65.7207 | 18.3782\n",
       "El Mercado Familiar                         | San Lorenzo        | San Lorenzo   | Puerto Rico    | 00754 | -65.9674 | 18.1871\n",
       "El Mercado Familiar                         | Gurabo             | Gurabo        | Puerto Rico    | 00778 | -65.9786 | 18.2526\n",
       "El Mercado Familiar                         | Patillas           | Patillas      | Puerto Rico    | 00723 | -66.0135 | 18.0069\n",
       "El Mercado Familiar                         | Caguas zona urbana | Caguas        | Puerto Rico    | 00725 | -66.039  | 18.2324\n",
       "El Maercado Familiar                        | Arroyo zona urbana | Arroyo        | Puerto Rico    | 00714 | -66.0617 | 17.9686\n",
       "... (8536 rows omitted)"
      ]
     },
     "execution_count": 167,
     "metadata": {},
     "output_type": "execute_result"
    }
   ],
   "source": [
    "farmers_markets_locations_by_longitude = farmers_markets_locations.sort(\"x\", descending=True)\n",
    "farmers_markets_locations_by_longitude"
   ]
  },
  {
   "cell_type": "markdown",
   "metadata": {},
   "source": [
    "Now let's say we want a table of all farmers' markets in North Carolina. Sorting won't help us much here because North Carolina is closer to the middle of the dataset.\n",
    "\n",
    "Instead, we use the table method `where`."
   ]
  },
  {
   "cell_type": "code",
   "execution_count": 169,
   "metadata": {},
   "outputs": [
    {
     "data": {
      "text/html": [
       "<table border=\"1\" class=\"dataframe\">\n",
       "    <thead>\n",
       "        <tr>\n",
       "            <th>MarketName</th> <th>city</th> <th>County</th> <th>State</th> <th>zip</th> <th>x</th> <th>y</th>\n",
       "        </tr>\n",
       "    </thead>\n",
       "    <tbody>\n",
       "        <tr>\n",
       "            <td>Afton Village Farmers Market   </td> <td>Concord       </td> <td>Cabarrus </td> <td>North Carolina</td> <td>28027</td> <td>-80.6702</td> <td>35.414 </td>\n",
       "        </tr>\n",
       "        <tr>\n",
       "            <td>Alamance County Farmers Market </td> <td>Burlington    </td> <td>Alamance </td> <td>North Carolina</td> <td>27215</td> <td>-79.4357</td> <td>36.0943</td>\n",
       "        </tr>\n",
       "        <tr>\n",
       "            <td>Alexander County Farmers Market</td> <td>Taylorsville  </td> <td>Alexander</td> <td>North Carolina</td> <td>28681</td> <td>-81.1781</td> <td>35.9197</td>\n",
       "        </tr>\n",
       "        <tr>\n",
       "            <td>Alleghany Farmers Market       </td> <td>Sparta        </td> <td>Alleghany</td> <td>North Carolina</td> <td>28675</td> <td>-81.1226</td> <td>36.503 </td>\n",
       "        </tr>\n",
       "        <tr>\n",
       "            <td>Andrews Farmers Market         </td> <td>Andrews       </td> <td>Cherokee </td> <td>North Carolina</td> <td>nan  </td> <td>-83.8232</td> <td>35.2027</td>\n",
       "        </tr>\n",
       "        <tr>\n",
       "            <td>Anson County Farmers Market    </td> <td>Wadesboro     </td> <td>Anson    </td> <td>North Carolina</td> <td>28170</td> <td>-80.0526</td> <td>34.9408</td>\n",
       "        </tr>\n",
       "        <tr>\n",
       "            <td>Apex Farmers Market            </td> <td>Apex          </td> <td>Wake     </td> <td>North Carolina</td> <td>27502</td> <td>-78.8499</td> <td>35.732 </td>\n",
       "        </tr>\n",
       "        <tr>\n",
       "            <td>Ashboro Downtown Farmers Market</td> <td>Asheboro      </td> <td>Randolph </td> <td>North Carolina</td> <td>28801</td> <td>-79.8175</td> <td>35.7049</td>\n",
       "        </tr>\n",
       "        <tr>\n",
       "            <td>Ashe County Farmers Market     </td> <td>West Jefferson</td> <td>Ashe     </td> <td>North Carolina</td> <td>28694</td> <td>-81.4935</td> <td>36.4025</td>\n",
       "        </tr>\n",
       "        <tr>\n",
       "            <td>Asheville City Market          </td> <td>Asheville     </td> <td>Buncombe </td> <td>North Carolina</td> <td>28801</td> <td>-82.5489</td> <td>35.5935</td>\n",
       "        </tr>\n",
       "    </tbody>\n",
       "</table>\n",
       "<p>... (242 rows omitted)</p>"
      ],
      "text/plain": [
       "MarketName                      | city           | County    | State          | zip   | x        | y\n",
       "Afton Village Farmers Market    | Concord        | Cabarrus  | North Carolina | 28027 | -80.6702 | 35.414\n",
       "Alamance County Farmers Market  | Burlington     | Alamance  | North Carolina | 27215 | -79.4357 | 36.0943\n",
       "Alexander County Farmers Market | Taylorsville   | Alexander | North Carolina | 28681 | -81.1781 | 35.9197\n",
       "Alleghany Farmers Market        | Sparta         | Alleghany | North Carolina | 28675 | -81.1226 | 36.503\n",
       "Andrews Farmers Market          | Andrews        | Cherokee  | North Carolina | nan   | -83.8232 | 35.2027\n",
       "Anson County Farmers Market     | Wadesboro      | Anson     | North Carolina | 28170 | -80.0526 | 34.9408\n",
       "Apex Farmers Market             | Apex           | Wake      | North Carolina | 27502 | -78.8499 | 35.732\n",
       "Ashboro Downtown Farmers Market | Asheboro       | Randolph  | North Carolina | 28801 | -79.8175 | 35.7049\n",
       "Ashe County Farmers Market      | West Jefferson | Ashe      | North Carolina | 28694 | -81.4935 | 36.4025\n",
       "Asheville City Market           | Asheville      | Buncombe  | North Carolina | 28801 | -82.5489 | 35.5935\n",
       "... (242 rows omitted)"
      ]
     },
     "execution_count": 169,
     "metadata": {},
     "output_type": "execute_result"
    }
   ],
   "source": [
    "nc_farmers_markets = farmers_markets_locations.where('State', are.equal_to('North Carolina'))\n",
    "nc_farmers_markets"
   ]
  },
  {
   "cell_type": "markdown",
   "metadata": {},
   "source": [
    "### `where`\n",
    "\n",
    "Now let's dive into the details a bit more.  `where` takes 2 arguments:\n",
    "\n",
    "1. The name of a column.  `where` finds rows where that column's values meet some criterion.\n",
    "2. A predicate that describes the criterion that the column needs to meet.\n",
    "\n",
    "The predicate in the example above called the function `are.equal_to` with the value we wanted, 'North Carolina'.  We'll see other predicates soon. \n",
    "\n",
    "`where` returns a table that's a copy of the original table, but **with only the rows that meet the given predicate**."
   ]
  },
  {
   "cell_type": "markdown",
   "metadata": {},
   "source": [
    "**Question 2.6.** Use `nc_farmers_markets` to create a table called `oc_markets` containing farmers' markets in Orange County, North Carolina\n",
    "<!--\n",
    "BEGIN QUESTION\n",
    "name: q36\n",
    "-->"
   ]
  },
  {
   "cell_type": "code",
   "execution_count": 213,
   "metadata": {},
   "outputs": [
    {
     "data": {
      "text/html": [
       "<table border=\"1\" class=\"dataframe\">\n",
       "    <thead>\n",
       "        <tr>\n",
       "            <th>MarketName</th> <th>city</th> <th>County</th> <th>State</th> <th>zip</th> <th>x</th> <th>y</th>\n",
       "        </tr>\n",
       "    </thead>\n",
       "    <tbody>\n",
       "        <tr>\n",
       "            <td>Carrboro Farmers' Market                         </td> <td>Carrboro    </td> <td>Orange</td> <td>North Carolina</td> <td>27510</td> <td>-79.0776</td> <td>35.9109</td>\n",
       "        </tr>\n",
       "        <tr>\n",
       "            <td>Eno River Farmers Market in Downtown Hillsborough</td> <td>Hillsborough</td> <td>Orange</td> <td>North Carolina</td> <td>27278</td> <td>-79.0978</td> <td>36.074 </td>\n",
       "        </tr>\n",
       "        <tr>\n",
       "            <td>Hillsborough Farmers Market                      </td> <td>Hillsborough</td> <td>Orange</td> <td>North Carolina</td> <td>27278</td> <td>-79.0807</td> <td>36.0555</td>\n",
       "        </tr>\n",
       "        <tr>\n",
       "            <td>Southern Village Farmers Market                  </td> <td>Chapel Hill </td> <td>Orange</td> <td>North Carolina</td> <td>27517</td> <td>-79.0659</td> <td>35.881 </td>\n",
       "        </tr>\n",
       "        <tr>\n",
       "            <td>The Chapel Hill Farmers' Market                  </td> <td>Chapel Hill </td> <td>Orange</td> <td>North Carolina</td> <td>27514</td> <td>-79.0294</td> <td>35.9275</td>\n",
       "        </tr>\n",
       "    </tbody>\n",
       "</table>"
      ],
      "text/plain": [
       "MarketName                                        | city         | County | State          | zip   | x        | y\n",
       "Carrboro Farmers' Market                          | Carrboro     | Orange | North Carolina | 27510 | -79.0776 | 35.9109\n",
       "Eno River Farmers Market in Downtown Hillsborough | Hillsborough | Orange | North Carolina | 27278 | -79.0978 | 36.074\n",
       "Hillsborough Farmers Market                       | Hillsborough | Orange | North Carolina | 27278 | -79.0807 | 36.0555\n",
       "Southern Village Farmers Market                   | Chapel Hill  | Orange | North Carolina | 27517 | -79.0659 | 35.881\n",
       "The Chapel Hill Farmers' Market                   | Chapel Hill  | Orange | North Carolina | 27514 | -79.0294 | 35.9275"
      ]
     },
     "execution_count": 213,
     "metadata": {},
     "output_type": "execute_result"
    }
   ],
   "source": [
    "oc_markets = nc_farmers_markets.where('County', are.equal_to('Orange')).where('State', are.equal_to('North Carolina'))\n",
    "oc_markets"
   ]
  },
  {
   "cell_type": "markdown",
   "metadata": {},
   "source": [
    "Recognize any of them?"
   ]
  },
  {
   "cell_type": "markdown",
   "metadata": {},
   "source": [
    "So far we've only been using `where` with the predicate that requires finding the values in a column to be *exactly* equal to a certain value. However, there are many other predicates. Here are a few:\n",
    "\n",
    "|Predicate|Example|Result|\n",
    "|-|-|-|\n",
    "|`are.equal_to`|`are.equal_to(50)`|Find rows with values equal to 50|\n",
    "|`are.not_equal_to`|`are.not_equal_to(50)`|Find rows with values not equal to 50|\n",
    "|`are.above`|`are.above(50)`|Find rows with values above (and not equal to) 50|\n",
    "|`are.above_or_equal_to`|`are.above_or_equal_to(50)`|Find rows with values above 50 or equal to 50|\n",
    "|`are.below`|`are.below(50)`|Find rows with values below 50|\n",
    "|`are.between`|`are.between(2, 10)`|Find rows with values above or equal to 2 and below 10|"
   ]
  },
  {
   "cell_type": "markdown",
   "metadata": {},
   "source": [
    "## 3. Analyzing a dataset\n",
    "\n",
    "Now that you're familiar with table operations, let’s answer more questions using this data!"
   ]
  },
  {
   "cell_type": "markdown",
   "metadata": {},
   "source": [
    "Often, we want to perform multiple operations - sorting, filtering, or others - in order to turn a table we have into something more useful. You can do these operations one by one, e.g.\n",
    "\n",
    "```\n",
    "first_step = original_tbl.where(“col1”, are.equal_to(12))\n",
    "second_step = first_step.sort(‘col2’, descending=True)\n",
    "```\n",
    "\n",
    "However, since the value of the expression `original_tbl.where(“col1”, are.equal_to(12))` is itself a table, you can just call a table method on it:\n",
    "\n",
    "```\n",
    "original_tbl.where(“col1”, are.equal_to(12)).sort(‘col2’, descending=True)\n",
    "```\n",
    "You should organize your work in the way that makes the most sense to you, using informative names for any intermediate tables you create. "
   ]
  },
  {
   "cell_type": "markdown",
   "metadata": {},
   "source": [
    "**Question 3.1.** \n",
    "\n",
    "Suppose that you would like to visit a farmers' market in Orange County, NC that sells wine, eggs, coffee, and takes credit cards (`Credit`). Use the `farmers_markets` table to produce a new table `shopping_trip` that can help you to succinctly decide where to go."
   ]
  },
  {
   "cell_type": "code",
   "execution_count": 229,
   "metadata": {},
   "outputs": [
    {
     "data": {
      "text/html": [
       "<table border=\"1\" class=\"dataframe\">\n",
       "    <thead>\n",
       "        <tr>\n",
       "            <th>MarketName</th> <th>city</th> <th>County</th> <th>State</th> <th>Wine</th> <th>Eggs</th> <th>Coffee</th> <th>Credit</th>\n",
       "        </tr>\n",
       "    </thead>\n",
       "    <tbody>\n",
       "        <tr>\n",
       "            <td>Carrboro Farmers' Market                         </td> <td>Carrboro    </td> <td>Orange</td> <td>North Carolina</td> <td>Y   </td> <td>Y   </td> <td>Y     </td> <td>Y     </td>\n",
       "        </tr>\n",
       "        <tr>\n",
       "            <td>Eno River Farmers Market in Downtown Hillsborough</td> <td>Hillsborough</td> <td>Orange</td> <td>North Carolina</td> <td>Y   </td> <td>Y   </td> <td>Y     </td> <td>Y     </td>\n",
       "        </tr>\n",
       "        <tr>\n",
       "            <td>Hillsborough Farmers Market                      </td> <td>Hillsborough</td> <td>Orange</td> <td>North Carolina</td> <td>N   </td> <td>Y   </td> <td>N     </td> <td>Y     </td>\n",
       "        </tr>\n",
       "        <tr>\n",
       "            <td>Southern Village Farmers Market                  </td> <td>Chapel Hill </td> <td>Orange</td> <td>North Carolina</td> <td>N   </td> <td>N   </td> <td>N     </td> <td>N     </td>\n",
       "        </tr>\n",
       "        <tr>\n",
       "            <td>The Chapel Hill Farmers' Market                  </td> <td>Chapel Hill </td> <td>Orange</td> <td>North Carolina</td> <td>Y   </td> <td>Y   </td> <td>Y     </td> <td>Y     </td>\n",
       "        </tr>\n",
       "    </tbody>\n",
       "</table>"
      ],
      "text/plain": [
       "MarketName                                        | city         | County | State          | Wine | Eggs | Coffee | Credit\n",
       "Carrboro Farmers' Market                          | Carrboro     | Orange | North Carolina | Y    | Y    | Y      | Y\n",
       "Eno River Farmers Market in Downtown Hillsborough | Hillsborough | Orange | North Carolina | Y    | Y    | Y      | Y\n",
       "Hillsborough Farmers Market                       | Hillsborough | Orange | North Carolina | N    | Y    | N      | Y\n",
       "Southern Village Farmers Market                   | Chapel Hill  | Orange | North Carolina | N    | N    | N      | N\n",
       "The Chapel Hill Farmers' Market                   | Chapel Hill  | Orange | North Carolina | Y    | Y    | Y      | Y"
      ]
     },
     "execution_count": 229,
     "metadata": {},
     "output_type": "execute_result"
    }
   ],
   "source": [
    "shopping_trip = farmers_markets.where('County', are.equal_to('Orange')).where('State', are.equal_to('North Carolina')).select(\"MarketName\", \"city\",\"County\",\"State\", \"Wine\", \"Eggs\", \"Coffee\", \"Credit\")\n",
    "shopping_trip"
   ]
  },
  {
   "cell_type": "markdown",
   "metadata": {},
   "source": [
    "**Question 3.2.** \n",
    "\n",
    "Which farmers market (or markets) could you choose for this shopping trip based on the table that you constructed in the previous question?"
   ]
  },
  {
   "cell_type": "markdown",
   "metadata": {},
   "source": [
    "Carrboro Farmers' Market, The Chapel Hill Farmers' Market, and Eno River Farmers Market in Downtown Hillsborough"
   ]
  },
  {
   "cell_type": "markdown",
   "metadata": {},
   "source": [
    "**Question 3.3.** Use `num_rows` (and arithmetic) to find the *proportion* of farmers' markets in North Carolina that sell wine (`Wine`). Assign `NC_wine_prop` to this proportion\n",
    "\n",
    "How does this compare the *proportion of* of all farmers' markets in the `farmers_market` table that sell wine? Assign `US_wine` to this proportion\n",
    "\n",
    "<!--\n",
    "BEGIN QUESTION\n",
    "name: q33\n",
    "-->"
   ]
  },
  {
   "cell_type": "code",
   "execution_count": 239,
   "metadata": {},
   "outputs": [
    {
     "name": "stdout",
     "output_type": "stream",
     "text": [
      "Proportion of North Carolina farmers' markets selling wine: 252\n",
      "Proportion of US farmers' markets selling wine: 8546\n"
     ]
    }
   ],
   "source": [
    "NC_wine_prop = farmers_markets.where('State', are.equal_to('North Carolina')).num_rows\n",
    "US_wine_prop = farmers_markets.num_rows\n",
    "\n",
    "print(\"Proportion of North Carolina farmers' markets selling wine:\", NC_wine_prop)\n",
    "print(\"Proportion of US farmers' markets selling wine:\", US_wine_prop)"
   ]
  },
  {
   "cell_type": "markdown",
   "metadata": {},
   "source": [
    "**Question 3.4.**\n",
    "\n",
    "Find (guess) a state where the proportion of farmers' markets selling wine is more than double the national average (`US_wine_prop`) and determine this proportion for your chosen state."
   ]
  },
  {
   "cell_type": "code",
   "execution_count": 241,
   "metadata": {},
   "outputs": [],
   "source": [
    "Chosen_State = 'California'"
   ]
  },
  {
   "cell_type": "code",
   "execution_count": 251,
   "metadata": {},
   "outputs": [
    {
     "name": "stdout",
     "output_type": "stream",
     "text": [
      "Proportion of California farmers' markets selling wine: 8.83454247601217 %\n"
     ]
    }
   ],
   "source": [
    "Chosen_State_wine_prop = ((farmers_markets.where('State', are.equal_to('California')).num_rows) / (farmers_markets.num_rows)) * 100\n",
    "print(\"Proportion of\", Chosen_State, \"farmers' markets selling wine:\", Chosen_State_wine_prop,\"%\")"
   ]
  },
  {
   "cell_type": "markdown",
   "metadata": {},
   "source": [
    "# 4. Text\n",
    "Programming doesn't just concern numbers. Text is one of the most common data types used in programs. \n",
    "\n",
    "Text is represented by a **string value** in Python. The word \"string\" is a programming term for a sequence of characters. A string might contain a single character, a word, a sentence, or a whole book.\n",
    "\n",
    "To distinguish text data from actual code, we demarcate strings by putting quotation marks around them. Single quotes (`'`) and double quotes (`\"`) are both valid, but the types of opening and closing quotation marks must match. The contents can be any sequence of characters, including numbers and symbols. \n",
    "\n",
    "We've seen strings before in `print` statements.  Below, two different strings are passed as arguments to the `print` function."
   ]
  },
  {
   "cell_type": "code",
   "execution_count": 189,
   "metadata": {},
   "outputs": [
    {
     "name": "stdout",
     "output_type": "stream",
     "text": [
      "I <3 Data Science\n"
     ]
    }
   ],
   "source": [
    "print(\"I <3\", 'Data Science')"
   ]
  },
  {
   "cell_type": "markdown",
   "metadata": {},
   "source": [
    "Just as names can be given to numbers, names can be given to string values.  The names and strings aren't required to be similar in any way. Any name can be assigned to any string."
   ]
  },
  {
   "cell_type": "code",
   "execution_count": 191,
   "metadata": {},
   "outputs": [
    {
     "name": "stdout",
     "output_type": "stream",
     "text": [
      "two * two\n"
     ]
    }
   ],
   "source": [
    "one = 'two'\n",
    "plus = '*'\n",
    "print(one, plus, one)"
   ]
  },
  {
   "cell_type": "markdown",
   "metadata": {},
   "source": [
    "**Question 4.1.** Yuri Gagarin was the first person to travel through outer space.  When he emerged from his capsule upon landing on Earth, he [reportedly](https://en.wikiquote.org/wiki/Yuri_Gagarin) had the following conversation with a woman and girl who saw the landing:\n",
    "\n",
    "    The woman asked: \"Can it be that you have come from outer space?\"\n",
    "    Gagarin replied: \"As a matter of fact, I have!\"\n",
    "\n",
    "The cell below contains unfinished code.  Fill in the `...`s so that it prints out this conversation *exactly* as it appears above.\n",
    "\n",
    "<!--\n",
    "BEGIN QUESTION\n",
    "name: q4_1\n",
    "-->"
   ]
  },
  {
   "cell_type": "code",
   "execution_count": 254,
   "metadata": {},
   "outputs": [
    {
     "name": "stdout",
     "output_type": "stream",
     "text": [
      "The woman asked: \"Can it be that you have come from outer space?\"\n",
      "Gagarin replied: \"As a matter of fact, I have!\"\n"
     ]
    }
   ],
   "source": [
    "woman_asking = \"The woman asked:\"\n",
    "woman_quote = '\"Can it be that you have come from outer space?\"'\n",
    "gagarin_reply = 'Gagarin replied:'\n",
    "gagarin_quote = '\"As a matter of fact, I have!\"'\n",
    "\n",
    "print(woman_asking, woman_quote)\n",
    "print(gagarin_reply, gagarin_quote)"
   ]
  },
  {
   "cell_type": "markdown",
   "metadata": {},
   "source": [
    "## 4.1. String Methods"
   ]
  },
  {
   "cell_type": "markdown",
   "metadata": {},
   "source": [
    "Strings can be transformed using **methods**. Recall that methods and functions are not technically the same thing, but we'll be using them interchangeably for the purposes of this course.\n",
    "\n",
    "Here's a sketch of how to call methods on a string:\n",
    "\n",
    "    <expression that evaluates to a string>.<method name>(<argument>, <argument>, ...)\n",
    "    \n",
    "One example of a string method is `replace`, which replaces all instances of some part of the original string (or a *substring*) with a new string. \n",
    "\n",
    "    <original string>.replace(<old substring>, <new substring>)\n",
    "    \n",
    "`replace` returns (evaluates to) a new string, leaving the original string unchanged.\n",
    "    \n",
    "Try to predict the output of this example, then run the cell!"
   ]
  },
  {
   "cell_type": "code",
   "execution_count": 256,
   "metadata": {},
   "outputs": [
    {
     "name": "stdout",
     "output_type": "stream",
     "text": [
      "Hella Hello\n"
     ]
    }
   ],
   "source": [
    "# Replace one letter\n",
    "hello = 'Hello'\n",
    "print(hello.replace('o', 'a'), hello)"
   ]
  },
  {
   "cell_type": "markdown",
   "metadata": {},
   "source": [
    "You can call functions on the results of other functions.  For example, `max(abs(-5), abs(3))` evaluates to 5.  Similarly, you can call methods on the results of other method or function calls.\n",
    "\n",
    "You may have already noticed one difference between functions and methods - a function like `max` does not require a `.` before it's called, but a string method like `replace` does."
   ]
  },
  {
   "cell_type": "code",
   "execution_count": 198,
   "metadata": {
    "scrolled": true
   },
   "outputs": [
    {
     "data": {
      "text/plain": [
       "'degrade'"
      ]
     },
     "execution_count": 198,
     "metadata": {},
     "output_type": "execute_result"
    }
   ],
   "source": [
    "# Calling replace on the output of another call to replace\n",
    "'train'.replace('t', 'ing').replace('in', 'de')"
   ]
  },
  {
   "cell_type": "markdown",
   "metadata": {},
   "source": [
    "Here's a picture of how Python evaluates a \"chained\" method call like that:\n",
    "\n",
    "<img src=\"lab02-chaining_method_calls.jpg\"/>"
   ]
  },
  {
   "cell_type": "markdown",
   "metadata": {},
   "source": [
    "**Question 4.1.1.** Use `replace` to transform the string `'clarinetists'` into `'statistics'`. Assign your result to `new_word`.\n",
    "\n",
    "<!--\n",
    "BEGIN QUESTION\n",
    "name: q411\n",
    "-->"
   ]
  },
  {
   "cell_type": "code",
   "execution_count": 260,
   "metadata": {},
   "outputs": [
    {
     "data": {
      "text/plain": [
       "'statistics'"
      ]
     },
     "execution_count": 260,
     "metadata": {},
     "output_type": "execute_result"
    }
   ],
   "source": [
    "new_word = 'clarinetists'.replace(\"clarine\", \"sta\").replace(\"ts\", \"tics\")\n",
    "new_word"
   ]
  },
  {
   "cell_type": "markdown",
   "metadata": {},
   "source": [
    "There are many more string methods in Python, but most programmers don't memorize their names or how to use them.  In the \"real world,\" people usually just search the internet for documentation and examples. A complete [list of string methods](https://docs.python.org/3/library/stdtypes.html#string-methods) appears in the Python language documentation. [Stack Overflow](http://stackoverflow.com) has a huge database of answered questions that often demonstrate how to use these methods to achieve various ends."
   ]
  },
  {
   "cell_type": "markdown",
   "metadata": {},
   "source": [
    "## 4.2. Converting to and from Strings"
   ]
  },
  {
   "cell_type": "markdown",
   "metadata": {},
   "source": [
    "Strings and numbers are different *types* of values, even when a string contains the digits of a number. For example, evaluating the following cell causes an error because an integer cannot be added to a string."
   ]
  },
  {
   "cell_type": "code",
   "execution_count": 263,
   "metadata": {},
   "outputs": [
    {
     "ename": "TypeError",
     "evalue": "unsupported operand type(s) for +: 'int' and 'str'",
     "output_type": "error",
     "traceback": [
      "\u001b[0;31m---------------------------------------------------------------------------\u001b[0m",
      "\u001b[0;31mTypeError\u001b[0m                                 Traceback (most recent call last)",
      "Cell \u001b[0;32mIn[263], line 1\u001b[0m\n\u001b[0;32m----> 1\u001b[0m \u001b[38;5;241m8\u001b[39m \u001b[38;5;241m+\u001b[39m \u001b[38;5;124m\"\u001b[39m\u001b[38;5;124m8\u001b[39m\u001b[38;5;124m\"\u001b[39m\n",
      "\u001b[0;31mTypeError\u001b[0m: unsupported operand type(s) for +: 'int' and 'str'"
     ]
    }
   ],
   "source": [
    "8 + \"8\""
   ]
  },
  {
   "cell_type": "markdown",
   "metadata": {},
   "source": [
    "However, there are built-in functions to convert numbers to strings and strings to numbers. Some of these built-in functions have restrictions on the type of argument they take:\n",
    "\n",
    "|Function |Description|\n",
    "|-|-|\n",
    "|`int`|Converts a string of digits or a float to an integer (\"int\") value|\n",
    "|`float`|Converts a string of digits (perhaps with a decimal point) or an int to a decimal (\"float\") value|\n",
    "|`str`|Converts any value to a string|"
   ]
  },
  {
   "cell_type": "markdown",
   "metadata": {},
   "source": [
    "Try to predict what data type and value `example` evaluates to, then run the cell."
   ]
  },
  {
   "cell_type": "code",
   "execution_count": 266,
   "metadata": {},
   "outputs": [
    {
     "name": "stdout",
     "output_type": "stream",
     "text": [
      "26.0\n",
      "This example returned a <class 'float'>!\n"
     ]
    }
   ],
   "source": [
    "example = 8 + int(\"10\") + float(\"8\")\n",
    "\n",
    "print(example)\n",
    "print(\"This example returned a \" + str(type(example)) + \"!\")"
   ]
  },
  {
   "cell_type": "markdown",
   "metadata": {},
   "source": [
    "Suppose you're writing a program that looks for dates in a text, and you want your program to find the amount of time that elapsed between two years it has identified.  It doesn't make sense to subtract two texts, but you can first convert the text containing the years into numbers.\n",
    "\n",
    "**Question 4.2.1.** Finish the code below to compute the number of years that elapsed between `one_year` and `another_year`.  Don't just write the numbers `1979` and `2022` (or `43`); use a conversion function to turn the given text data into numbers.\n",
    "\n",
    "<!--\n",
    "BEGIN QUESTION\n",
    "name: q421\n",
    "-->"
   ]
  },
  {
   "cell_type": "code",
   "execution_count": 272,
   "metadata": {},
   "outputs": [
    {
     "data": {
      "text/plain": [
       "43"
      ]
     },
     "execution_count": 272,
     "metadata": {},
     "output_type": "execute_result"
    }
   ],
   "source": [
    "# Some text data:\n",
    "one_year = \"1979\"\n",
    "another_year = \"2022\"\n",
    "\n",
    "# Complete the next line.  Note that we can't just write:\n",
    "#   another_year - one_year\n",
    "# If you don't see why, try seeing what happens when you\n",
    "# write that here.\n",
    "difference = int(another_year) - int(one_year)\n",
    "difference"
   ]
  },
  {
   "cell_type": "markdown",
   "metadata": {},
   "source": [
    "## 4.3. Passing strings to functions\n",
    "\n",
    "String values, like numbers, can be arguments to functions and can be returned by functions. \n",
    "\n",
    "The function `len` (derived from the word \"length\") takes a single string as its argument and returns the number of characters (including spaces) in the string.\n",
    "\n",
    "Note that it doesn't count *words*. `len(\"one small step for man\")` evaluates to 22, not 5.\n",
    "\n",
    "**Question 4.3.1.**  Use `len` to find the number of characters in the long string in the next cell.  Characters include things like spaces and punctuation. Assign `speech_length` to that number.\n",
    "\n",
    "(The string is the text of North Carolina Gov. Roy Cooper's 2021 inauguration speech from the [AP News](https://apnews.com/article/health-north-carolina-inaugurations-coronavirus-pandemic-0b2b6cc2c722a00971bc5f9e4c82a948of.asp).)  \n",
    "\n",
    "<!--\n",
    "BEGIN QUESTION\n",
    "name: q431\n",
    "-->"
   ]
  },
  {
   "cell_type": "code",
   "execution_count": 276,
   "metadata": {},
   "outputs": [
    {
     "data": {
      "text/plain": [
       "5134"
      ]
     },
     "execution_count": 276,
     "metadata": {},
     "output_type": "execute_result"
    }
   ],
   "source": [
    "speech = \"Well, Good morning everybody. I’m Roy Cooper. Today, I’m honored to stand before you to accept both the oath of office of Governor and the duties that come along with it. I’m thankful for my family — our First Lady Kristin Cooper and my three daughters — who inspire me every day. Transitions are a time for reflection, and a time for looking forward. My first term in this office was filled with triumphs, but also trials. First, the triumphs. Historic progress to make our state more inclusive and our environment cleaner. Record jobs announcements in rural and urban parts of our state that provided rewarding work to our people. Unrelenting efforts to make health care more accessible and public schools stronger. And as for the trials — the natural disasters. The overdue reckoning on racial justice. An unprecedented global pandemic. The earthquakes – those that shook the ground and those that shook the very foundation of our democracy. We’ve had our share of tough days. But we are North Carolinians. And in our state, difficulties don’t define us. What defines us is our strength, our resilience, our readiness to succeed at what comes next. When the pandemic forced classrooms to close in March, schools and volunteers made sure our kids got fed at home. When weary health care workers needed a boost, communities sent meals and care packages. When personal protective equipment ran short, North Carolina manufacturing companies pivoted to produce face shields, gowns, masks and more. And let’s not overlook the stories of neighbors helping neighbors. Grandchildren talking and singing through windows to their grandparents in nursing homes. A painted rainbow taped up in the hallway. Snacks and signs of encouragement left for delivery workers facing long hours. An overworked nurse getting a COVID-19 vaccine and telling everyone the biggest side effect is joy. Our state deserves a collective pat on the back. And as your governor, I say thank you. And before looking ahead, it’s worth looking back a hundred years where North Carolina was in 1920. The state had lost nearly 14,000 people in the Spanish flu pandemic. And in just a few years, North Carolina roared back. New manufacturing jobs paid reliable wages for the first time to thousands of North Carolinians. With more money in their pockets, people were able to afford to buy cars. And that created the challenge of needing roads for those cars to drive on. So, North Carolina responded and became known as the Good Roads state. Those roads got people to work, but they also enabled them to vacation and enjoy the natural beauty of our state. But now a century later, that cycle of challenge-and-response confronts North Carolina again. We are living it. We can see it. And we can solve it. As your governor, I commit to focus on our most important challenges. The challenge of emerging from this pandemic smarter and stronger than ever. The challenge of educating our people and ensuring that every North Carolinian gets health care. The challenge of overcoming disinformation and lies and recommitting to the truth. We can respect our disagreements, but we must cherish our democracy. And the challenge of forming a more perfect North Carolina, where every person has opportunity and access to the liberty that they deserve and our laws promise. As we enter 2021, we carry the imprint of our people’s frustration and loss as well as our determination and resilience. I hold close the memories of the suffering and the heroic North Carolinians. This new year and this new term as Governor is more than just turning the page of a calendar. The lessons we’ve all learned must usher in a new era. An era where we can acknowledge and work around our differences while refusing to sacrifice truth and facts at the altar of ideology. Where the dangerous events that took place at our nation’s Capitol can never be justified. So let’s reach together – to find ways all North Carolinians can afford to see a doctor. To get a quality education and a good paying job. To reform our systems that hurt people of color and to live and work in an economy that leaves no one behind, no matter who they are or where they live. Hey, let’s cast aside notions of red counties or blue counties and recognize that these are artificial divisions. Let’s place integrity at the forefront. We are all North Carolinians. These times of triumph and trial have shown us that we are more connected than we ever imagined. And one thing is clear, just as we did one hundred years ago — North Carolina is ready to roar again. And we will do it together. As the Bible tells us in the Book of Ecclesiastes, “Two are better than one, because they have good reward for their toil. For if they fall, one will lift up his fellow.” North Carolinians have shown we know how to lift one another up. I’m truly humbled by the trust that you, the people of North Carolina have placed in me to serve again as your Governor. I have faith in you, and thank you for putting your faith in me. Together, may we continue to be strong, resilient and ready. God Bless North Carolina and may God bless all of you.\"\n",
    "speech_length = len(speech)\n",
    "speech_length"
   ]
  }
 ],
 "metadata": {
  "kernelspec": {
   "display_name": "Python 3 (ipykernel)",
   "language": "python",
   "name": "python3"
  },
  "language_info": {
   "codemirror_mode": {
    "name": "ipython",
    "version": 3
   },
   "file_extension": ".py",
   "mimetype": "text/x-python",
   "name": "python",
   "nbconvert_exporter": "python",
   "pygments_lexer": "ipython3",
   "version": "3.11.4"
  }
 },
 "nbformat": 4,
 "nbformat_minor": 4
}
