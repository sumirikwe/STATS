{
 "cells": [
  {
   "cell_type": "markdown",
   "metadata": {},
   "source": [
    "# Lab 4: Functions and Visualizations"
   ]
  },
  {
   "cell_type": "markdown",
   "metadata": {},
   "source": [
    "This week, we'll learn about functions, table methods such as `apply`, and how to generate visualizations! \n",
    "\n",
    "Recommended Reading:\n",
    "\n",
    "* [Applying a Function to a Column](https://inferentialthinking.com/chapters/08/1/Applying_a_Function_to_a_Column.html)\n",
    "* [Visualizations](https://inferentialthinking.com/chapters/07/Visualization.html)\n",
    "\n",
    "First, set up the notebook by running the cell below."
   ]
  },
  {
   "cell_type": "code",
   "execution_count": 1,
   "metadata": {},
   "outputs": [],
   "source": [
    "import numpy as np\n",
    "from datascience import *\n",
    "\n",
    "# These lines set up graphing capabilities.\n",
    "import matplotlib\n",
    "%matplotlib inline\n",
    "import matplotlib.pyplot as plots\n",
    "plots.style.use('fivethirtyeight')\n",
    "import warnings\n",
    "warnings.simplefilter('ignore', FutureWarning)"
   ]
  },
  {
   "cell_type": "markdown",
   "metadata": {},
   "source": [
    "## 1. Defining functions\n",
    "\n",
    "Let's write a very simple function that converts a proportion to a percentage by multiplying it by 100.  For example, the value of `to_percentage(.5)` should be the number 50 (no percent sign).\n",
    "\n",
    "A function definition has a few parts.\n",
    "\n",
    "##### `def`\n",
    "It always starts with `def` (short for **def**ine):\n",
    "\n",
    "    def\n",
    "\n",
    "##### Name\n",
    "Next comes the name of the function.  Like other names we've defined, it can't start with a number or contain spaces. Let's call our function `to_percentage`:\n",
    "    \n",
    "    def to_percentage\n",
    "\n",
    "##### Signature\n",
    "Next comes something called the *signature* of the function.  This tells Python how many arguments your function should have, and what names you'll use to refer to those arguments in the function's code.  A function can have any number of arguments (including 0!). \n",
    "\n",
    "`to_percentage` should take one argument, and we'll call that argument `proportion` since it should be a proportion.\n",
    "\n",
    "    def to_percentage(proportion)\n",
    "    \n",
    "If we want our function to take more than one argument, we add a comma between each argument name. Note that if we had zero arguments, we'd still place the parentheses () after than name. \n",
    "\n",
    "We put a colon after the signature to tell Python it's over. If you're getting a syntax error after defining a function, check to make sure you remembered the colon!\n",
    "\n",
    "    def to_percentage(proportion):\n",
    "\n",
    "##### Documentation\n",
    "Functions can do complicated things, so you should write an explanation of what your function does.  For small functions, this is less important, but it's a good habit to learn from the start.  Conventionally, Python functions are documented by writing an **indented** triple-quoted string:\n",
    "\n",
    "    def to_percentage(proportion):\n",
    "        \"\"\"Converts a proportion to a percentage.\"\"\"\n",
    "    \n",
    "    \n",
    "##### Body\n",
    "Now we start writing code that runs when the function is called.  This is called the *body* of the function and every line **must be indented with a tab**.  Any lines that are *not* indented and left-aligned with the def statement is considered outside the function. \n",
    "\n",
    "Some notes about the body of the function:\n",
    "- We can write code that we would write anywhere else.  \n",
    "- We use the arguments defined in the function signature. We can do this because we assume that when we call the function, values are already assigned to those arguments.\n",
    "- We generally avoid referencing variables defined *outside* the function. If you would like to reference variables outside of the function, pass them through as arguments!\n",
    "\n",
    "\n",
    "Now, let's give a name to the number we multiply a proportion by to get a percentage:\n",
    "\n",
    "    def to_percentage(proportion):\n",
    "        \"\"\"Converts a proportion to a percentage.\"\"\"\n",
    "        factor = 100\n",
    "\n",
    "##### `return`\n",
    "The special instruction `return` is part of the function's body and tells Python to make the value of the function call equal to whatever comes right after `return`.  We want the value of `to_percentage(.5)` to be the proportion .5 times the factor 100, so we write:\n",
    "\n",
    "    def to_percentage(proportion):\n",
    "        \"\"\"Converts a proportion to a percentage.\"\"\"\n",
    "        factor = 100\n",
    "        return proportion * factor\n",
    "        \n",
    "`return` only makes sense in the context of a function, and **can never be used outside of a function**. `return` is always the last line of the function because Python stops executing the body of a function once it hits a `return` statement.\n",
    "\n",
    "*Note:*  `return` inside a function tells Python what value the function evaluates to. However, there are other functions, like `print`, that have no `return` value. For example, `print` simply prints a certain value out to the console. \n",
    "\n",
    "`return` and `print` are **very** different. "
   ]
  },
  {
   "cell_type": "markdown",
   "metadata": {},
   "source": [
    "**Question 1.1.** Define `to_percentage` in the cell below.  Call your function to convert the proportion .6 to a percentage.  Name that percentage `sixty_percent`.\n",
    "\n",
    "<!--\n",
    "BEGIN QUESTION\n",
    "name: q11\n",
    "-->"
   ]
  },
  {
   "cell_type": "code",
   "execution_count": 4,
   "metadata": {},
   "outputs": [
    {
     "data": {
      "text/plain": [
       "60.0"
      ]
     },
     "execution_count": 4,
     "metadata": {},
     "output_type": "execute_result"
    }
   ],
   "source": [
    "def to_percentage(proportion):\n",
    "    '''Converts a proportion to a percentage.'''\n",
    "    factor = 100\n",
    "    return proportion * factor\n",
    "\n",
    "sixty_percent = to_percentage(.6)\n",
    "sixty_percent"
   ]
  },
  {
   "cell_type": "markdown",
   "metadata": {
    "editable": false
   },
   "source": [
    "Like you’ve done with built-in functions in previous labs (max, abs, etc.), you can pass in named values as arguments to your function.\n",
    "\n",
    "**Question 1.2.** Use `to_percentage` again to convert the proportion named `a_proportion` (defined below) to a percentage called `a_percentage`.\n",
    "\n",
    "*Note:* You don't need to define `to_percentage` again!  Like other named values, functions stick around after you define them.\n",
    "\n",
    "<!--\n",
    "BEGIN QUESTION\n",
    "name: q12\n",
    "-->"
   ]
  },
  {
   "cell_type": "code",
   "execution_count": 7,
   "metadata": {},
   "outputs": [
    {
     "data": {
      "text/plain": [
       "70.71067811865476"
      ]
     },
     "execution_count": 7,
     "metadata": {},
     "output_type": "execute_result"
    }
   ],
   "source": [
    "a_proportion = 2**(.5) / 2\n",
    "a_percentage = to_percentage(a_proportion)\n",
    "a_percentage"
   ]
  },
  {
   "cell_type": "markdown",
   "metadata": {},
   "source": [
    "Here's something important about functions: the names assigned *within* a function body are only accessible within the function body. Once the function has returned, those names are gone.  So even if you created a variable called `factor` and defined `factor = 100` inside of the body of the `to_percentage` function and then called `to_percentage`, `factor` would not have a value assigned to it outside of the body of `to_percentage`:"
   ]
  },
  {
   "cell_type": "code",
   "execution_count": 8,
   "metadata": {},
   "outputs": [
    {
     "ename": "NameError",
     "evalue": "name 'factor' is not defined",
     "output_type": "error",
     "traceback": [
      "\u001b[0;31m---------------------------------------------------------------------------\u001b[0m",
      "\u001b[0;31mNameError\u001b[0m                                 Traceback (most recent call last)",
      "Cell \u001b[0;32mIn[8], line 3\u001b[0m\n\u001b[1;32m      1\u001b[0m \u001b[38;5;66;03m# You should see an error when you run this.  (If you don't, you might\u001b[39;00m\n\u001b[1;32m      2\u001b[0m \u001b[38;5;66;03m# have defined factor somewhere above.)\u001b[39;00m\n\u001b[0;32m----> 3\u001b[0m factor\n",
      "\u001b[0;31mNameError\u001b[0m: name 'factor' is not defined"
     ]
    }
   ],
   "source": [
    "# You should see an error when you run this.  (If you don't, you might\n",
    "# have defined factor somewhere above.)\n",
    "factor"
   ]
  },
  {
   "cell_type": "markdown",
   "metadata": {
    "editable": false
   },
   "source": [
    "As we've seen with built-in functions, functions can also take strings (or arrays, or tables) as arguments, and they can return those things, too.\n",
    "\n",
    "**Question 1.3.** Define a function called `disemvowel`.  It should take a single string as its argument.  (You can call that argument whatever you want.)  It should return a copy of that string, but with all the characters that are vowels removed.  (In English, the vowels are the characters \"a\", \"e\", \"i\", \"o\", and \"u\".) You can use as many lines inside of the function to do this as you’d like.\n",
    "\n",
    "*Hint:* To remove all the \"a\"s from a string, you can use `that_string.replace(\"a\", \"\")`.  The `.replace` method for strings returns a new string, so you can call `replace` multiple times, one after the other. \n",
    "\n",
    "<!--\n",
    "BEGIN QUESTION\n",
    "name: q13\n",
    "-->"
   ]
  },
  {
   "cell_type": "code",
   "execution_count": 19,
   "metadata": {},
   "outputs": [
    {
     "data": {
      "text/plain": [
       "'Cn y rd ths wtht vwls?'"
      ]
     },
     "execution_count": 19,
     "metadata": {},
     "output_type": "execute_result"
    }
   ],
   "source": [
    "def disemvowel(a_string):\n",
    "    '''Remove all vowels from a word.'''\n",
    "    for elem in a_string:\n",
    "        if elem == \"a\" or \"e\" or \"i\" or \"o\" or \"u\":\n",
    "            new_string = a_string.replace(\"a\", \"\").replace(\"e\", \"\").replace(\"i\", \"\").replace(\"o\", \"\").replace(\"u\", \"\")\n",
    "    return new_string\n",
    "            \n",
    "\n",
    "\n",
    "# An example call to your function.  (It's often helpful to run\n",
    "# an example call from time to time while you're writing a function,\n",
    "# to see how it currently works.)\n",
    "disemvowel(\"Can you read this without vowels?\")"
   ]
  },
  {
   "cell_type": "markdown",
   "metadata": {
    "editable": false
   },
   "source": [
    "##### Calls on calls on calls\n",
    "Just as you write a series of lines to build up a complex computation, it's useful to define a series of small functions that build on each other.  Since you can write any code inside a function's body, you can call other functions you've written.\n",
    "\n",
    "If a function is a like a recipe, defining a function in terms of other functions is like having a recipe for cake telling you to follow another recipe to make the frosting, and another to make the jam filling.  This makes the cake recipe shorter and clearer, and it avoids having a bunch of duplicated frosting recipes.  It's a foundation of productive programming.\n",
    "\n",
    "For example, suppose you want to count the number of characters *that aren't vowels* in a piece of text.  One way to do that is this to remove all the vowels and count the size of the remaining string.\n",
    "\n",
    "**Question 1.4.** Write a function called `num_non_vowels`.  It should take a string as its argument and return a number.  That number should be the number of characters in the argument string that aren't vowels. You should use the `disemvowel` function you wrote above inside of the `num_non_vowels` function.\n",
    "\n",
    "*Hint:* The function `len` takes a string as its argument and returns the number of characters in it.\n",
    "\n",
    "<!--\n",
    "BEGIN QUESTION\n",
    "name: q14\n",
    "-->"
   ]
  },
  {
   "cell_type": "code",
   "execution_count": 24,
   "metadata": {},
   "outputs": [
    {
     "data": {
      "text/plain": [
       "4"
      ]
     },
     "execution_count": 24,
     "metadata": {},
     "output_type": "execute_result"
    }
   ],
   "source": [
    "def num_non_vowels(a_string):\n",
    "    \"\"\"The number of characters in a string, minus the vowels.\"\"\"\n",
    "    return len(disemvowel(a_string))\n",
    "\n",
    "num_non_vowels(\"Can you read this without vowels?\")\n",
    "\n",
    "\n",
    "\n",
    "# Try calling your function yourself to make sure the output is what you expect."
   ]
  },
  {
   "cell_type": "markdown",
   "metadata": {},
   "source": [
    "Functions can also encapsulate code that *displays output* instead of computing a value. For example, if you call `print` inside a function, and then call that function, something will get printed.\n",
    "\n",
    "The `Bachelors` dataset contains information from 2019 on the number of people from the United States with bachelor's degrees in various fields of study broken down by age group, sex, and state. The original source of the data is the US Census Bureau, but this dataset was found on [Kaggle.com](https://www.kaggle.com/tjkyner/bachelor-degree-majors-by-age-sex-and-state). Suppose you'd like to display the state with the 3rd-highest number of bachelor's degrees for females 25 and older, and that state's number of females with bachelor's degrees, printed in a human-readable way. You might do this:"
   ]
  },
  {
   "cell_type": "code",
   "execution_count": 25,
   "metadata": {},
   "outputs": [
    {
     "name": "stdout",
     "output_type": "stream",
     "text": [
      "New York has a rank of 3 among the states with the highest number of bachelor's degrees for females 25 years and older with 2791891 people with bachelor's degrees\n"
     ]
    }
   ],
   "source": [
    "Bachelors = Table.read_table(\"Bachelors.csv\")\n",
    "rank = 3\n",
    "\n",
    "bach_state_25_older_f_sorted = Bachelors.where(\n",
    "    'Age Group', '25 and older').where(\n",
    "    'Sex', 'Female').sort(\n",
    "    \"Bachelor's Degree Holders\", descending=True)\n",
    "\n",
    "state_rank_3 = bach_state_25_older_f_sorted.column('State').item(rank-1)\n",
    "num_bach_rank_3 = bach_state_25_older_f_sorted.column(\"Bachelor's Degree Holders\").item(rank-1)\n",
    "\n",
    "print(state_rank_3, \n",
    "      \"has a rank of\", \n",
    "      rank, \n",
    "      \"among the states with the highest number of bachelor's degrees for females 25 years and older with\",\n",
    "      num_bach_rank_3,\n",
    "      \"people with bachelor's degrees\"\n",
    "     )\n"
   ]
  },
  {
   "cell_type": "markdown",
   "metadata": {},
   "source": [
    "After writing this, you realize you also wanted to print out the states and their number of people with bachelor's degrees for the 1st and 2nd-highest states as well.  Instead of copying your code, you decide to put it in a function.  Since the rank varies, you make that an argument to your function.\n",
    "\n",
    "**Question 1.5.** Write a function called `print_kth_top_bach_f_state`.  It should take a single argument, the rank of the state (like 1, 2, or 3 in the above examples).  It should print out a message like the one above.  \n",
    "\n",
    "*Note:* Your function shouldn't have a `return` statement.\n",
    "\n",
    "<!--\n",
    "BEGIN QUESTION\n",
    "name: q15\n",
    "-->"
   ]
  },
  {
   "cell_type": "code",
   "execution_count": 27,
   "metadata": {},
   "outputs": [
    {
     "name": "stdout",
     "output_type": "stream",
     "text": [
      "California has a rank of 1 among the states with the highest number of bachelor's degrees for females 25 years and older with 4868520 people with bachelor's degrees\n",
      "\n",
      "Texas has a rank of 2 among the states with the highest number of bachelor's degrees for females 25 years and older with 2991987 people with bachelor's degrees\n"
     ]
    }
   ],
   "source": [
    "def print_kth_top_bach_f_state(k):\n",
    "    '''print out the states and their number of people with bachelor's degrees for the 1st and 2nd-highest states'''\n",
    "    bach_state_25_older_f_sorted = Bachelors.where( 'Age Group', '25 and older').where('Sex', 'Female').sort(\"Bachelor's Degree Holders\", descending=True)\n",
    "\n",
    "    K_1 = bach_state_25_older_f_sorted.column(\"State\").item(k-1)\n",
    "    num_female_bachelor_over_25 = bach_state_25_older_f_sorted.column(\"Bachelor's Degree Holders\").item(k-1)\n",
    "    \n",
    "    print(K_1, \"has a rank of\", k, \"among the states with the highest number of bachelor's degrees for females 25 years and older with\", num_female_bachelor_over_25, \"people with bachelor's degrees\")\n",
    "\n",
    "\n",
    "# Example calls to your function:\n",
    "print_kth_top_bach_f_state(1)\n",
    "print()\n",
    "print_kth_top_bach_f_state(2)"
   ]
  },
  {
   "cell_type": "markdown",
   "metadata": {},
   "source": [
    "### `print` is not the same as `return`\n",
    "The `print_kth_top_bach_state` function prints the state and the total number of people with bachelor's degrees for the rank that was provided. However, since we did not return any value in this function, we can not use it after we call it. Let's look at an example of another function that prints a value but does not return it."
   ]
  },
  {
   "cell_type": "code",
   "execution_count": 28,
   "metadata": {},
   "outputs": [],
   "source": [
    "def print_number_five():\n",
    "    print(5)"
   ]
  },
  {
   "cell_type": "code",
   "execution_count": 29,
   "metadata": {},
   "outputs": [
    {
     "name": "stdout",
     "output_type": "stream",
     "text": [
      "5\n"
     ]
    }
   ],
   "source": [
    "print_number_five()"
   ]
  },
  {
   "cell_type": "markdown",
   "metadata": {},
   "source": [
    "However, if we try to use the output of `print_number_five()`, we see that the value `5` is printed but we get a TypeError when we try to add the number 2 to it!"
   ]
  },
  {
   "cell_type": "code",
   "execution_count": 30,
   "metadata": {},
   "outputs": [
    {
     "name": "stdout",
     "output_type": "stream",
     "text": [
      "5\n"
     ]
    },
    {
     "ename": "TypeError",
     "evalue": "unsupported operand type(s) for +: 'NoneType' and 'int'",
     "output_type": "error",
     "traceback": [
      "\u001b[0;31m---------------------------------------------------------------------------\u001b[0m",
      "\u001b[0;31mTypeError\u001b[0m                                 Traceback (most recent call last)",
      "Cell \u001b[0;32mIn[30], line 2\u001b[0m\n\u001b[1;32m      1\u001b[0m print_number_five_output \u001b[38;5;241m=\u001b[39m print_number_five()\n\u001b[0;32m----> 2\u001b[0m print_number_five_output \u001b[38;5;241m+\u001b[39m \u001b[38;5;241m2\u001b[39m\n",
      "\u001b[0;31mTypeError\u001b[0m: unsupported operand type(s) for +: 'NoneType' and 'int'"
     ]
    }
   ],
   "source": [
    "print_number_five_output = print_number_five()\n",
    "print_number_five_output + 2"
   ]
  },
  {
   "cell_type": "markdown",
   "metadata": {},
   "source": [
    "It may seem that `print_number_five()` is returning a value, 5. In reality, it just displays the number 5 to you without giving you the actual value! If your function prints out a value without returning it and you try to use that value, you will run into errors, so be careful!\n",
    "\n",
    "Explain to your neighbor how you might add a line of code to the `print_number_five` function (after `print(5)`) so that the code `print_number_five_output + 5` would result in the value `10`, rather than an error."
   ]
  },
  {
   "cell_type": "markdown",
   "metadata": {
    "tags": []
   },
   "source": [
    "## 2. Functions and Vice Chancellor Incomes\n",
    "\n",
    "In this question, we'll look at the `vc_compensation` dataset, containing the 2021 compensation for those with 'Vice Chancellor' in their primary working title across North Carolina public universities. This data, and much else about state employees, is publicly available. "
   ]
  },
  {
   "cell_type": "code",
   "execution_count": 31,
   "metadata": {},
   "outputs": [
    {
     "data": {
      "text/html": [
       "<table border=\"1\" class=\"dataframe\">\n",
       "    <thead>\n",
       "        <tr>\n",
       "            <th>INSTITUTION NAME</th> <th>LAST NAME</th> <th>FIRST NAME</th> <th>JOB CATEGORY</th> <th>EMPLOYEE ANNUAL BASE SALARY</th> <th>EMPLOYEE HOME DEPARTMENT</th> <th>PRIMARY WORKING TITLE</th>\n",
       "        </tr>\n",
       "    </thead>\n",
       "    <tbody>\n",
       "        <tr>\n",
       "            <td>NCCU            </td> <td>Abegunrin</td> <td>Abiodun   </td> <td>Chief Facilities Officer               </td> <td>$160000                    </td> <td>Building Maintenace           </td> <td>Associate Vice Chancellor Facilities Management (Time-Li ...</td>\n",
       "        </tr>\n",
       "        <tr>\n",
       "            <td>WSSU            </td> <td>Afolayan </td> <td>LaTanya   </td> <td>Chief Development / Advancement Officer</td> <td>$145000                    </td> <td>University Advancement        </td> <td>Vice Chancellor for University Advancement                  </td>\n",
       "        </tr>\n",
       "        <tr>\n",
       "            <td>UNC-CH          </td> <td>Agostini </td> <td>Stephen   </td> <td>Chief Financial Services Officer       </td> <td>$315000                    </td> <td>AVC Finance and Budget        </td> <td>Associate Vice Chancellor                                   </td>\n",
       "        </tr>\n",
       "        <tr>\n",
       "            <td>UNCG            </td> <td>Akens    </td> <td>Catherine </td> <td>Chief Student Affairs Officer          </td> <td>$210000                    </td> <td>Student Affairs               </td> <td>Vice Chancellor                                             </td>\n",
       "        </tr>\n",
       "        <tr>\n",
       "            <td>NCCU            </td> <td>Anderson </td> <td>Yolanda   </td> <td>Professor                              </td> <td>$148546                    </td> <td>Office of Academic Affairs    </td> <td>Associate Vice Chancellor Academic Affairs                  </td>\n",
       "        </tr>\n",
       "        <tr>\n",
       "            <td>NCSU            </td> <td>Arden    </td> <td>Warwick   </td> <td>Executive Vice Chancellor              </td> <td>$454555                    </td> <td>Exec Vice Chancellor & Provost</td> <td>Exec Vice Chancellor & Provost                              </td>\n",
       "        </tr>\n",
       "        <tr>\n",
       "            <td>UNCC            </td> <td>Bailey   </td> <td>Kevin     </td> <td>Chief Student Affairs Officer          </td> <td>$225000                    </td> <td>Student Affairs VC            </td> <td>Vice Chancellor Student Affair                              </td>\n",
       "        </tr>\n",
       "        <tr>\n",
       "            <td>UNC-CH          </td> <td>BARKER   </td> <td>JAMES     </td> <td>Chief Information / IT Officer         </td> <td>$325000                    </td> <td>ITS - VC - CIO                </td> <td>Vice Chancellor                                             </td>\n",
       "        </tr>\n",
       "        <tr>\n",
       "            <td>UNC-CH          </td> <td>Battle   </td> <td>George    </td> <td>Vice Chancellor                        </td> <td>$327191                    </td> <td>VC Instit Integ and Rsk Mgmt  </td> <td>Vice Chancellor                                             </td>\n",
       "        </tr>\n",
       "        <tr>\n",
       "            <td>NCSU            </td> <td>Bhada    </td> <td>Carrie    </td> <td>Assoc/Asst Vice Chancellor             </td> <td>$196000                    </td> <td>University Development        </td> <td>Asst Vice Chancellor                                        </td>\n",
       "        </tr>\n",
       "    </tbody>\n",
       "</table>\n",
       "<p>... (147 rows omitted)</p>"
      ],
      "text/plain": [
       "INSTITUTION NAME | LAST NAME | FIRST NAME | JOB CATEGORY                            | EMPLOYEE ANNUAL BASE SALARY | EMPLOYEE HOME DEPARTMENT       | PRIMARY WORKING TITLE\n",
       "NCCU             | Abegunrin | Abiodun    | Chief Facilities Officer                | $160000                     | Building Maintenace            | Associate Vice Chancellor Facilities Management (Time-Li ...\n",
       "WSSU             | Afolayan  | LaTanya    | Chief Development / Advancement Officer | $145000                     | University Advancement         | Vice Chancellor for University Advancement\n",
       "UNC-CH           | Agostini  | Stephen    | Chief Financial Services Officer        | $315000                     | AVC Finance and Budget         | Associate Vice Chancellor\n",
       "UNCG             | Akens     | Catherine  | Chief Student Affairs Officer           | $210000                     | Student Affairs                | Vice Chancellor\n",
       "NCCU             | Anderson  | Yolanda    | Professor                               | $148546                     | Office of Academic Affairs     | Associate Vice Chancellor Academic Affairs\n",
       "NCSU             | Arden     | Warwick    | Executive Vice Chancellor               | $454555                     | Exec Vice Chancellor & Provost | Exec Vice Chancellor & Provost\n",
       "UNCC             | Bailey    | Kevin      | Chief Student Affairs Officer           | $225000                     | Student Affairs VC             | Vice Chancellor Student Affair\n",
       "UNC-CH           | BARKER    | JAMES      | Chief Information / IT Officer          | $325000                     | ITS - VC - CIO                 | Vice Chancellor\n",
       "UNC-CH           | Battle    | George     | Vice Chancellor                         | $327191                     | VC Instit Integ and Rsk Mgmt   | Vice Chancellor\n",
       "NCSU             | Bhada     | Carrie     | Assoc/Asst Vice Chancellor              | $196000                     | University Development         | Asst Vice Chancellor\n",
       "... (147 rows omitted)"
      ]
     },
     "execution_count": 31,
     "metadata": {},
     "output_type": "execute_result"
    }
   ],
   "source": [
    "vc_compensation = Table.read_table('vc_compensation.csv')\n",
    "vc_compensation"
   ]
  },
  {
   "cell_type": "markdown",
   "metadata": {},
   "source": [
    "We want to compute the average of the Vice Chancellors' pay. Try running the cell below."
   ]
  },
  {
   "cell_type": "code",
   "execution_count": 57,
   "metadata": {},
   "outputs": [
    {
     "ename": "UFuncTypeError",
     "evalue": "ufunc 'add' did not contain a loop with signature matching types (dtype('<U8'), dtype('<U8')) -> None",
     "output_type": "error",
     "traceback": [
      "\u001b[0;31m---------------------------------------------------------------------------\u001b[0m",
      "\u001b[0;31mUFuncTypeError\u001b[0m                            Traceback (most recent call last)",
      "Cell \u001b[0;32mIn[57], line 1\u001b[0m\n\u001b[0;32m----> 1\u001b[0m np\u001b[38;5;241m.\u001b[39maverage(vc_compensation\u001b[38;5;241m.\u001b[39mcolumn(\u001b[38;5;124m\"\u001b[39m\u001b[38;5;124mEMPLOYEE ANNUAL BASE SALARY\u001b[39m\u001b[38;5;124m\"\u001b[39m))\n",
      "File \u001b[0;32m/opt/anaconda3/lib/python3.12/site-packages/numpy/lib/function_base.py:520\u001b[0m, in \u001b[0;36maverage\u001b[0;34m(a, axis, weights, returned, keepdims)\u001b[0m\n\u001b[1;32m    517\u001b[0m     keepdims_kw \u001b[38;5;241m=\u001b[39m {\u001b[38;5;124m'\u001b[39m\u001b[38;5;124mkeepdims\u001b[39m\u001b[38;5;124m'\u001b[39m: keepdims}\n\u001b[1;32m    519\u001b[0m \u001b[38;5;28;01mif\u001b[39;00m weights \u001b[38;5;129;01mis\u001b[39;00m \u001b[38;5;28;01mNone\u001b[39;00m:\n\u001b[0;32m--> 520\u001b[0m     avg \u001b[38;5;241m=\u001b[39m a\u001b[38;5;241m.\u001b[39mmean(axis, \u001b[38;5;241m*\u001b[39m\u001b[38;5;241m*\u001b[39mkeepdims_kw)\n\u001b[1;32m    521\u001b[0m     avg_as_array \u001b[38;5;241m=\u001b[39m np\u001b[38;5;241m.\u001b[39masanyarray(avg)\n\u001b[1;32m    522\u001b[0m     scl \u001b[38;5;241m=\u001b[39m avg_as_array\u001b[38;5;241m.\u001b[39mdtype\u001b[38;5;241m.\u001b[39mtype(a\u001b[38;5;241m.\u001b[39msize\u001b[38;5;241m/\u001b[39mavg_as_array\u001b[38;5;241m.\u001b[39msize)\n",
      "File \u001b[0;32m/opt/anaconda3/lib/python3.12/site-packages/numpy/core/_methods.py:118\u001b[0m, in \u001b[0;36m_mean\u001b[0;34m(a, axis, dtype, out, keepdims, where)\u001b[0m\n\u001b[1;32m    115\u001b[0m         dtype \u001b[38;5;241m=\u001b[39m mu\u001b[38;5;241m.\u001b[39mdtype(\u001b[38;5;124m'\u001b[39m\u001b[38;5;124mf4\u001b[39m\u001b[38;5;124m'\u001b[39m)\n\u001b[1;32m    116\u001b[0m         is_float16_result \u001b[38;5;241m=\u001b[39m \u001b[38;5;28;01mTrue\u001b[39;00m\n\u001b[0;32m--> 118\u001b[0m ret \u001b[38;5;241m=\u001b[39m umr_sum(arr, axis, dtype, out, keepdims, where\u001b[38;5;241m=\u001b[39mwhere)\n\u001b[1;32m    119\u001b[0m \u001b[38;5;28;01mif\u001b[39;00m \u001b[38;5;28misinstance\u001b[39m(ret, mu\u001b[38;5;241m.\u001b[39mndarray):\n\u001b[1;32m    120\u001b[0m     \u001b[38;5;28;01mwith\u001b[39;00m _no_nep50_warning():\n",
      "\u001b[0;31mUFuncTypeError\u001b[0m: ufunc 'add' did not contain a loop with signature matching types (dtype('<U8'), dtype('<U8')) -> None"
     ]
    }
   ],
   "source": [
    "np.average(vc_compensation.column(\"EMPLOYEE ANNUAL BASE SALARY\"))"
   ]
  },
  {
   "cell_type": "markdown",
   "metadata": {},
   "source": [
    "You should see a TypeError. Let's examine why this error occurred by looking at the values in the `EMPLOYEE ANNUAL BASE SALARY` column. \n",
    "\n",
    "**Question 2.1.** Use the `type` function and set `base_salary_type` to the type of the first value in the `EMPLOYEE ANNUAL BASE SALARY` column.\n",
    "\n",
    "<!--\n",
    "BEGIN QUESTION\n",
    "name: q21\n",
    "-->"
   ]
  },
  {
   "cell_type": "code",
   "execution_count": 44,
   "metadata": {},
   "outputs": [
    {
     "data": {
      "text/plain": [
       "str"
      ]
     },
     "execution_count": 44,
     "metadata": {},
     "output_type": "execute_result"
    }
   ],
   "source": [
    "base_salary_type = type(vc_compensation.column(\"EMPLOYEE ANNUAL BASE SALARY\").item(0))\n",
    "base_salary_type"
   ]
  },
  {
   "cell_type": "markdown",
   "metadata": {},
   "source": [
    "**Question 2.2.** You should have found that the values in the `EMPLOYEE ANNUAL BASE SALARY` column are strings. It doesn't make sense to take the average of string values, so we need to convert them to numbers if we want to do this. Extract the first value in `EMPLOYEE ANNUAL BASE SALARY`. This is the salary for NCCU's Associate Vice Chancellor for Facilities Management.\n",
    "\n",
    "<!--\n",
    "BEGIN QUESTION\n",
    "name: q22\n",
    "-->"
   ]
  },
  {
   "cell_type": "code",
   "execution_count": 45,
   "metadata": {},
   "outputs": [
    {
     "data": {
      "text/plain": [
       "'$160000 '"
      ]
     },
     "execution_count": 45,
     "metadata": {},
     "output_type": "execute_result"
    }
   ],
   "source": [
    "NCCU_vc_string = vc_compensation.column(\"EMPLOYEE ANNUAL BASE SALARY\").item(0)\n",
    "NCCU_vc_string"
   ]
  },
  {
   "cell_type": "markdown",
   "metadata": {},
   "source": [
    "**Question 2.3.** Convert `NCCU_vc_string` to a number of *dollars*. \n",
    "\n",
    "Some hints, as this question requires multiple steps:\n",
    "- The string method `strip` will be useful for removing the dollar sign; it removes a specified character from the start or end of a string.  For example, the value of `\"100%\".strip(\"%\")` is the string `\"100\"`.  \n",
    "- You'll also need the function `float`, which converts a string that looks like a number to an actual number.  \n",
    "\n",
    "<!--\n",
    "BEGIN QUESTION\n",
    "name: q23\n",
    "-->"
   ]
  },
  {
   "cell_type": "code",
   "execution_count": 63,
   "metadata": {},
   "outputs": [
    {
     "data": {
      "text/plain": [
       "160000.0"
      ]
     },
     "execution_count": 63,
     "metadata": {},
     "output_type": "execute_result"
    }
   ],
   "source": [
    "NCCU_vc_pay = float(NCCU_vc_string.strip(\"$\"))\n",
    "NCCU_vc_pay"
   ]
  },
  {
   "cell_type": "markdown",
   "metadata": {},
   "source": [
    "To compute the average pay, we need to do this for every Vice Chancellor. But that looks like it would involve copying this code 157 times.\n",
    "\n",
    "This is where functions come in.  First, we'll define a new function, giving a name to the expression that converts \"EMPLOYEE ANNUAL BASE SALARY\" strings to numeric values.  Later in this lab, we'll see the payoff: we can call that function on every salary string in the dataset at once.\n",
    "\n",
    "The next section of this lab explains how to define a function. For now, just fill in the ellipses in the cell below.\n",
    "\n",
    "**Question 2.4.** Copy the expression you used to compute `NCCU_vc_pay`, and use it as the return expression of the function below. But make sure you replace the specific `NCCU_vc_string` with the generic `base_salary_string` name specified in the first line in the `def` statement.\n",
    "\n",
    "*Hint*: When dealing with functions, you should generally not be referencing any variable outside of the function. Usually, you want to be working with the arguments that are passed into it, such as `base_salary_string` for this function. If you're using `NCCU_vc_pay` within your function, you're referencing an outside variable!\n",
    "\n",
    "<!--\n",
    "BEGIN QUESTION\n",
    "name: q24\n",
    "-->"
   ]
  },
  {
   "cell_type": "code",
   "execution_count": 74,
   "metadata": {},
   "outputs": [],
   "source": [
    "def convert_base_salary_string_to_number(base_salary_string):\n",
    "    \"\"\"Converts a base salary string like '$100000' to a number of dollars.\"\"\"\n",
    "    return float(base_salary_string.strip(\"$\"))\n"
   ]
  },
  {
   "cell_type": "markdown",
   "metadata": {},
   "source": [
    "Running that cell doesn't convert any particular base salary string. Instead, it creates a function called `convert_base_salary_string_to_number` that can convert *any* string with the right format to a number representing dollars.\n",
    "\n",
    "We can call our function just like we call the built-in functions we've seen. It takes one argument -- a string -- and it returns a float."
   ]
  },
  {
   "cell_type": "code",
   "execution_count": 75,
   "metadata": {},
   "outputs": [
    {
     "data": {
      "text/plain": [
       "42.0"
      ]
     },
     "execution_count": 75,
     "metadata": {},
     "output_type": "execute_result"
    }
   ],
   "source": [
    "convert_base_salary_string_to_number('$42')"
   ]
  },
  {
   "cell_type": "code",
   "execution_count": 76,
   "metadata": {},
   "outputs": [
    {
     "data": {
      "text/plain": [
       "160000.0"
      ]
     },
     "execution_count": 76,
     "metadata": {},
     "output_type": "execute_result"
    }
   ],
   "source": [
    "convert_base_salary_string_to_number(NCCU_vc_string)"
   ]
  },
  {
   "cell_type": "code",
   "execution_count": 77,
   "metadata": {},
   "outputs": [
    {
     "data": {
      "text/plain": [
       "325000.0"
      ]
     },
     "execution_count": 77,
     "metadata": {},
     "output_type": "execute_result"
    }
   ],
   "source": [
    "# We can also compute UNC-CH's Chief Information / IT Officer in the same way:\n",
    "convert_base_salary_string_to_number(vc_compensation.where(\n",
    "    \"INSTITUTION NAME\", 'UNC-CH').where(\n",
    "    'JOB CATEGORY', 'Chief Information / IT Officer').column(\n",
    "    \"EMPLOYEE ANNUAL BASE SALARY\").item(0))"
   ]
  },
  {
   "cell_type": "markdown",
   "metadata": {},
   "source": [
    "So, what have we gained by defining the `convert_base_salary_string_to_number` function? \n",
    "Well, without it, we'd have to copy the code `float(some_pay_string.strip(\"$\"))` each time we wanted to convert a pay string. Now we just call a function whose name says exactly what it's doing."
   ]
  },
  {
   "cell_type": "markdown",
   "metadata": {},
   "source": [
    "## 3. `apply`ing functions\n",
    "\n",
    "Defining a function is a lot like giving a name to a value with `=`.  In fact, a function is a value just like the number 1 or the text \"data\"!\n",
    "\n",
    "For example, we can make a new name for the built-in function `max` if we want:"
   ]
  },
  {
   "cell_type": "code",
   "execution_count": 78,
   "metadata": {},
   "outputs": [
    {
     "data": {
      "text/plain": [
       "6"
      ]
     },
     "execution_count": 78,
     "metadata": {},
     "output_type": "execute_result"
    }
   ],
   "source": [
    "our_name_for_max = max\n",
    "our_name_for_max(2, 6)"
   ]
  },
  {
   "cell_type": "markdown",
   "metadata": {},
   "source": [
    "The old name for `max` is still around:"
   ]
  },
  {
   "cell_type": "code",
   "execution_count": 79,
   "metadata": {},
   "outputs": [
    {
     "data": {
      "text/plain": [
       "6"
      ]
     },
     "execution_count": 79,
     "metadata": {},
     "output_type": "execute_result"
    }
   ],
   "source": [
    "max(2, 6)"
   ]
  },
  {
   "cell_type": "markdown",
   "metadata": {},
   "source": [
    "Try just writing `max` or `our_name_for_max` (or the name of any other function) in a cell, and run that cell.  Python will print out a (very brief) description of the function."
   ]
  },
  {
   "cell_type": "code",
   "execution_count": 80,
   "metadata": {},
   "outputs": [
    {
     "data": {
      "text/plain": [
       "<function max>"
      ]
     },
     "execution_count": 80,
     "metadata": {},
     "output_type": "execute_result"
    }
   ],
   "source": [
    "max"
   ]
  },
  {
   "cell_type": "markdown",
   "metadata": {},
   "source": [
    "Now try writing `?max` or `?our_name_for_max` (or the name of any other function) in a cell, and run that cell.  An information box should show up at the bottom of your screen a longer description of the function\n",
    "\n",
    "*Note: You can also press Shift+Tab after clicking on a name to see similar information!*"
   ]
  },
  {
   "cell_type": "code",
   "execution_count": 81,
   "metadata": {},
   "outputs": [
    {
     "name": "stdout",
     "output_type": "stream",
     "text": [
      "\u001b[0;31mDocstring:\u001b[0m\n",
      "max(iterable, *[, default=obj, key=func]) -> value\n",
      "max(arg1, arg2, *args, *[, key=func]) -> value\n",
      "\n",
      "With a single iterable argument, return its biggest item. The\n",
      "default keyword-only argument specifies an object to return if\n",
      "the provided iterable is empty.\n",
      "With two or more arguments, return the largest argument.\n",
      "\u001b[0;31mType:\u001b[0m      builtin_function_or_method"
     ]
    }
   ],
   "source": [
    "?our_name_for_max"
   ]
  },
  {
   "cell_type": "markdown",
   "metadata": {},
   "source": [
    "Let's look at what happens when we set `max`to a non-function value. You'll notice that a TypeError will occur when you try calling `max`. Things like integers and strings are not callable. Look out for any functions that might have been renamed when you encounter this type of error"
   ]
  },
  {
   "cell_type": "code",
   "execution_count": 82,
   "metadata": {},
   "outputs": [
    {
     "ename": "TypeError",
     "evalue": "'int' object is not callable",
     "output_type": "error",
     "traceback": [
      "\u001b[0;31m---------------------------------------------------------------------------\u001b[0m",
      "\u001b[0;31mTypeError\u001b[0m                                 Traceback (most recent call last)",
      "Cell \u001b[0;32mIn[82], line 2\u001b[0m\n\u001b[1;32m      1\u001b[0m \u001b[38;5;28mmax\u001b[39m \u001b[38;5;241m=\u001b[39m \u001b[38;5;241m6\u001b[39m\n\u001b[0;32m----> 2\u001b[0m \u001b[38;5;28mmax\u001b[39m(\u001b[38;5;241m2\u001b[39m, \u001b[38;5;241m6\u001b[39m)\n",
      "\u001b[0;31mTypeError\u001b[0m: 'int' object is not callable"
     ]
    }
   ],
   "source": [
    "max = 6\n",
    "max(2, 6)"
   ]
  },
  {
   "cell_type": "code",
   "execution_count": 83,
   "metadata": {},
   "outputs": [],
   "source": [
    "# This cell resets max to the built-in function. Just run this cell, don't change its contents\n",
    "import builtins\n",
    "max = builtins.max"
   ]
  },
  {
   "cell_type": "markdown",
   "metadata": {},
   "source": [
    "Why is this useful?  Since functions are just values, it's possible to pass them as arguments to other functions.  Here's a simple but not-so-practical example: we can make an array of functions."
   ]
  },
  {
   "cell_type": "code",
   "execution_count": 84,
   "metadata": {},
   "outputs": [
    {
     "data": {
      "text/plain": [
       "array([<built-in function max>, <function average at 0x10505cab0>,\n",
       "       <function are.equal_to at 0x1598d4ea0>], dtype=object)"
      ]
     },
     "execution_count": 84,
     "metadata": {},
     "output_type": "execute_result"
    }
   ],
   "source": [
    "make_array(max, np.average, are.equal_to)"
   ]
  },
  {
   "cell_type": "markdown",
   "metadata": {
    "editable": false
   },
   "source": [
    "**Question 3.1.** Make an array containing any 3 other functions you've seen.  Call it `some_functions`.\n",
    "\n",
    "<!--\n",
    "BEGIN QUESTION\n",
    "name: q31\n",
    "-->"
   ]
  },
  {
   "cell_type": "code",
   "execution_count": 85,
   "metadata": {},
   "outputs": [
    {
     "data": {
      "text/plain": [
       "array([<built-in function max>, <ufunc 'absolute'>,\n",
       "       <function are.below at 0x1598d4fe0>], dtype=object)"
      ]
     },
     "execution_count": 85,
     "metadata": {},
     "output_type": "execute_result"
    }
   ],
   "source": [
    "some_functions = make_array(max, np.abs, are.below)\n",
    "some_functions"
   ]
  },
  {
   "cell_type": "markdown",
   "metadata": {},
   "source": [
    "Working with functions as values can lead to some funny-looking code. For example, see if you can figure out why the following code works."
   ]
  },
  {
   "cell_type": "code",
   "execution_count": 86,
   "metadata": {},
   "outputs": [
    {
     "data": {
      "text/plain": [
       "7"
      ]
     },
     "execution_count": 86,
     "metadata": {},
     "output_type": "execute_result"
    }
   ],
   "source": [
    "make_array(max, np.average, are.equal_to).item(0)(4, -2, 7)"
   ]
  },
  {
   "cell_type": "markdown",
   "metadata": {},
   "source": [
    "A more useful example of passing functions to other functions as arguments is the table method `apply`.\n",
    "\n",
    "`apply` calls a function many times, once on *each* element in a column of a table.  It produces an *array* of the results.  Here we use `apply` to convert every Vice Chancellor's pay to a number, using the function you defined:"
   ]
  },
  {
   "cell_type": "code",
   "execution_count": 87,
   "metadata": {},
   "outputs": [
    {
     "data": {
      "text/plain": [
       "array([ 160000.,  145000.,  315000.,  210000.,  148546.,  454555.,\n",
       "        225000.,  325000.,  327191.,  196000.,  194655.,  195000.,\n",
       "        172507.,  165000.,  221740.,  293619.,  240952.,  141000.,\n",
       "        180000.,  247500.,  131790.,  137678.,  125000.,  103000.,\n",
       "        175613.,  280000.,  110841.,  140000.,  179008.,  116000.,\n",
       "        151652.,  240720.,  290340.,  126000.,  165000.,  135000.,\n",
       "        124000.,  265000.,  254142.,  200000.,  110000.,  159324.,\n",
       "        117250.,  165000.,  210000.,  130000.,  150000.,  185000.,\n",
       "        223063.,  205000.,  108728.,  143000.,  200000.,  245000.,\n",
       "        143434.,  209039.,  324133.,  192876.,  327000.,  196650.,\n",
       "        220000.,  189983.,  300000.,  310000.,  117500.,  180000.,\n",
       "        225000.,  190000.,  255755.,  370000.,  200000.,  150000.,\n",
       "        102000.,  155000.,  342971.,  190000.,  169500.,  105000.,\n",
       "        345000.,  201093.,  400000.,  120000.,  200717.,  185000.,\n",
       "        150000.,  151000.,  310500.,  150000.,  126131.,  218956.,\n",
       "        326781.,  139820.,  203384.,  150000.,  319513.,  130000.,\n",
       "        121992.,  320000.,  120000.,  130000.,  220350.,  125000.,\n",
       "        155360.,  115400.,  150000.,  164000.,  133862.,  186384.,\n",
       "        204823.,  240360.,  184000.,  466160.,  136350.,  192000.,\n",
       "        211845.,  250000.,  280000.,  235704.,  163620.,  267884.,\n",
       "        110000.,  133250.,  225000.,  200000.,  439647.,  102257.,\n",
       "        185000.,  205000.,  342052.,  275573.,  187000.,  125000.,\n",
       "        162000.,  250000.,  320000.,  169901.,  220000.,  209000.,\n",
       "        250000.,  195000.,   86250.,  147801.,  320000.,  100000.,\n",
       "        133000.,  162000.,  170492.,  150000.,  180000.,  143000.,\n",
       "        184782.,  150000.,  142117.,  115675.,  217000.,  273642.,  183000.])"
      ]
     },
     "execution_count": 87,
     "metadata": {},
     "output_type": "execute_result"
    }
   ],
   "source": [
    "vc_compensation.apply(convert_base_salary_string_to_number, \"EMPLOYEE ANNUAL BASE SALARY\")"
   ]
  },
  {
   "cell_type": "markdown",
   "metadata": {},
   "source": [
    "Note that we didn’t write `vc_compensation.apply(convert_base_salary_string_to_number(), “EMPLOYEE ANNUAL BASE SALARY”)` or `vc_compensation.apply(convert_base_salary_string_to_number(“EMPLOYEE ANNUAL BASE SALARY”))`. We just passed the name of the function, with no parentheses, to `apply`, because all we want to do is let `apply` know the name of the function we’d like to use and the name of the column we’d like to use it on. `apply` will then call the function `convert_base_salary_string_to_number` on each value in the column for us!\n",
    "\n",
    "**Question 3.2.** Using `apply`, make a table that's a copy of `vc_compensation` with one additional column called `Base Salary ($)`.  That column should contain the result of applying `convert_base_salary_string_to_number` to the `EMPLOYEE ANNUAL BASE SALARY` column (as we did above).  Call the new table `compensation`.\n",
    "\n",
    "<!--\n",
    "BEGIN QUESTION\n",
    "name: q32\n",
    "-->"
   ]
  },
  {
   "cell_type": "code",
   "execution_count": 88,
   "metadata": {},
   "outputs": [
    {
     "data": {
      "text/html": [
       "<table border=\"1\" class=\"dataframe\">\n",
       "    <thead>\n",
       "        <tr>\n",
       "            <th>INSTITUTION NAME</th> <th>LAST NAME</th> <th>FIRST NAME</th> <th>JOB CATEGORY</th> <th>EMPLOYEE ANNUAL BASE SALARY</th> <th>EMPLOYEE HOME DEPARTMENT</th> <th>PRIMARY WORKING TITLE</th> <th>Base Salary ($)</th>\n",
       "        </tr>\n",
       "    </thead>\n",
       "    <tbody>\n",
       "        <tr>\n",
       "            <td>NCCU            </td> <td>Abegunrin</td> <td>Abiodun   </td> <td>Chief Facilities Officer               </td> <td>$160000                    </td> <td>Building Maintenace           </td> <td>Associate Vice Chancellor Facilities Management (Time-Li ...</td> <td>160000         </td>\n",
       "        </tr>\n",
       "        <tr>\n",
       "            <td>WSSU            </td> <td>Afolayan </td> <td>LaTanya   </td> <td>Chief Development / Advancement Officer</td> <td>$145000                    </td> <td>University Advancement        </td> <td>Vice Chancellor for University Advancement                  </td> <td>145000         </td>\n",
       "        </tr>\n",
       "        <tr>\n",
       "            <td>UNC-CH          </td> <td>Agostini </td> <td>Stephen   </td> <td>Chief Financial Services Officer       </td> <td>$315000                    </td> <td>AVC Finance and Budget        </td> <td>Associate Vice Chancellor                                   </td> <td>315000         </td>\n",
       "        </tr>\n",
       "        <tr>\n",
       "            <td>UNCG            </td> <td>Akens    </td> <td>Catherine </td> <td>Chief Student Affairs Officer          </td> <td>$210000                    </td> <td>Student Affairs               </td> <td>Vice Chancellor                                             </td> <td>210000         </td>\n",
       "        </tr>\n",
       "        <tr>\n",
       "            <td>NCCU            </td> <td>Anderson </td> <td>Yolanda   </td> <td>Professor                              </td> <td>$148546                    </td> <td>Office of Academic Affairs    </td> <td>Associate Vice Chancellor Academic Affairs                  </td> <td>148546         </td>\n",
       "        </tr>\n",
       "        <tr>\n",
       "            <td>NCSU            </td> <td>Arden    </td> <td>Warwick   </td> <td>Executive Vice Chancellor              </td> <td>$454555                    </td> <td>Exec Vice Chancellor & Provost</td> <td>Exec Vice Chancellor & Provost                              </td> <td>454555         </td>\n",
       "        </tr>\n",
       "        <tr>\n",
       "            <td>UNCC            </td> <td>Bailey   </td> <td>Kevin     </td> <td>Chief Student Affairs Officer          </td> <td>$225000                    </td> <td>Student Affairs VC            </td> <td>Vice Chancellor Student Affair                              </td> <td>225000         </td>\n",
       "        </tr>\n",
       "        <tr>\n",
       "            <td>UNC-CH          </td> <td>BARKER   </td> <td>JAMES     </td> <td>Chief Information / IT Officer         </td> <td>$325000                    </td> <td>ITS - VC - CIO                </td> <td>Vice Chancellor                                             </td> <td>325000         </td>\n",
       "        </tr>\n",
       "        <tr>\n",
       "            <td>UNC-CH          </td> <td>Battle   </td> <td>George    </td> <td>Vice Chancellor                        </td> <td>$327191                    </td> <td>VC Instit Integ and Rsk Mgmt  </td> <td>Vice Chancellor                                             </td> <td>327191         </td>\n",
       "        </tr>\n",
       "        <tr>\n",
       "            <td>NCSU            </td> <td>Bhada    </td> <td>Carrie    </td> <td>Assoc/Asst Vice Chancellor             </td> <td>$196000                    </td> <td>University Development        </td> <td>Asst Vice Chancellor                                        </td> <td>196000         </td>\n",
       "        </tr>\n",
       "    </tbody>\n",
       "</table>\n",
       "<p>... (147 rows omitted)</p>"
      ],
      "text/plain": [
       "INSTITUTION NAME | LAST NAME | FIRST NAME | JOB CATEGORY                            | EMPLOYEE ANNUAL BASE SALARY | EMPLOYEE HOME DEPARTMENT       | PRIMARY WORKING TITLE                                        | Base Salary ($)\n",
       "NCCU             | Abegunrin | Abiodun    | Chief Facilities Officer                | $160000                     | Building Maintenace            | Associate Vice Chancellor Facilities Management (Time-Li ... | 160000\n",
       "WSSU             | Afolayan  | LaTanya    | Chief Development / Advancement Officer | $145000                     | University Advancement         | Vice Chancellor for University Advancement                   | 145000\n",
       "UNC-CH           | Agostini  | Stephen    | Chief Financial Services Officer        | $315000                     | AVC Finance and Budget         | Associate Vice Chancellor                                    | 315000\n",
       "UNCG             | Akens     | Catherine  | Chief Student Affairs Officer           | $210000                     | Student Affairs                | Vice Chancellor                                              | 210000\n",
       "NCCU             | Anderson  | Yolanda    | Professor                               | $148546                     | Office of Academic Affairs     | Associate Vice Chancellor Academic Affairs                   | 148546\n",
       "NCSU             | Arden     | Warwick    | Executive Vice Chancellor               | $454555                     | Exec Vice Chancellor & Provost | Exec Vice Chancellor & Provost                               | 454555\n",
       "UNCC             | Bailey    | Kevin      | Chief Student Affairs Officer           | $225000                     | Student Affairs VC             | Vice Chancellor Student Affair                               | 225000\n",
       "UNC-CH           | BARKER    | JAMES      | Chief Information / IT Officer          | $325000                     | ITS - VC - CIO                 | Vice Chancellor                                              | 325000\n",
       "UNC-CH           | Battle    | George     | Vice Chancellor                         | $327191                     | VC Instit Integ and Rsk Mgmt   | Vice Chancellor                                              | 327191\n",
       "NCSU             | Bhada     | Carrie     | Assoc/Asst Vice Chancellor              | $196000                     | University Development         | Asst Vice Chancellor                                         | 196000\n",
       "... (147 rows omitted)"
      ]
     },
     "execution_count": 88,
     "metadata": {},
     "output_type": "execute_result"
    }
   ],
   "source": [
    "compensation = vc_compensation.with_column(\n",
    "    \"Base Salary ($)\", vc_compensation.apply(convert_base_salary_string_to_number, \"EMPLOYEE ANNUAL BASE SALARY\"))\n",
    "compensation"
   ]
  },
  {
   "cell_type": "markdown",
   "metadata": {},
   "source": [
    "Now that we have all the pays as numbers, we can learn more about them through computation.\n",
    "\n",
    "**Question 3.3.** Compute the average base salary of the Vice Chancellors in the dataset (assume that everyone in the data is a Vice Chancellor).\n",
    "\n",
    "<!--\n",
    "BEGIN QUESTION\n",
    "name: q33\n",
    "-->"
   ]
  },
  {
   "cell_type": "code",
   "execution_count": 90,
   "metadata": {},
   "outputs": [
    {
     "data": {
      "text/plain": [
       "199322.82165605095"
      ]
     },
     "execution_count": 90,
     "metadata": {},
     "output_type": "execute_result"
    }
   ],
   "source": [
    "average_base_salary = np.average(compensation.column(\"Base Salary ($)\"))\n",
    "average_base_salary"
   ]
  },
  {
   "cell_type": "markdown",
   "metadata": {
    "for_assignment_type": "solution"
   },
   "source": [
    "**Why is `apply` useful?**\n",
    "\n",
    "For operations like arithmetic, or the functions in the NumPy library, you don't need to use `apply`, because they automatically work on each element of an array.  But there are many things that don't.  The string manipulation we did in today's lab is one example.  Since you can write any code you want in a function, `apply` gives you total control over how you operate on data."
   ]
  },
  {
   "cell_type": "markdown",
   "metadata": {},
   "source": [
    "## 4. Histograms\n",
    "Earlier, we computed the average pay among the 157 Vice Chancellors in our dataset.  The average doesn't tell us everything about the amounts Vice Chancellors are paid, though.  Maybe just a few Vice Chancellors make the bulk of the money.\n",
    "\n",
    "We can use a *histogram* method to display the *distribution* of a set of numbers.  The table method `hist` takes a single argument, the name of a column of numbers.  It produces a histogram of the numbers in that column.\n",
    "\n",
    "**Question 4.1.** Make a histogram of the base salary of the Vice Chancellors in `compensation`. Check with your neighbor or a staff member to make sure you have the right plot. Construct the bins of your histogram to begin at \\\\$50,000 and have bin widths of \\\\$50,000.\n",
    "\n",
    "*Note:* When you answer this question, you may encounter a red box appearing below your code cell that says something like `FixedFormatter should only be used together with FixedLocator`. Don't worry too much about the message. Warnings are raised by Python when it encounters an unusual condition in your code, but the condition is not severe enough to warrant throwing an error. "
   ]
  },
  {
   "cell_type": "code",
   "execution_count": 105,
   "metadata": {},
   "outputs": [
    {
     "data": {
      "image/png": "[encoded data removed]",
      "text/plain": [
       "<Figure size 600x400 with 1 Axes>"
      ]
     },
     "metadata": {},
     "output_type": "display_data"
    }
   ],
   "source": [
    "compensation.hist(\"Base Salary ($)\", bins = np.arange(50000, max(compensation.column(\"Base Salary ($)\")),50000))"
   ]
  },
  {
   "cell_type": "markdown",
   "metadata": {},
   "source": [
    "**Question 4.2.** How many Vice Chancellors made more than $300,000 in base salary? First find the value using code\n",
    "\n",
    "*Hint:* Use the table method `where` and the property `num_rows`.\n",
    "\n",
    "<!--\n",
    "BEGIN QUESTION\n",
    "name: q42\n",
    "-->"
   ]
  },
  {
   "cell_type": "code",
   "execution_count": 107,
   "metadata": {},
   "outputs": [
    {
     "data": {
      "text/plain": [
       "20"
      ]
     },
     "execution_count": 107,
     "metadata": {},
     "output_type": "execute_result"
    }
   ],
   "source": [
    "num_vcs_more_than_300k = compensation.where(\"Base Salary ($)\", are.above(300000)).num_rows\n",
    "num_vcs_more_than_300k"
   ]
  },
  {
   "cell_type": "markdown",
   "metadata": {},
   "source": [
    "**Question 4.3.** How could you use the histogram to determine how many Vice Chancellors made more than $300,000 in base salary?\n",
    "\n",
    "<!--\n",
    "BEGIN QUESTION\n",
    "name: q43\n",
    "-->"
   ]
  },
  {
   "cell_type": "markdown",
   "metadata": {},
   "source": [
    "Look at the bins from 300,000-350,000 onwards, and add up their counts after accounting for price per unit."
   ]
  }
 ],
 "metadata": {
  "kernelspec": {
   "display_name": "Python 3",
   "language": "python",
   "name": "python3"
  },
  "language_info": {
   "codemirror_mode": {
    "name": "ipython",
    "version": 3
   },
   "file_extension": ".py",
   "mimetype": "text/x-python",
   "name": "python",
   "nbconvert_exporter": "python",
   "pygments_lexer": "ipython3",
   "version": "3.12.4"
  }
 },
 "nbformat": 4,
 "nbformat_minor": 4
}
